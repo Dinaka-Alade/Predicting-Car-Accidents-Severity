{
 "cells": [
  {
   "cell_type": "code",
   "execution_count": 1,
   "id": "d9d1b5cc",
   "metadata": {},
   "outputs": [],
   "source": [
    "import pandas as pd\n",
    "import matplotlib.pyplot as plt\n",
    "import seaborn as sns"
   ]
  },
  {
   "cell_type": "code",
   "execution_count": 2,
   "id": "9fadaccb",
   "metadata": {},
   "outputs": [
    {
     "data": {
      "text/html": [
       "<div>\n",
       "<style scoped>\n",
       "    .dataframe tbody tr th:only-of-type {\n",
       "        vertical-align: middle;\n",
       "    }\n",
       "\n",
       "    .dataframe tbody tr th {\n",
       "        vertical-align: top;\n",
       "    }\n",
       "\n",
       "    .dataframe thead th {\n",
       "        text-align: right;\n",
       "    }\n",
       "</style>\n",
       "<table border=\"1\" class=\"dataframe\">\n",
       "  <thead>\n",
       "    <tr style=\"text-align: right;\">\n",
       "      <th></th>\n",
       "      <th>accident_index</th>\n",
       "      <th>accident_year</th>\n",
       "      <th>casualty_class</th>\n",
       "      <th>sex_of_casualty</th>\n",
       "      <th>age_band_of_casualty</th>\n",
       "      <th>casualty_severity</th>\n",
       "      <th>pedestrian_location</th>\n",
       "      <th>pedestrian_movement</th>\n",
       "      <th>car_passenger</th>\n",
       "      <th>bus_or_coach_passenger</th>\n",
       "      <th>pedestrian_road_maintenance_worker</th>\n",
       "      <th>casualty_type</th>\n",
       "      <th>casualty_home_area_type</th>\n",
       "      <th>casualty_imd_decile</th>\n",
       "    </tr>\n",
       "  </thead>\n",
       "  <tbody>\n",
       "    <tr>\n",
       "      <th>0</th>\n",
       "      <td>201001BS70003</td>\n",
       "      <td>2010</td>\n",
       "      <td>1</td>\n",
       "      <td>1</td>\n",
       "      <td>6</td>\n",
       "      <td>3</td>\n",
       "      <td>0</td>\n",
       "      <td>0</td>\n",
       "      <td>0</td>\n",
       "      <td>0</td>\n",
       "      <td>0</td>\n",
       "      <td>1</td>\n",
       "      <td>1</td>\n",
       "      <td>-1</td>\n",
       "    </tr>\n",
       "    <tr>\n",
       "      <th>1</th>\n",
       "      <td>201001BS70004</td>\n",
       "      <td>2010</td>\n",
       "      <td>3</td>\n",
       "      <td>1</td>\n",
       "      <td>8</td>\n",
       "      <td>3</td>\n",
       "      <td>4</td>\n",
       "      <td>3</td>\n",
       "      <td>0</td>\n",
       "      <td>0</td>\n",
       "      <td>2</td>\n",
       "      <td>0</td>\n",
       "      <td>1</td>\n",
       "      <td>-1</td>\n",
       "    </tr>\n",
       "    <tr>\n",
       "      <th>2</th>\n",
       "      <td>201001BS70006</td>\n",
       "      <td>2010</td>\n",
       "      <td>1</td>\n",
       "      <td>1</td>\n",
       "      <td>6</td>\n",
       "      <td>3</td>\n",
       "      <td>0</td>\n",
       "      <td>0</td>\n",
       "      <td>0</td>\n",
       "      <td>0</td>\n",
       "      <td>0</td>\n",
       "      <td>1</td>\n",
       "      <td>1</td>\n",
       "      <td>-1</td>\n",
       "    </tr>\n",
       "    <tr>\n",
       "      <th>3</th>\n",
       "      <td>201001BS70007</td>\n",
       "      <td>2010</td>\n",
       "      <td>2</td>\n",
       "      <td>1</td>\n",
       "      <td>-1</td>\n",
       "      <td>3</td>\n",
       "      <td>0</td>\n",
       "      <td>0</td>\n",
       "      <td>1</td>\n",
       "      <td>0</td>\n",
       "      <td>0</td>\n",
       "      <td>9</td>\n",
       "      <td>1</td>\n",
       "      <td>-1</td>\n",
       "    </tr>\n",
       "    <tr>\n",
       "      <th>4</th>\n",
       "      <td>201001BS70008</td>\n",
       "      <td>2010</td>\n",
       "      <td>2</td>\n",
       "      <td>1</td>\n",
       "      <td>6</td>\n",
       "      <td>3</td>\n",
       "      <td>0</td>\n",
       "      <td>0</td>\n",
       "      <td>0</td>\n",
       "      <td>0</td>\n",
       "      <td>0</td>\n",
       "      <td>5</td>\n",
       "      <td>1</td>\n",
       "      <td>-1</td>\n",
       "    </tr>\n",
       "  </tbody>\n",
       "</table>\n",
       "</div>"
      ],
      "text/plain": [
       "  accident_index  accident_year  casualty_class  sex_of_casualty  \\\n",
       "0  201001BS70003           2010               1                1   \n",
       "1  201001BS70004           2010               3                1   \n",
       "2  201001BS70006           2010               1                1   \n",
       "3  201001BS70007           2010               2                1   \n",
       "4  201001BS70008           2010               2                1   \n",
       "\n",
       "   age_band_of_casualty  casualty_severity  pedestrian_location  \\\n",
       "0                     6                  3                    0   \n",
       "1                     8                  3                    4   \n",
       "2                     6                  3                    0   \n",
       "3                    -1                  3                    0   \n",
       "4                     6                  3                    0   \n",
       "\n",
       "   pedestrian_movement  car_passenger  bus_or_coach_passenger  \\\n",
       "0                    0              0                       0   \n",
       "1                    3              0                       0   \n",
       "2                    0              0                       0   \n",
       "3                    0              1                       0   \n",
       "4                    0              0                       0   \n",
       "\n",
       "   pedestrian_road_maintenance_worker  casualty_type  casualty_home_area_type  \\\n",
       "0                                   0              1                        1   \n",
       "1                                   2              0                        1   \n",
       "2                                   0              1                        1   \n",
       "3                                   0              9                        1   \n",
       "4                                   0              5                        1   \n",
       "\n",
       "   casualty_imd_decile  \n",
       "0                   -1  \n",
       "1                   -1  \n",
       "2                   -1  \n",
       "3                   -1  \n",
       "4                   -1  "
      ]
     },
     "execution_count": 2,
     "metadata": {},
     "output_type": "execute_result"
    }
   ],
   "source": [
    "#import cleaned casualty data\n",
    "casu = pd.read_csv('updated_casu_data.csv', low_memory=False)\n",
    "casu.head()"
   ]
  },
  {
   "cell_type": "code",
   "execution_count": 3,
   "id": "fe6aff6c",
   "metadata": {},
   "outputs": [
    {
     "data": {
      "text/html": [
       "<div>\n",
       "<style scoped>\n",
       "    .dataframe tbody tr th:only-of-type {\n",
       "        vertical-align: middle;\n",
       "    }\n",
       "\n",
       "    .dataframe tbody tr th {\n",
       "        vertical-align: top;\n",
       "    }\n",
       "\n",
       "    .dataframe thead th {\n",
       "        text-align: right;\n",
       "    }\n",
       "</style>\n",
       "<table border=\"1\" class=\"dataframe\">\n",
       "  <thead>\n",
       "    <tr style=\"text-align: right;\">\n",
       "      <th></th>\n",
       "      <th>accident_index</th>\n",
       "      <th>accident_year</th>\n",
       "      <th>police_force</th>\n",
       "      <th>accident_severity</th>\n",
       "      <th>number_of_vehicles</th>\n",
       "      <th>number_of_casualties</th>\n",
       "      <th>date</th>\n",
       "      <th>day_of_week</th>\n",
       "      <th>time</th>\n",
       "      <th>local_authority_district</th>\n",
       "      <th>...</th>\n",
       "      <th>light_conditions</th>\n",
       "      <th>weather_conditions</th>\n",
       "      <th>road_surface_conditions</th>\n",
       "      <th>special_conditions_at_site</th>\n",
       "      <th>carriageway_hazards</th>\n",
       "      <th>urban_or_rural_area</th>\n",
       "      <th>did_police_officer_attend_scene_of_accident</th>\n",
       "      <th>trunk_road_flag</th>\n",
       "      <th>accident_month</th>\n",
       "      <th>hour</th>\n",
       "    </tr>\n",
       "  </thead>\n",
       "  <tbody>\n",
       "    <tr>\n",
       "      <th>0</th>\n",
       "      <td>201001BS70003</td>\n",
       "      <td>2010</td>\n",
       "      <td>1</td>\n",
       "      <td>3</td>\n",
       "      <td>2</td>\n",
       "      <td>1</td>\n",
       "      <td>2010-11-01</td>\n",
       "      <td>2</td>\n",
       "      <td>2023-01-04 07:30:00</td>\n",
       "      <td>12</td>\n",
       "      <td>...</td>\n",
       "      <td>1</td>\n",
       "      <td>8</td>\n",
       "      <td>2</td>\n",
       "      <td>0</td>\n",
       "      <td>0</td>\n",
       "      <td>1</td>\n",
       "      <td>1</td>\n",
       "      <td>2</td>\n",
       "      <td>11</td>\n",
       "      <td>7</td>\n",
       "    </tr>\n",
       "    <tr>\n",
       "      <th>1</th>\n",
       "      <td>201001BS70004</td>\n",
       "      <td>2010</td>\n",
       "      <td>1</td>\n",
       "      <td>3</td>\n",
       "      <td>1</td>\n",
       "      <td>1</td>\n",
       "      <td>2010-11-01</td>\n",
       "      <td>2</td>\n",
       "      <td>2023-01-04 18:35:00</td>\n",
       "      <td>12</td>\n",
       "      <td>...</td>\n",
       "      <td>4</td>\n",
       "      <td>2</td>\n",
       "      <td>2</td>\n",
       "      <td>0</td>\n",
       "      <td>0</td>\n",
       "      <td>1</td>\n",
       "      <td>1</td>\n",
       "      <td>2</td>\n",
       "      <td>11</td>\n",
       "      <td>18</td>\n",
       "    </tr>\n",
       "    <tr>\n",
       "      <th>2</th>\n",
       "      <td>201001BS70006</td>\n",
       "      <td>2010</td>\n",
       "      <td>1</td>\n",
       "      <td>3</td>\n",
       "      <td>2</td>\n",
       "      <td>1</td>\n",
       "      <td>2010-12-01</td>\n",
       "      <td>3</td>\n",
       "      <td>2023-01-04 10:22:00</td>\n",
       "      <td>12</td>\n",
       "      <td>...</td>\n",
       "      <td>1</td>\n",
       "      <td>1</td>\n",
       "      <td>1</td>\n",
       "      <td>0</td>\n",
       "      <td>0</td>\n",
       "      <td>1</td>\n",
       "      <td>1</td>\n",
       "      <td>2</td>\n",
       "      <td>12</td>\n",
       "      <td>10</td>\n",
       "    </tr>\n",
       "    <tr>\n",
       "      <th>3</th>\n",
       "      <td>201001BS70007</td>\n",
       "      <td>2010</td>\n",
       "      <td>1</td>\n",
       "      <td>3</td>\n",
       "      <td>2</td>\n",
       "      <td>1</td>\n",
       "      <td>2010-02-01</td>\n",
       "      <td>7</td>\n",
       "      <td>2023-01-04 21:21:00</td>\n",
       "      <td>12</td>\n",
       "      <td>...</td>\n",
       "      <td>4</td>\n",
       "      <td>1</td>\n",
       "      <td>1</td>\n",
       "      <td>0</td>\n",
       "      <td>0</td>\n",
       "      <td>1</td>\n",
       "      <td>1</td>\n",
       "      <td>2</td>\n",
       "      <td>2</td>\n",
       "      <td>21</td>\n",
       "    </tr>\n",
       "    <tr>\n",
       "      <th>4</th>\n",
       "      <td>201001BS70008</td>\n",
       "      <td>2010</td>\n",
       "      <td>1</td>\n",
       "      <td>3</td>\n",
       "      <td>2</td>\n",
       "      <td>1</td>\n",
       "      <td>2010-04-01</td>\n",
       "      <td>2</td>\n",
       "      <td>2023-01-04 20:35:00</td>\n",
       "      <td>12</td>\n",
       "      <td>...</td>\n",
       "      <td>4</td>\n",
       "      <td>1</td>\n",
       "      <td>2</td>\n",
       "      <td>0</td>\n",
       "      <td>0</td>\n",
       "      <td>1</td>\n",
       "      <td>1</td>\n",
       "      <td>2</td>\n",
       "      <td>4</td>\n",
       "      <td>20</td>\n",
       "    </tr>\n",
       "  </tbody>\n",
       "</table>\n",
       "<p>5 rows × 30 columns</p>\n",
       "</div>"
      ],
      "text/plain": [
       "  accident_index  accident_year  police_force  accident_severity  \\\n",
       "0  201001BS70003           2010             1                  3   \n",
       "1  201001BS70004           2010             1                  3   \n",
       "2  201001BS70006           2010             1                  3   \n",
       "3  201001BS70007           2010             1                  3   \n",
       "4  201001BS70008           2010             1                  3   \n",
       "\n",
       "   number_of_vehicles  number_of_casualties        date  day_of_week  \\\n",
       "0                   2                     1  2010-11-01            2   \n",
       "1                   1                     1  2010-11-01            2   \n",
       "2                   2                     1  2010-12-01            3   \n",
       "3                   2                     1  2010-02-01            7   \n",
       "4                   2                     1  2010-04-01            2   \n",
       "\n",
       "                  time  local_authority_district  ...  light_conditions  \\\n",
       "0  2023-01-04 07:30:00                        12  ...                 1   \n",
       "1  2023-01-04 18:35:00                        12  ...                 4   \n",
       "2  2023-01-04 10:22:00                        12  ...                 1   \n",
       "3  2023-01-04 21:21:00                        12  ...                 4   \n",
       "4  2023-01-04 20:35:00                        12  ...                 4   \n",
       "\n",
       "   weather_conditions  road_surface_conditions  special_conditions_at_site  \\\n",
       "0                   8                        2                           0   \n",
       "1                   2                        2                           0   \n",
       "2                   1                        1                           0   \n",
       "3                   1                        1                           0   \n",
       "4                   1                        2                           0   \n",
       "\n",
       "   carriageway_hazards  urban_or_rural_area  \\\n",
       "0                    0                    1   \n",
       "1                    0                    1   \n",
       "2                    0                    1   \n",
       "3                    0                    1   \n",
       "4                    0                    1   \n",
       "\n",
       "   did_police_officer_attend_scene_of_accident  trunk_road_flag  \\\n",
       "0                                            1                2   \n",
       "1                                            1                2   \n",
       "2                                            1                2   \n",
       "3                                            1                2   \n",
       "4                                            1                2   \n",
       "\n",
       "   accident_month  hour  \n",
       "0              11     7  \n",
       "1              11    18  \n",
       "2              12    10  \n",
       "3               2    21  \n",
       "4               4    20  \n",
       "\n",
       "[5 rows x 30 columns]"
      ]
     },
     "execution_count": 3,
     "metadata": {},
     "output_type": "execute_result"
    }
   ],
   "source": [
    "acc = pd.read_csv('updated_acc_data.csv', low_memory=False)\n",
    "acc.head()"
   ]
  },
  {
   "cell_type": "code",
   "execution_count": 4,
   "id": "5ff7f86f",
   "metadata": {},
   "outputs": [
    {
     "data": {
      "text/plain": [
       "(2082582, 14)"
      ]
     },
     "execution_count": 4,
     "metadata": {},
     "output_type": "execute_result"
    }
   ],
   "source": [
    "casu.shape"
   ]
  },
  {
   "cell_type": "code",
   "execution_count": 5,
   "id": "20d14d79",
   "metadata": {},
   "outputs": [
    {
     "data": {
      "text/plain": [
       "(1575343, 30)"
      ]
     },
     "execution_count": 5,
     "metadata": {},
     "output_type": "execute_result"
    }
   ],
   "source": [
    "acc.shape"
   ]
  },
  {
   "cell_type": "code",
   "execution_count": 6,
   "id": "0eb56e0a",
   "metadata": {},
   "outputs": [
    {
     "data": {
      "text/plain": [
       "accident_index                        0\n",
       "accident_year                         0\n",
       "casualty_class                        0\n",
       "sex_of_casualty                       0\n",
       "age_band_of_casualty                  0\n",
       "casualty_severity                     0\n",
       "pedestrian_location                   0\n",
       "pedestrian_movement                   0\n",
       "car_passenger                         0\n",
       "bus_or_coach_passenger                0\n",
       "pedestrian_road_maintenance_worker    0\n",
       "casualty_type                         0\n",
       "casualty_home_area_type               0\n",
       "casualty_imd_decile                   0\n",
       "dtype: int64"
      ]
     },
     "execution_count": 6,
     "metadata": {},
     "output_type": "execute_result"
    }
   ],
   "source": [
    "casu.isna().sum()"
   ]
  },
  {
   "cell_type": "code",
   "execution_count": 7,
   "id": "5379ab49",
   "metadata": {},
   "outputs": [
    {
     "data": {
      "text/plain": [
       "accident_index                                 0\n",
       "accident_year                                  0\n",
       "police_force                                   0\n",
       "accident_severity                              0\n",
       "number_of_vehicles                             0\n",
       "number_of_casualties                           0\n",
       "date                                           0\n",
       "day_of_week                                    0\n",
       "time                                           0\n",
       "local_authority_district                       0\n",
       "first_road_class                               0\n",
       "first_road_number                              0\n",
       "road_type                                      0\n",
       "speed_limit                                    0\n",
       "junction_detail                                0\n",
       "junction_control                               0\n",
       "second_road_class                              0\n",
       "second_road_number                             0\n",
       "pedestrian_crossing_human_control              0\n",
       "pedestrian_crossing_physical_facilities        0\n",
       "light_conditions                               0\n",
       "weather_conditions                             0\n",
       "road_surface_conditions                        0\n",
       "special_conditions_at_site                     0\n",
       "carriageway_hazards                            0\n",
       "urban_or_rural_area                            0\n",
       "did_police_officer_attend_scene_of_accident    0\n",
       "trunk_road_flag                                0\n",
       "accident_month                                 0\n",
       "hour                                           0\n",
       "dtype: int64"
      ]
     },
     "execution_count": 7,
     "metadata": {},
     "output_type": "execute_result"
    }
   ],
   "source": [
    "acc.isna().sum()"
   ]
  },
  {
   "cell_type": "code",
   "execution_count": 8,
   "id": "ab201348",
   "metadata": {},
   "outputs": [
    {
     "data": {
      "text/plain": [
       "accident_index                        object\n",
       "accident_year                          int64\n",
       "casualty_class                         int64\n",
       "sex_of_casualty                        int64\n",
       "age_band_of_casualty                   int64\n",
       "casualty_severity                      int64\n",
       "pedestrian_location                    int64\n",
       "pedestrian_movement                    int64\n",
       "car_passenger                          int64\n",
       "bus_or_coach_passenger                 int64\n",
       "pedestrian_road_maintenance_worker     int64\n",
       "casualty_type                          int64\n",
       "casualty_home_area_type                int64\n",
       "casualty_imd_decile                    int64\n",
       "dtype: object"
      ]
     },
     "execution_count": 8,
     "metadata": {},
     "output_type": "execute_result"
    }
   ],
   "source": [
    "casu.dtypes"
   ]
  },
  {
   "cell_type": "code",
   "execution_count": 9,
   "id": "7eac93ea",
   "metadata": {},
   "outputs": [
    {
     "data": {
      "text/plain": [
       "accident_index                                  object\n",
       "accident_year                                    int64\n",
       "police_force                                     int64\n",
       "accident_severity                                int64\n",
       "number_of_vehicles                               int64\n",
       "number_of_casualties                             int64\n",
       "date                                            object\n",
       "day_of_week                                      int64\n",
       "time                                            object\n",
       "local_authority_district                         int64\n",
       "first_road_class                                 int64\n",
       "first_road_number                                int64\n",
       "road_type                                        int64\n",
       "speed_limit                                    float64\n",
       "junction_detail                                  int64\n",
       "junction_control                                 int64\n",
       "second_road_class                                int64\n",
       "second_road_number                               int64\n",
       "pedestrian_crossing_human_control                int64\n",
       "pedestrian_crossing_physical_facilities          int64\n",
       "light_conditions                                 int64\n",
       "weather_conditions                               int64\n",
       "road_surface_conditions                          int64\n",
       "special_conditions_at_site                       int64\n",
       "carriageway_hazards                              int64\n",
       "urban_or_rural_area                              int64\n",
       "did_police_officer_attend_scene_of_accident      int64\n",
       "trunk_road_flag                                  int64\n",
       "accident_month                                   int64\n",
       "hour                                             int64\n",
       "dtype: object"
      ]
     },
     "execution_count": 9,
     "metadata": {},
     "output_type": "execute_result"
    }
   ],
   "source": [
    "acc.dtypes"
   ]
  },
  {
   "cell_type": "code",
   "execution_count": 10,
   "id": "82b645ac",
   "metadata": {},
   "outputs": [],
   "source": [
    "#reconvert the data types for accidents\n",
    "acc['date'] = pd.to_datetime(acc['date'])\n",
    "acc['time'] = pd.to_datetime(acc['time'])\n",
    "acc['accident_month'] = acc['date'].dt.month\n",
    "acc['hour'] = acc['time'].dt.hour"
   ]
  },
  {
   "cell_type": "code",
   "execution_count": 11,
   "id": "69ac44b6",
   "metadata": {},
   "outputs": [],
   "source": [
    "acc['police_force'] = acc['police_force'].astype('category')\n",
    "acc['accident_severity'] = acc['accident_severity'].astype('category')\n",
    "acc['local_authority_district'] = acc['local_authority_district'].astype('category')\n",
    "acc['first_road_class'] = acc['first_road_class'].astype('category')\n",
    "acc['first_road_number'] = acc['first_road_number'].astype('category')\n",
    "acc['road_type'] = acc['road_type'].astype('category')\n",
    "acc['junction_detail'] = acc['junction_detail'].astype('category')\n",
    "acc['junction_control'] = acc['junction_control'].astype('category')\n",
    "acc['second_road_class'] = acc['second_road_class'].astype('category')\n",
    "acc['second_road_number'] = acc['second_road_number'].astype('category')\n",
    "acc['pedestrian_crossing_human_control'] = acc['pedestrian_crossing_human_control'].astype('category')\n",
    "acc['pedestrian_crossing_physical_facilities'] = acc['pedestrian_crossing_physical_facilities'].astype('category')\n",
    "acc['light_conditions'] = acc['light_conditions'].astype('category')\n",
    "acc['weather_conditions'] = acc['weather_conditions'].astype('category')\n",
    "acc['road_surface_conditions'] = acc['road_surface_conditions'].astype('category')\n",
    "acc['special_conditions_at_site'] = acc['special_conditions_at_site'].astype('category')\n",
    "acc['carriageway_hazards'] = acc['carriageway_hazards'].astype('category')\n",
    "acc['urban_or_rural_area'] = acc['urban_or_rural_area'].astype('category')\n",
    "acc['did_police_officer_attend_scene_of_accident'] = acc['did_police_officer_attend_scene_of_accident'].astype('category')\n",
    "acc['trunk_road_flag'] = acc['trunk_road_flag'].astype('category')\n",
    "acc['accident_month'] = acc['accident_month'].astype('category')\n",
    "acc['hour'] = acc['hour'].astype('category')"
   ]
  },
  {
   "cell_type": "code",
   "execution_count": 12,
   "id": "f3ca386d",
   "metadata": {},
   "outputs": [],
   "source": [
    "#reconvert the data types for casualties\n",
    "casu['casualty_class'] = casu['casualty_class'].astype('category')\n",
    "casu['sex_of_casualty'] = casu['sex_of_casualty'].astype('category')\n",
    "casu['age_band_of_casualty'] = casu['age_band_of_casualty'].astype('category')\n",
    "casu['casualty_severity'] =casu['casualty_severity'].astype('category')\n",
    "casu['pedestrian_location'] = casu['pedestrian_location'].astype('category')\n",
    "casu['pedestrian_movement'] = casu['pedestrian_movement'].astype('category')\n",
    "casu['car_passenger'] = casu['car_passenger'].astype('category')\n",
    "casu['bus_or_coach_passenger'] = casu['bus_or_coach_passenger'].astype('category')\n",
    "casu['pedestrian_road_maintenance_worker'] = casu['pedestrian_road_maintenance_worker'].astype('category')\n",
    "casu['casualty_type'] = casu['casualty_type'].astype('category')\n",
    "casu['casualty_home_area_type'] = casu['casualty_home_area_type'].astype('category')\n",
    "casu['casualty_imd_decile'] = casu['casualty_imd_decile'].astype('category')"
   ]
  },
  {
   "cell_type": "code",
   "execution_count": 13,
   "id": "6f6cda9c",
   "metadata": {},
   "outputs": [
    {
     "data": {
      "text/plain": [
       "accident_index                                         object\n",
       "accident_year                                           int64\n",
       "police_force                                         category\n",
       "accident_severity                                    category\n",
       "number_of_vehicles                                      int64\n",
       "number_of_casualties                                    int64\n",
       "date                                           datetime64[ns]\n",
       "day_of_week                                             int64\n",
       "time                                           datetime64[ns]\n",
       "local_authority_district                             category\n",
       "first_road_class                                     category\n",
       "first_road_number                                    category\n",
       "road_type                                            category\n",
       "speed_limit                                           float64\n",
       "junction_detail                                      category\n",
       "junction_control                                     category\n",
       "second_road_class                                    category\n",
       "second_road_number                                   category\n",
       "pedestrian_crossing_human_control                    category\n",
       "pedestrian_crossing_physical_facilities              category\n",
       "light_conditions                                     category\n",
       "weather_conditions                                   category\n",
       "road_surface_conditions                              category\n",
       "special_conditions_at_site                           category\n",
       "carriageway_hazards                                  category\n",
       "urban_or_rural_area                                  category\n",
       "did_police_officer_attend_scene_of_accident          category\n",
       "trunk_road_flag                                      category\n",
       "accident_month                                       category\n",
       "hour                                                 category\n",
       "dtype: object"
      ]
     },
     "execution_count": 13,
     "metadata": {},
     "output_type": "execute_result"
    }
   ],
   "source": [
    "acc.dtypes"
   ]
  },
  {
   "cell_type": "code",
   "execution_count": 14,
   "id": "5fea208e",
   "metadata": {},
   "outputs": [
    {
     "data": {
      "text/plain": [
       "accident_index                          object\n",
       "accident_year                            int64\n",
       "casualty_class                        category\n",
       "sex_of_casualty                       category\n",
       "age_band_of_casualty                  category\n",
       "casualty_severity                     category\n",
       "pedestrian_location                   category\n",
       "pedestrian_movement                   category\n",
       "car_passenger                         category\n",
       "bus_or_coach_passenger                category\n",
       "pedestrian_road_maintenance_worker    category\n",
       "casualty_type                         category\n",
       "casualty_home_area_type               category\n",
       "casualty_imd_decile                   category\n",
       "dtype: object"
      ]
     },
     "execution_count": 14,
     "metadata": {},
     "output_type": "execute_result"
    }
   ],
   "source": [
    "casu.dtypes"
   ]
  },
  {
   "cell_type": "markdown",
   "id": "71f5fbc1",
   "metadata": {},
   "source": [
    "All columns will be looked at to see the ones that have direct effects on accidents"
   ]
  },
  {
   "cell_type": "code",
   "execution_count": 15,
   "id": "e7fc9691",
   "metadata": {},
   "outputs": [
    {
     "data": {
      "text/plain": [
       "[4, 3, 6, 5, 1, 2]\n",
       "Categories (6, int64): [1, 2, 3, 4, 5, 6]"
      ]
     },
     "execution_count": 15,
     "metadata": {},
     "output_type": "execute_result"
    }
   ],
   "source": [
    "# first road class\n",
    "\n",
    "acc.first_road_class.unique()"
   ]
  },
  {
   "cell_type": "code",
   "execution_count": 16,
   "id": "a4d5df60",
   "metadata": {},
   "outputs": [
    {
     "data": {
      "text/plain": [
       "3    713171\n",
       "6    489785\n",
       "4    196092\n",
       "5    116942\n",
       "1     54979\n",
       "2      4374\n",
       "Name: first_road_class, dtype: int64"
      ]
     },
     "execution_count": 16,
     "metadata": {},
     "output_type": "execute_result"
    }
   ],
   "source": [
    "acc.first_road_class.value_counts()"
   ]
  },
  {
   "cell_type": "markdown",
   "id": "befa47ed",
   "metadata": {},
   "source": [
    "Interpretation of first road class values\n",
    "\n",
    "1 - Motorway,\n",
    "\n",
    "2 - A(M) road class, \n",
    "\n",
    "3 - A road class, \n",
    "\n",
    "4 - B road class, \n",
    "\n",
    "5 - C road class, \n",
    "\n",
    "6 - Unclassified class\n",
    "\n",
    "\n",
    "Class 3 road class has the highest count of accidents in the time frame of 12 years. It had a count of 713171 accidents. 2 road class has the least count of 4374 accidents."
   ]
  },
  {
   "cell_type": "code",
   "execution_count": 17,
   "id": "4536095e",
   "metadata": {},
   "outputs": [
    {
     "data": {
      "image/png": "[encoded data removed]",
      "text/plain": [
       "<Figure size 576x576 with 1 Axes>"
      ]
     },
     "metadata": {
      "needs_background": "light"
     },
     "output_type": "display_data"
    }
   ],
   "source": [
    "#plot the first road class\n",
    "acc.first_road_class.value_counts().plot(kind='bar', figsize=(8,8))\n",
    "plt.xlabel('First Road Class')\n",
    "plt.ylabel('Count')\n",
    "plt.title('Accident Frequency in relation to Road Class');"
   ]
  },
  {
   "cell_type": "code",
   "execution_count": 18,
   "id": "b2c24749",
   "metadata": {},
   "outputs": [
    {
     "data": {
      "text/plain": [
       "[6, 3, 4, -1, 5, 1, 2, 9, 0]\n",
       "Categories (9, int64): [-1, 0, 1, 2, ..., 4, 5, 6, 9]"
      ]
     },
     "execution_count": 18,
     "metadata": {},
     "output_type": "execute_result"
    }
   ],
   "source": [
    "# second road class\n",
    "acc.second_road_class.unique()"
   ]
  },
  {
   "cell_type": "code",
   "execution_count": 19,
   "id": "2bd23845",
   "metadata": {},
   "outputs": [
    {
     "data": {
      "text/plain": [
       "6     634529\n",
       "-1    564112\n",
       "3     158956\n",
       "0      79426\n",
       "5      65924\n",
       "4      62019\n",
       "1       9327\n",
       "2       1049\n",
       "9          1\n",
       "Name: second_road_class, dtype: int64"
      ]
     },
     "execution_count": 19,
     "metadata": {},
     "output_type": "execute_result"
    }
   ],
   "source": [
    "acc.second_road_class.value_counts()"
   ]
  },
  {
   "cell_type": "code",
   "execution_count": 20,
   "id": "6a050bc4",
   "metadata": {},
   "outputs": [
    {
     "data": {
      "image/png": "[encoded data removed]",
      "text/plain": [
       "<Figure size 576x576 with 1 Axes>"
      ]
     },
     "metadata": {
      "needs_background": "light"
     },
     "output_type": "display_data"
    }
   ],
   "source": [
    "#plot with a bar chart\n",
    "acc.second_road_class.value_counts().plot(kind='bar', figsize=(8,8))\n",
    "plt.xlabel('Second Road Class')\n",
    "plt.ylabel('Count')\n",
    "plt.title('Accident Frequency in relation to Second Road Class');"
   ]
  },
  {
   "cell_type": "markdown",
   "id": "9b197d77",
   "metadata": {},
   "source": [
    "Interpretation of Second Road Class Values\n",
    "\n",
    "0 - Not at junction or within 20 metres, \n",
    "\n",
    "1 - Motorway, \n",
    "\n",
    "2 - A(M)\n",
    "\n",
    "3 - A\n",
    "\n",
    "4 - B\n",
    "\n",
    "5 - C\n",
    "\n",
    "6 - Unclassified\n",
    "\n",
    "9 - \n",
    "\n",
    "-1 - \n",
    "\n",
    "\n",
    "Majority of the records for second road class are either unclassified or not available"
   ]
  },
  {
   "cell_type": "code",
   "execution_count": 21,
   "id": "2de98fd0",
   "metadata": {},
   "outputs": [
    {
     "data": {
      "image/png": "[encoded data removed]",
      "text/plain": [
       "<Figure size 576x576 with 1 Axes>"
      ]
     },
     "metadata": {
      "needs_background": "light"
     },
     "output_type": "display_data"
    }
   ],
   "source": [
    "#road type\n",
    "acc.groupby('road_type')['number_of_casualties'].count().plot(kind='bar', figsize=(8,8))\n",
    "plt.ylabel('Number of Casualties')\n",
    "plt.title('Road Types and the Amount of Casualties');"
   ]
  },
  {
   "cell_type": "markdown",
   "id": "82fc7fd6",
   "metadata": {},
   "source": [
    "Intepretation of Road Types\n",
    "1 - Roundabout,\n",
    "\n",
    "2 - One Way Street,\n",
    "\n",
    "3 - Dual Carriageway,\n",
    "\n",
    "6 - Single Carriageway,\n",
    "\n",
    "7 - Slip Road,\n",
    "\n",
    "9 - Unknown\n",
    "\n",
    "\n",
    "\n",
    "All road types had accident records but road type 6 had the most casualties. Road type 6 is the Single Carriageway, it could be said that single carriageways are one of the causes of car accidents."
   ]
  },
  {
   "cell_type": "code",
   "execution_count": 22,
   "id": "791e69bb",
   "metadata": {},
   "outputs": [
    {
     "data": {
      "text/plain": [
       " 30.0    983977\n",
       " 60.0    214368\n",
       " 40.0    131007\n",
       " 70.0    103836\n",
       " 20.0     80839\n",
       " 50.0     61217\n",
       "-1.0         92\n",
       " 10.0         5\n",
       " 15.0         1\n",
       " 0.0          1\n",
       "Name: speed_limit, dtype: int64"
      ]
     },
     "execution_count": 22,
     "metadata": {},
     "output_type": "execute_result"
    }
   ],
   "source": [
    "#speed limit\n",
    "acc.speed_limit.value_counts()"
   ]
  },
  {
   "cell_type": "code",
   "execution_count": 23,
   "id": "a2c1baef",
   "metadata": {},
   "outputs": [
    {
     "data": {
      "image/png": "[encoded data removed]",
      "text/plain": [
       "<Figure size 864x576 with 1 Axes>"
      ]
     },
     "metadata": {
      "needs_background": "light"
     },
     "output_type": "display_data"
    }
   ],
   "source": [
    "#use a bar plot to view the different speed limit\n",
    "acc.speed_limit.value_counts().plot(kind='bar', figsize=(12,8))\n",
    "plt.xlabel('speed_limit')\n",
    "plt.ylabel('Count')\n",
    "plt.title('Cars Speed Limit');"
   ]
  },
  {
   "cell_type": "markdown",
   "id": "aa6fd7f6",
   "metadata": {},
   "source": [
    "Most cars involved in car accidents were not above the speed limit. Only 92 were above the speed range. Majority of the car accidents were in the 30 speed limit. Over Speeding might not be the cause of accidents here then."
   ]
  },
  {
   "cell_type": "code",
   "execution_count": 24,
   "id": "ddcc11d8",
   "metadata": {},
   "outputs": [
    {
     "data": {
      "text/plain": [
       "1     1041058\n",
       "2      534283\n",
       "-1          1\n",
       "3           1\n",
       "Name: urban_or_rural_area, dtype: int64"
      ]
     },
     "execution_count": 24,
     "metadata": {},
     "output_type": "execute_result"
    }
   ],
   "source": [
    "#urban or rural\n",
    "#view the count of each location using value counts\n",
    "acc.urban_or_rural_area.value_counts()"
   ]
  },
  {
   "cell_type": "code",
   "execution_count": 25,
   "id": "8ea716bd",
   "metadata": {},
   "outputs": [
    {
     "data": {
      "image/png": "[encoded data removed]",
      "text/plain": [
       "<Figure size 576x576 with 1 Axes>"
      ]
     },
     "metadata": {
      "needs_background": "light"
     },
     "output_type": "display_data"
    }
   ],
   "source": [
    "#plot using a bar chart\n",
    "acc.urban_or_rural_area.value_counts().plot(kind='bar', figsize=(8,8))\n",
    "plt.xlabel('Urban or Rural Area')\n",
    "plt.ylabel('Count')\n",
    "plt.title('Settlements Accident Rate');"
   ]
  },
  {
   "cell_type": "markdown",
   "id": "a7aec675",
   "metadata": {},
   "source": [
    "A very large Majority of Accidents occured in the Urban Areas compared to the Rural Areas\n",
    "\n",
    "The Settlement area can be used as a feature to determine accidents.\n",
    "\n",
    "Next, what road class (first) is located in the urban and rural areas"
   ]
  },
  {
   "cell_type": "code",
   "execution_count": 26,
   "id": "9e6df646",
   "metadata": {},
   "outputs": [
    {
     "data": {
      "text/plain": [
       "[0, 6, 2, 1, 7, 3, -1, 9]\n",
       "Categories (8, int64): [-1, 0, 1, 2, 3, 6, 7, 9]"
      ]
     },
     "execution_count": 26,
     "metadata": {},
     "output_type": "execute_result"
    }
   ],
   "source": [
    "#view the carriageway hazards\n",
    "acc.carriageway_hazards.unique()"
   ]
  },
  {
   "cell_type": "markdown",
   "id": "cc77ff42",
   "metadata": {},
   "source": [
    "Interpretation of Carriageway hazards values\n",
    "0 - None,\n",
    "\n",
    "1 - Vehicle load on road\n",
    "\n",
    "2 - Other object on road\n",
    "\n",
    "3 - Previous Accident\n",
    "\n",
    "6 - Pedestrian in carriageway - not injured\n",
    "\n",
    "7 - Any animal in carriageway (except ridden horse)\n",
    "\n",
    "9 - unknown (self reported)\n",
    "\n",
    "-1 - Data missing or out of range"
   ]
  },
  {
   "cell_type": "code",
   "execution_count": 27,
   "id": "392c1d24",
   "metadata": {},
   "outputs": [
    {
     "data": {
      "text/plain": [
       "road_type    \n",
       "1          0      102578\n",
       "           2         372\n",
       "           9         285\n",
       "           1         124\n",
       "           -1        102\n",
       "           6          78\n",
       "           3          74\n",
       "           7          56\n",
       "2          0       33315\n",
       "           9         361\n",
       "           2         287\n",
       "           6         214\n",
       "           1          62\n",
       "           7          25\n",
       "           3          20\n",
       "           -1         13\n",
       "3          0      226322\n",
       "           2        2795\n",
       "           3        1145\n",
       "           7         903\n",
       "           1         686\n",
       "           9         475\n",
       "           6         325\n",
       "           -1        183\n",
       "6          0     1145359\n",
       "           2        8719\n",
       "           7        5895\n",
       "           6        2927\n",
       "           9        2468\n",
       "           1        1500\n",
       "           3        1074\n",
       "           -1        801\n",
       "7          0       18425\n",
       "           2         155\n",
       "           9         152\n",
       "           3          54\n",
       "           7          54\n",
       "           1          32\n",
       "           6          27\n",
       "           -1         24\n",
       "9          0       12706\n",
       "           9        3897\n",
       "           2         121\n",
       "           -1         60\n",
       "           7          41\n",
       "           6          26\n",
       "           1          16\n",
       "           3          10\n",
       "Name: carriageway_hazards, dtype: int64"
      ]
     },
     "execution_count": 27,
     "metadata": {},
     "output_type": "execute_result"
    }
   ],
   "source": [
    "#group the carriageway hazards and road type together\n",
    "car1 = acc.groupby(['road_type'])['carriageway_hazards'].value_counts()\n",
    "car1"
   ]
  },
  {
   "cell_type": "markdown",
   "id": "384d433f",
   "metadata": {},
   "source": [
    "From the groupby performed above, majority of the car accidents are not caused by carriageway hazards in both single and dual carriageways.\n",
    "\n",
    "Single carriageways - 1145359 accidents are not caused by carriageway hazards, Other objects on the road caused 8719 accidents while Animals in carriageway caused 5895 accidents\n",
    "\n",
    "Dual carriageways - 226322 accidents are not caused by carriageway hazards, Other objects on the road caused 2795 accidents while 1145 accidents were caused by Previous Accidents.\n",
    "\n",
    "\n",
    "To conclude, carriageway hazards is not a reliable cause of accidents."
   ]
  },
  {
   "cell_type": "code",
   "execution_count": 28,
   "id": "df96a1dd",
   "metadata": {},
   "outputs": [
    {
     "data": {
      "text/plain": [
       "0     635074\n",
       "3     485448\n",
       "6     152651\n",
       "1     135352\n",
       "8      50559\n",
       "9      49658\n",
       "5      22306\n",
       "2      20090\n",
       "7      17741\n",
       "99      6446\n",
       "-1        18\n",
       "Name: junction_detail, dtype: int64"
      ]
     },
     "execution_count": 28,
     "metadata": {},
     "output_type": "execute_result"
    }
   ],
   "source": [
    "#view the unique values of junction detail\n",
    "acc.junction_detail.value_counts()"
   ]
  },
  {
   "cell_type": "markdown",
   "id": "32a8ca2f",
   "metadata": {},
   "source": [
    "Intepretation of Junction detail values\n",
    "\n",
    "0 - Not at junction or within 20 metres, \n",
    "\n",
    "1 - Roundabout, \n",
    "\n",
    "2 - Mini-roundabout, \n",
    "\n",
    "3 - T or staggered junction, \n",
    "\n",
    "5 - Slip road, \n",
    "\n",
    "6 - Crossroads, \n",
    "\n",
    "7 - More than 4 arms (not roundabout), \n",
    "\n",
    "8 - Private drive or entrance, \n",
    "\n",
    "9 - Other junction, \n",
    "\n",
    "99 - unknown (self reported), \n",
    "\n",
    "-1 - Data missing or out of range"
   ]
  },
  {
   "cell_type": "code",
   "execution_count": 29,
   "id": "081a7d4e",
   "metadata": {},
   "outputs": [
    {
     "data": {
      "image/png": "[encoded data removed]",
      "text/plain": [
       "<Figure size 576x576 with 1 Axes>"
      ]
     },
     "metadata": {
      "needs_background": "light"
     },
     "output_type": "display_data"
    }
   ],
   "source": [
    "#plot the juction detail\n",
    "acc.junction_detail.value_counts().plot(kind='bar', figsize=(8,8))\n",
    "plt.xlabel('Junction Details')\n",
    "plt.ylabel('Count')\n",
    "plt.title('Accidents that Occured in Relation to the Junction Detail');"
   ]
  },
  {
   "cell_type": "markdown",
   "id": "c4d9255f",
   "metadata": {},
   "source": [
    "Most car accidents did not occur at junctions but the second majority of accidents occured at T or staggered junctions.\n",
    "\n",
    "To determine if this feature will be considered a ratio will be done"
   ]
  },
  {
   "cell_type": "code",
   "execution_count": 30,
   "id": "f6e62949",
   "metadata": {},
   "outputs": [
    {
     "data": {
      "text/plain": [
       "1575343"
      ]
     },
     "execution_count": 30,
     "metadata": {},
     "output_type": "execute_result"
    }
   ],
   "source": [
    "acc.junction_detail.count()"
   ]
  },
  {
   "cell_type": "code",
   "execution_count": 31,
   "id": "21cbf6fb",
   "metadata": {},
   "outputs": [
    {
     "data": {
      "text/plain": [
       "40.31337937198439"
      ]
     },
     "execution_count": 31,
     "metadata": {},
     "output_type": "execute_result"
    }
   ],
   "source": [
    "#percentage of '0'\n",
    "635074/1575343 * 100"
   ]
  },
  {
   "cell_type": "code",
   "execution_count": 32,
   "id": "d9f0cc52",
   "metadata": {},
   "outputs": [
    {
     "data": {
      "text/plain": [
       "30.815384332174013"
      ]
     },
     "execution_count": 32,
     "metadata": {},
     "output_type": "execute_result"
    }
   ],
   "source": [
    "#percentage of '3'\n",
    "485448/1575343 * 100"
   ]
  },
  {
   "cell_type": "markdown",
   "id": "587ac97e",
   "metadata": {},
   "source": [
    "only 40% did no occur at junctions. Therefore this feature will be used"
   ]
  },
  {
   "cell_type": "code",
   "execution_count": 33,
   "id": "c4439851",
   "metadata": {},
   "outputs": [
    {
     "data": {
      "text/plain": [
       "4     745129\n",
       "-1    627137\n",
       "2     169211\n",
       "0      10836\n",
       "9      10683\n",
       "3       8700\n",
       "1       3647\n",
       "Name: junction_control, dtype: int64"
      ]
     },
     "execution_count": 33,
     "metadata": {},
     "output_type": "execute_result"
    }
   ],
   "source": [
    "#junction control\n",
    "acc.junction_control.value_counts()"
   ]
  },
  {
   "cell_type": "markdown",
   "id": "870602a5",
   "metadata": {},
   "source": [
    "Interpretation of junction control values\n",
    "\n",
    "0 - Not at junction or within 20 metres,\n",
    "\n",
    "1 - Authorised person, \n",
    "\n",
    "2 - Auto traffic signal, \n",
    "\n",
    "3 - Stop sign, \n",
    "\n",
    "4 - Give way or uncontrolled, \n",
    "\n",
    "9 - unknown (self reported), \n",
    "\n",
    "-1 - Data missing or out of range\n",
    "\n",
    "\n",
    "Majority of the accidents occured when there was no junction control"
   ]
  },
  {
   "cell_type": "code",
   "execution_count": 34,
   "id": "54074c9a",
   "metadata": {},
   "outputs": [
    {
     "data": {
      "text/plain": [
       "1     1147653\n",
       "4      311732\n",
       "6       81061\n",
       "7       25588\n",
       "5        9286\n",
       "-1         23\n",
       "Name: light_conditions, dtype: int64"
      ]
     },
     "execution_count": 34,
     "metadata": {},
     "output_type": "execute_result"
    }
   ],
   "source": [
    "#view the values of light conditions\n",
    "acc.light_conditions.value_counts()"
   ]
  },
  {
   "cell_type": "markdown",
   "id": "8dac6205",
   "metadata": {},
   "source": [
    "Interpretation of the Light Condition values\n",
    "\n",
    "1 - Daylight, \n",
    "\n",
    "4 - Darkness - lights lit\n",
    "\n",
    "5 - Darkness - lights unlit\n",
    "\n",
    "6 - Darkness - no lighting\n",
    "\n",
    "7 - Darkness - lighting unknown\n",
    "\n",
    "-1 - Data missing or out of range\n",
    "\n",
    "\n",
    "Majority of the Car accidents happened either during daylight(1), the second majority of accidents happened at night but when the lights were lit.\n",
    "\n",
    "Therefore, light conditions can't be used to determine or predict accidents."
   ]
  },
  {
   "cell_type": "code",
   "execution_count": 35,
   "id": "7659f390",
   "metadata": {},
   "outputs": [
    {
     "data": {
      "text/plain": [
       "1     1268742\n",
       "2      179057\n",
       "9       36151\n",
       "8       33383\n",
       "5       20190\n",
       "4       17951\n",
       "3        9985\n",
       "7        7697\n",
       "6        2091\n",
       "-1         96\n",
       "Name: weather_conditions, dtype: int64"
      ]
     },
     "execution_count": 35,
     "metadata": {},
     "output_type": "execute_result"
    }
   ],
   "source": [
    "#view values of weather conditions\n",
    "acc.weather_conditions.value_counts()"
   ]
  },
  {
   "cell_type": "markdown",
   "id": "5467a6ca",
   "metadata": {},
   "source": [
    "Interpretation of Weather Condition Values\n",
    "\n",
    "1 - Fine no high winds, \n",
    "\n",
    "2 - Raining no high winds, \n",
    "\n",
    "3 - Snowing no high winds, \n",
    "\n",
    "4 - Fine + high winds, \n",
    "\n",
    "5 - Raining + high winds, \n",
    "\n",
    "6 - Snowing + high winds, \n",
    "\n",
    "7 - Fog or mist, \n",
    "\n",
    "8 - Other, \n",
    "\n",
    "9 - Unknown, \n",
    "\n",
    "-1 - Data missing or out of range\n",
    "\n",
    "\n",
    "\n",
    "Majority of the accidents occured during Fine Weathers, therefore weather is not a suitable factor for accidents."
   ]
  },
  {
   "cell_type": "code",
   "execution_count": 36,
   "id": "00dca357",
   "metadata": {},
   "outputs": [
    {
     "data": {
      "text/plain": [
       "0     1544175\n",
       "9       16065\n",
       "2        9425\n",
       "1        4552\n",
       "-1       1126\n",
       "Name: pedestrian_crossing_human_control, dtype: int64"
      ]
     },
     "execution_count": 36,
     "metadata": {},
     "output_type": "execute_result"
    }
   ],
   "source": [
    "#view values of pedestrian control\n",
    "acc.pedestrian_crossing_human_control.value_counts()"
   ]
  },
  {
   "cell_type": "markdown",
   "id": "8dda1cd7",
   "metadata": {},
   "source": [
    "Interpretation of Values\n",
    "\n",
    "0 - None within 50 metres, \n",
    "\n",
    "1 - Control by school crossing patrol, \n",
    "\n",
    "2 - Control by other authorised person, \n",
    "\n",
    "9 - unknown (self reported), \n",
    "\n",
    "-1 - Data missing or out of range\n",
    "\n",
    "\n",
    "Majority of the accidents occured when there was no Pedestrian human control. The least accidents occured when there were controls, either a School crossing patrol or an Authorised Person."
   ]
  },
  {
   "cell_type": "code",
   "execution_count": 37,
   "id": "afe53035",
   "metadata": {},
   "outputs": [
    {
     "data": {
      "text/plain": [
       "0     1259094\n",
       "5      118592\n",
       "4       89048\n",
       "1       52104\n",
       "8       36116\n",
       "9       15056\n",
       "7        4286\n",
       "-1       1047\n",
       "Name: pedestrian_crossing_physical_facilities, dtype: int64"
      ]
     },
     "execution_count": 37,
     "metadata": {},
     "output_type": "execute_result"
    }
   ],
   "source": [
    "#view values for Pedestrial Facilities\n",
    "acc.pedestrian_crossing_physical_facilities.value_counts()"
   ]
  },
  {
   "cell_type": "markdown",
   "id": "b26e4166",
   "metadata": {},
   "source": [
    "Interpretation of Values\n",
    "\n",
    "0 - No physical crossing facilities within 50 metres,\n",
    "\n",
    "1 - Zebra, \n",
    "\n",
    "4 - Pelican, puffin, toucan or similar non-junction pedestrian light crossing, \n",
    "\n",
    "5 - Pedestrian phase at traffic signal junction, \n",
    "\n",
    "7 - Footbridge or subway, \n",
    "\n",
    "8 - Central refuge, \n",
    "\n",
    "9 - unknown (self reported), \n",
    "\n",
    "-1 - Data missing or out of range\n",
    "\n",
    "\n",
    "Majority of the accidents occured at places where the facilities were absent.\n",
    "\n",
    "This does not really reduce the rate of car accidents."
   ]
  },
  {
   "cell_type": "code",
   "execution_count": 38,
   "id": "765ae56c",
   "metadata": {},
   "outputs": [
    {
     "data": {
      "text/plain": [
       "1     1115176\n",
       "2      411250\n",
       "4       27850\n",
       "3        9632\n",
       "9        5679\n",
       "-1       3624\n",
       "5        2132\n",
       "Name: road_surface_conditions, dtype: int64"
      ]
     },
     "execution_count": 38,
     "metadata": {},
     "output_type": "execute_result"
    }
   ],
   "source": [
    "#view the values of road surface conditions\n",
    "acc.road_surface_conditions.value_counts()"
   ]
  },
  {
   "cell_type": "markdown",
   "id": "8546e180",
   "metadata": {},
   "source": [
    "Interpretation of Values\n",
    "\n",
    "1 - Dry,\n",
    "\n",
    "2 - Wet or Damp, \n",
    "\n",
    "3 - Snow, \n",
    "\n",
    "4 - Frost or Ice, \n",
    "\n",
    "5 - Flood over 3cm. deep, \n",
    "\n",
    "9 - Unknown(self reported),\n",
    "\n",
    "-1 - Data missing or out of range\n",
    "\n",
    "\n",
    "Majority of the accidents occured when the road surface was dry, the second majority happened when the road was wet or damp.\n",
    "\n"
   ]
  },
  {
   "cell_type": "code",
   "execution_count": 39,
   "id": "3f4b6cf7",
   "metadata": {},
   "outputs": [
    {
     "data": {
      "text/plain": [
       "0     1529607\n",
       "4       17696\n",
       "9        8785\n",
       "7        4344\n",
       "6        3878\n",
       "5        3789\n",
       "1        3146\n",
       "3        2230\n",
       "-1       1168\n",
       "2         700\n",
       "Name: special_conditions_at_site, dtype: int64"
      ]
     },
     "execution_count": 39,
     "metadata": {},
     "output_type": "execute_result"
    }
   ],
   "source": [
    "#view the values of special conditions at site\n",
    "acc.special_conditions_at_site.value_counts()"
   ]
  },
  {
   "cell_type": "markdown",
   "id": "c554280a",
   "metadata": {},
   "source": [
    "Interpretation of Values\n",
    "\n",
    "0 - None, \n",
    "\n",
    "1 - Auto traffic signal - out, \n",
    "\n",
    "2 - Auto signal part defective, \n",
    "\n",
    "3 - Road sign or marking defective or obscured, \n",
    "\n",
    "4 - Roadworks, \n",
    "\n",
    "5 - Road surface defective, \n",
    "\n",
    "6 - Oil or diesel, \n",
    "\n",
    "7 - Mud,\n",
    "\n",
    "9 - Unknown(self reported), \n",
    "\n",
    "-1 - Data missing or out of range\n",
    "\n",
    "\n",
    "Special Conditions had little to no impact on Car accidents"
   ]
  },
  {
   "cell_type": "code",
   "execution_count": 40,
   "id": "411b7dcf",
   "metadata": {},
   "outputs": [
    {
     "data": {
      "text/plain": [
       "2     1312036\n",
       "-1     152237\n",
       "1      111070\n",
       "Name: trunk_road_flag, dtype: int64"
      ]
     },
     "execution_count": 40,
     "metadata": {},
     "output_type": "execute_result"
    }
   ],
   "source": [
    "#view values of trunk road flag\n",
    "acc.trunk_road_flag.value_counts()"
   ]
  },
  {
   "cell_type": "markdown",
   "id": "442876b1",
   "metadata": {},
   "source": [
    "Interpretation of values\n",
    "\n",
    "1 - Trunk (Roads managed by Highways England), \n",
    "\n",
    "2 - Non-trunk, \n",
    "\n",
    "-1 - Data missing or out of range \n",
    "\n",
    "\n",
    "Majority of the accidents occured where there was no trunk flag"
   ]
  },
  {
   "cell_type": "code",
   "execution_count": 41,
   "id": "d10a2d33",
   "metadata": {},
   "outputs": [
    {
     "data": {
      "text/plain": [
       "Index(['accident_index', 'accident_year', 'police_force', 'accident_severity',\n",
       "       'number_of_vehicles', 'number_of_casualties', 'date', 'day_of_week',\n",
       "       'time', 'local_authority_district', 'first_road_class',\n",
       "       'first_road_number', 'road_type', 'speed_limit', 'junction_detail',\n",
       "       'junction_control', 'second_road_class', 'second_road_number',\n",
       "       'pedestrian_crossing_human_control',\n",
       "       'pedestrian_crossing_physical_facilities', 'light_conditions',\n",
       "       'weather_conditions', 'road_surface_conditions',\n",
       "       'special_conditions_at_site', 'carriageway_hazards',\n",
       "       'urban_or_rural_area', 'did_police_officer_attend_scene_of_accident',\n",
       "       'trunk_road_flag', 'accident_month', 'hour'],\n",
       "      dtype='object')"
      ]
     },
     "execution_count": 41,
     "metadata": {},
     "output_type": "execute_result"
    }
   ],
   "source": [
    "acc.columns"
   ]
  },
  {
   "cell_type": "code",
   "execution_count": 42,
   "id": "99e37a9e",
   "metadata": {},
   "outputs": [],
   "source": [
    "#drop columns for accident that won't be needed\n",
    "acc.drop(['second_road_class', 'second_road_number', 'pedestrian_crossing_physical_facilities', 'light_conditions',\n",
    "       'weather_conditions', 'road_surface_conditions', 'speed_limit', 'special_conditions_at_site'], axis = 1, inplace=True)"
   ]
  },
  {
   "cell_type": "code",
   "execution_count": 43,
   "id": "2dc57d6c",
   "metadata": {},
   "outputs": [
    {
     "data": {
      "text/plain": [
       "Index(['accident_index', 'accident_year', 'police_force', 'accident_severity',\n",
       "       'number_of_vehicles', 'number_of_casualties', 'date', 'day_of_week',\n",
       "       'time', 'local_authority_district', 'first_road_class',\n",
       "       'first_road_number', 'road_type', 'junction_detail', 'junction_control',\n",
       "       'pedestrian_crossing_human_control', 'carriageway_hazards',\n",
       "       'urban_or_rural_area', 'did_police_officer_attend_scene_of_accident',\n",
       "       'trunk_road_flag', 'accident_month', 'hour'],\n",
       "      dtype='object')"
      ]
     },
     "execution_count": 43,
     "metadata": {},
     "output_type": "execute_result"
    }
   ],
   "source": [
    "acc.columns"
   ]
  },
  {
   "cell_type": "code",
   "execution_count": 44,
   "id": "1997f214",
   "metadata": {},
   "outputs": [
    {
     "data": {
      "text/plain": [
       "Index(['accident_index', 'accident_year', 'casualty_class', 'sex_of_casualty',\n",
       "       'age_band_of_casualty', 'casualty_severity', 'pedestrian_location',\n",
       "       'pedestrian_movement', 'car_passenger', 'bus_or_coach_passenger',\n",
       "       'pedestrian_road_maintenance_worker', 'casualty_type',\n",
       "       'casualty_home_area_type', 'casualty_imd_decile'],\n",
       "      dtype='object')"
      ]
     },
     "execution_count": 44,
     "metadata": {},
     "output_type": "execute_result"
    }
   ],
   "source": [
    "casu.columns"
   ]
  },
  {
   "cell_type": "code",
   "execution_count": 45,
   "id": "fd854178",
   "metadata": {},
   "outputs": [
    {
     "data": {
      "text/plain": [
       "0     1809515\n",
       "5      120902\n",
       "1       40060\n",
       "9       28629\n",
       "6       28518\n",
       "4       21552\n",
       "10      20378\n",
       "8        9792\n",
       "7        1403\n",
       "2        1158\n",
       "3         657\n",
       "-1         18\n",
       "Name: pedestrian_location, dtype: int64"
      ]
     },
     "execution_count": 45,
     "metadata": {},
     "output_type": "execute_result"
    }
   ],
   "source": [
    "#Casualty\n",
    "\n",
    "#view values for pedestrian_location\n",
    "casu.pedestrian_location.value_counts()"
   ]
  },
  {
   "cell_type": "markdown",
   "id": "dd90858b",
   "metadata": {},
   "source": [
    "0 - Not a pedestrian\n",
    "\n",
    "Majority of the casualties occured to non pedestrians. This is more than 50% of the total casualties\n",
    "\n",
    "5 - In carriageway, crossing elsewhere\n",
    "\n",
    "This is the second majority of pedestrian location"
   ]
  },
  {
   "cell_type": "code",
   "execution_count": 46,
   "id": "83d4f760",
   "metadata": {},
   "outputs": [
    {
     "data": {
      "text/plain": [
       "0     1809510\n",
       "1       93947\n",
       "9       64137\n",
       "3       55554\n",
       "2       19839\n",
       "5       13930\n",
       "4       13247\n",
       "8        6248\n",
       "7        4107\n",
       "6        2040\n",
       "-1         23\n",
       "Name: pedestrian_movement, dtype: int64"
      ]
     },
     "execution_count": 46,
     "metadata": {},
     "output_type": "execute_result"
    }
   ],
   "source": [
    "#view values for pedestrian_movement\n",
    "casu.pedestrian_movement.value_counts()"
   ]
  },
  {
   "cell_type": "markdown",
   "id": "ff8c7bec",
   "metadata": {},
   "source": [
    "0 - Not a pedestrian\n",
    "\n",
    "Majority of the casualties occured to non pedestrians. This is more than 50% of the total casualties\n",
    "\n"
   ]
  },
  {
   "cell_type": "code",
   "execution_count": 47,
   "id": "558f4194",
   "metadata": {},
   "outputs": [
    {
     "data": {
      "text/plain": [
       "0     1686621\n",
       "1      248295\n",
       "2      143625\n",
       "-1       3178\n",
       "9         863\n",
       "Name: car_passenger, dtype: int64"
      ]
     },
     "execution_count": 47,
     "metadata": {},
     "output_type": "execute_result"
    }
   ],
   "source": [
    "#view values for car passenger\n",
    "casu.car_passenger.value_counts()"
   ]
  },
  {
   "cell_type": "markdown",
   "id": "c2e8d5e1",
   "metadata": {},
   "source": [
    "Majority of the casualties did not happen to passengers (0 - Not a passenger)\n",
    "\n",
    "Being a car passenger does not really determine casualty. \n",
    "\n",
    "Most casualties happened to the drivers"
   ]
  },
  {
   "cell_type": "code",
   "execution_count": 48,
   "id": "c9713f5a",
   "metadata": {},
   "outputs": [
    {
     "data": {
      "text/plain": [
       "0     2035222\n",
       "4       29125\n",
       "3       12936\n",
       "2        2466\n",
       "1        2464\n",
       "-1        313\n",
       "9          56\n",
       "Name: bus_or_coach_passenger, dtype: int64"
      ]
     },
     "execution_count": 48,
     "metadata": {},
     "output_type": "execute_result"
    }
   ],
   "source": [
    "#view values for bus or coach passenger\n",
    "casu.bus_or_coach_passenger.value_counts()"
   ]
  },
  {
   "cell_type": "markdown",
   "id": "0d587295",
   "metadata": {},
   "source": [
    "0 - Not a bus or coach passenger\n",
    "\n",
    "Majority of casualties did not happen to bus or coach passengers"
   ]
  },
  {
   "cell_type": "code",
   "execution_count": 49,
   "id": "e0ca894a",
   "metadata": {},
   "outputs": [
    {
     "data": {
      "text/plain": [
       "0     2016527\n",
       "2       64354\n",
       "1         793\n",
       "-1        718\n",
       "3         190\n",
       "Name: pedestrian_road_maintenance_worker, dtype: int64"
      ]
     },
     "execution_count": 49,
     "metadata": {},
     "output_type": "execute_result"
    }
   ],
   "source": [
    "#view values for pedestrian_location\n",
    "casu.pedestrian_road_maintenance_worker.value_counts()"
   ]
  },
  {
   "cell_type": "markdown",
   "id": "2e4a048f",
   "metadata": {},
   "source": [
    "0 - No/Not applicable\n",
    "\n",
    "A huge amount of casualties did not affect pedestrian road maintenance workers"
   ]
  },
  {
   "cell_type": "code",
   "execution_count": 50,
   "id": "33dff856",
   "metadata": {},
   "outputs": [
    {
     "data": {
      "text/plain": [
       "9     1206537\n",
       "0      273064\n",
       "1      219043\n",
       "3       90447\n",
       "5       75159\n",
       "19      51433\n",
       "11      51012\n",
       "8       30795\n",
       "4       24969\n",
       "2       23975\n",
       "90       9716\n",
       "21       8994\n",
       "10       4948\n",
       "20       4447\n",
       "97       1958\n",
       "22       1736\n",
       "98       1370\n",
       "17       1182\n",
       "16       1160\n",
       "23        506\n",
       "18        115\n",
       "99          9\n",
       "-1          7\n",
       "Name: casualty_type, dtype: int64"
      ]
     },
     "execution_count": 50,
     "metadata": {},
     "output_type": "execute_result"
    }
   ],
   "source": [
    "casu.casualty_type.value_counts()"
   ]
  },
  {
   "cell_type": "markdown",
   "id": "e6f9c5e1",
   "metadata": {},
   "source": [
    "9 - Car occupant\n",
    "\n",
    "Majority of the casualties happened to car occupants"
   ]
  },
  {
   "cell_type": "code",
   "execution_count": 51,
   "id": "01f0a9cc",
   "metadata": {},
   "outputs": [],
   "source": [
    "#drop columns that have little to no effect\n",
    "casu.drop(['pedestrian_location', 'pedestrian_movement', 'car_passenger', 'bus_or_coach_passenger', 'pedestrian_road_maintenance_worker'], axis=1, inplace=True)"
   ]
  },
  {
   "cell_type": "code",
   "execution_count": 52,
   "id": "14eb2924",
   "metadata": {},
   "outputs": [
    {
     "data": {
      "text/plain": [
       "Index(['accident_index', 'accident_year', 'casualty_class', 'sex_of_casualty',\n",
       "       'age_band_of_casualty', 'casualty_severity', 'casualty_type',\n",
       "       'casualty_home_area_type', 'casualty_imd_decile'],\n",
       "      dtype='object')"
      ]
     },
     "execution_count": 52,
     "metadata": {},
     "output_type": "execute_result"
    }
   ],
   "source": [
    "casu.columns"
   ]
  },
  {
   "cell_type": "code",
   "execution_count": 53,
   "id": "e77d4aa9",
   "metadata": {},
   "outputs": [],
   "source": [
    "#merge both datasets\n",
    "new_df = pd.merge(left=acc, right=casu, how='left', on='accident_index')"
   ]
  },
  {
   "cell_type": "code",
   "execution_count": 54,
   "id": "9b742762",
   "metadata": {},
   "outputs": [
    {
     "data": {
      "text/html": [
       "<div>\n",
       "<style scoped>\n",
       "    .dataframe tbody tr th:only-of-type {\n",
       "        vertical-align: middle;\n",
       "    }\n",
       "\n",
       "    .dataframe tbody tr th {\n",
       "        vertical-align: top;\n",
       "    }\n",
       "\n",
       "    .dataframe thead th {\n",
       "        text-align: right;\n",
       "    }\n",
       "</style>\n",
       "<table border=\"1\" class=\"dataframe\">\n",
       "  <thead>\n",
       "    <tr style=\"text-align: right;\">\n",
       "      <th></th>\n",
       "      <th>accident_index</th>\n",
       "      <th>accident_year_x</th>\n",
       "      <th>police_force</th>\n",
       "      <th>accident_severity</th>\n",
       "      <th>number_of_vehicles</th>\n",
       "      <th>number_of_casualties</th>\n",
       "      <th>date</th>\n",
       "      <th>day_of_week</th>\n",
       "      <th>time</th>\n",
       "      <th>local_authority_district</th>\n",
       "      <th>...</th>\n",
       "      <th>accident_month</th>\n",
       "      <th>hour</th>\n",
       "      <th>accident_year_y</th>\n",
       "      <th>casualty_class</th>\n",
       "      <th>sex_of_casualty</th>\n",
       "      <th>age_band_of_casualty</th>\n",
       "      <th>casualty_severity</th>\n",
       "      <th>casualty_type</th>\n",
       "      <th>casualty_home_area_type</th>\n",
       "      <th>casualty_imd_decile</th>\n",
       "    </tr>\n",
       "  </thead>\n",
       "  <tbody>\n",
       "    <tr>\n",
       "      <th>0</th>\n",
       "      <td>201001BS70003</td>\n",
       "      <td>2010</td>\n",
       "      <td>1</td>\n",
       "      <td>3</td>\n",
       "      <td>2</td>\n",
       "      <td>1</td>\n",
       "      <td>2010-11-01</td>\n",
       "      <td>2</td>\n",
       "      <td>2023-01-04 07:30:00</td>\n",
       "      <td>12</td>\n",
       "      <td>...</td>\n",
       "      <td>11</td>\n",
       "      <td>7</td>\n",
       "      <td>2010</td>\n",
       "      <td>1</td>\n",
       "      <td>1</td>\n",
       "      <td>6</td>\n",
       "      <td>3</td>\n",
       "      <td>1</td>\n",
       "      <td>1</td>\n",
       "      <td>-1</td>\n",
       "    </tr>\n",
       "    <tr>\n",
       "      <th>1</th>\n",
       "      <td>201001BS70004</td>\n",
       "      <td>2010</td>\n",
       "      <td>1</td>\n",
       "      <td>3</td>\n",
       "      <td>1</td>\n",
       "      <td>1</td>\n",
       "      <td>2010-11-01</td>\n",
       "      <td>2</td>\n",
       "      <td>2023-01-04 18:35:00</td>\n",
       "      <td>12</td>\n",
       "      <td>...</td>\n",
       "      <td>11</td>\n",
       "      <td>18</td>\n",
       "      <td>2010</td>\n",
       "      <td>3</td>\n",
       "      <td>1</td>\n",
       "      <td>8</td>\n",
       "      <td>3</td>\n",
       "      <td>0</td>\n",
       "      <td>1</td>\n",
       "      <td>-1</td>\n",
       "    </tr>\n",
       "    <tr>\n",
       "      <th>2</th>\n",
       "      <td>201001BS70006</td>\n",
       "      <td>2010</td>\n",
       "      <td>1</td>\n",
       "      <td>3</td>\n",
       "      <td>2</td>\n",
       "      <td>1</td>\n",
       "      <td>2010-12-01</td>\n",
       "      <td>3</td>\n",
       "      <td>2023-01-04 10:22:00</td>\n",
       "      <td>12</td>\n",
       "      <td>...</td>\n",
       "      <td>12</td>\n",
       "      <td>10</td>\n",
       "      <td>2010</td>\n",
       "      <td>1</td>\n",
       "      <td>1</td>\n",
       "      <td>6</td>\n",
       "      <td>3</td>\n",
       "      <td>1</td>\n",
       "      <td>1</td>\n",
       "      <td>-1</td>\n",
       "    </tr>\n",
       "    <tr>\n",
       "      <th>3</th>\n",
       "      <td>201001BS70007</td>\n",
       "      <td>2010</td>\n",
       "      <td>1</td>\n",
       "      <td>3</td>\n",
       "      <td>2</td>\n",
       "      <td>1</td>\n",
       "      <td>2010-02-01</td>\n",
       "      <td>7</td>\n",
       "      <td>2023-01-04 21:21:00</td>\n",
       "      <td>12</td>\n",
       "      <td>...</td>\n",
       "      <td>2</td>\n",
       "      <td>21</td>\n",
       "      <td>2010</td>\n",
       "      <td>2</td>\n",
       "      <td>1</td>\n",
       "      <td>-1</td>\n",
       "      <td>3</td>\n",
       "      <td>9</td>\n",
       "      <td>1</td>\n",
       "      <td>-1</td>\n",
       "    </tr>\n",
       "    <tr>\n",
       "      <th>4</th>\n",
       "      <td>201001BS70008</td>\n",
       "      <td>2010</td>\n",
       "      <td>1</td>\n",
       "      <td>3</td>\n",
       "      <td>2</td>\n",
       "      <td>1</td>\n",
       "      <td>2010-04-01</td>\n",
       "      <td>2</td>\n",
       "      <td>2023-01-04 20:35:00</td>\n",
       "      <td>12</td>\n",
       "      <td>...</td>\n",
       "      <td>4</td>\n",
       "      <td>20</td>\n",
       "      <td>2010</td>\n",
       "      <td>2</td>\n",
       "      <td>1</td>\n",
       "      <td>6</td>\n",
       "      <td>3</td>\n",
       "      <td>5</td>\n",
       "      <td>1</td>\n",
       "      <td>-1</td>\n",
       "    </tr>\n",
       "  </tbody>\n",
       "</table>\n",
       "<p>5 rows × 30 columns</p>\n",
       "</div>"
      ],
      "text/plain": [
       "  accident_index  accident_year_x police_force accident_severity  \\\n",
       "0  201001BS70003             2010            1                 3   \n",
       "1  201001BS70004             2010            1                 3   \n",
       "2  201001BS70006             2010            1                 3   \n",
       "3  201001BS70007             2010            1                 3   \n",
       "4  201001BS70008             2010            1                 3   \n",
       "\n",
       "   number_of_vehicles  number_of_casualties       date  day_of_week  \\\n",
       "0                   2                     1 2010-11-01            2   \n",
       "1                   1                     1 2010-11-01            2   \n",
       "2                   2                     1 2010-12-01            3   \n",
       "3                   2                     1 2010-02-01            7   \n",
       "4                   2                     1 2010-04-01            2   \n",
       "\n",
       "                 time local_authority_district  ... accident_month hour  \\\n",
       "0 2023-01-04 07:30:00                       12  ...             11    7   \n",
       "1 2023-01-04 18:35:00                       12  ...             11   18   \n",
       "2 2023-01-04 10:22:00                       12  ...             12   10   \n",
       "3 2023-01-04 21:21:00                       12  ...              2   21   \n",
       "4 2023-01-04 20:35:00                       12  ...              4   20   \n",
       "\n",
       "  accident_year_y casualty_class sex_of_casualty age_band_of_casualty  \\\n",
       "0            2010              1               1                    6   \n",
       "1            2010              3               1                    8   \n",
       "2            2010              1               1                    6   \n",
       "3            2010              2               1                   -1   \n",
       "4            2010              2               1                    6   \n",
       "\n",
       "  casualty_severity casualty_type casualty_home_area_type casualty_imd_decile  \n",
       "0                 3             1                       1                  -1  \n",
       "1                 3             0                       1                  -1  \n",
       "2                 3             1                       1                  -1  \n",
       "3                 3             9                       1                  -1  \n",
       "4                 3             5                       1                  -1  \n",
       "\n",
       "[5 rows x 30 columns]"
      ]
     },
     "execution_count": 54,
     "metadata": {},
     "output_type": "execute_result"
    }
   ],
   "source": [
    "new_df.head()"
   ]
  },
  {
   "cell_type": "code",
   "execution_count": 55,
   "id": "96c5d5b4",
   "metadata": {},
   "outputs": [
    {
     "data": {
      "text/plain": [
       "accident_index                                 0\n",
       "accident_year_x                                0\n",
       "police_force                                   0\n",
       "accident_severity                              0\n",
       "number_of_vehicles                             0\n",
       "number_of_casualties                           0\n",
       "date                                           0\n",
       "day_of_week                                    0\n",
       "time                                           0\n",
       "local_authority_district                       0\n",
       "first_road_class                               0\n",
       "first_road_number                              0\n",
       "road_type                                      0\n",
       "junction_detail                                0\n",
       "junction_control                               0\n",
       "pedestrian_crossing_human_control              0\n",
       "carriageway_hazards                            0\n",
       "urban_or_rural_area                            0\n",
       "did_police_officer_attend_scene_of_accident    0\n",
       "trunk_road_flag                                0\n",
       "accident_month                                 0\n",
       "hour                                           0\n",
       "accident_year_y                                0\n",
       "casualty_class                                 0\n",
       "sex_of_casualty                                0\n",
       "age_band_of_casualty                           0\n",
       "casualty_severity                              0\n",
       "casualty_type                                  0\n",
       "casualty_home_area_type                        0\n",
       "casualty_imd_decile                            0\n",
       "dtype: int64"
      ]
     },
     "execution_count": 55,
     "metadata": {},
     "output_type": "execute_result"
    }
   ],
   "source": [
    "new_df.isna().sum()"
   ]
  },
  {
   "cell_type": "code",
   "execution_count": 56,
   "id": "7828b1fd",
   "metadata": {},
   "outputs": [
    {
     "data": {
      "text/plain": [
       "accident_index                                         object\n",
       "accident_year_x                                         int64\n",
       "police_force                                         category\n",
       "accident_severity                                    category\n",
       "number_of_vehicles                                      int64\n",
       "number_of_casualties                                    int64\n",
       "date                                           datetime64[ns]\n",
       "day_of_week                                             int64\n",
       "time                                           datetime64[ns]\n",
       "local_authority_district                             category\n",
       "first_road_class                                     category\n",
       "first_road_number                                    category\n",
       "road_type                                            category\n",
       "junction_detail                                      category\n",
       "junction_control                                     category\n",
       "pedestrian_crossing_human_control                    category\n",
       "carriageway_hazards                                  category\n",
       "urban_or_rural_area                                  category\n",
       "did_police_officer_attend_scene_of_accident          category\n",
       "trunk_road_flag                                      category\n",
       "accident_month                                       category\n",
       "hour                                                 category\n",
       "accident_year_y                                         int64\n",
       "casualty_class                                       category\n",
       "sex_of_casualty                                      category\n",
       "age_band_of_casualty                                 category\n",
       "casualty_severity                                    category\n",
       "casualty_type                                        category\n",
       "casualty_home_area_type                              category\n",
       "casualty_imd_decile                                  category\n",
       "dtype: object"
      ]
     },
     "execution_count": 56,
     "metadata": {},
     "output_type": "execute_result"
    }
   ],
   "source": [
    "new_df.dtypes"
   ]
  },
  {
   "cell_type": "code",
   "execution_count": 57,
   "id": "bbb3b3c8",
   "metadata": {},
   "outputs": [
    {
     "data": {
      "text/plain": [
       "(2082293, 30)"
      ]
     },
     "execution_count": 57,
     "metadata": {},
     "output_type": "execute_result"
    }
   ],
   "source": [
    "new_df.shape"
   ]
  },
  {
   "cell_type": "markdown",
   "id": "d200c15b",
   "metadata": {},
   "source": [
    "### Model Building"
   ]
  },
  {
   "cell_type": "code",
   "execution_count": 58,
   "id": "19391886",
   "metadata": {},
   "outputs": [],
   "source": [
    "from sklearn.model_selection import train_test_split\n",
    "from sklearn.linear_model import LogisticRegression\n",
    "from sklearn.metrics import accuracy_score\n",
    "from sklearn.metrics import classification_report\n",
    "from sklearn.tree import DecisionTreeClassifier\n",
    "from sklearn.ensemble import RandomForestClassifier\n",
    "from sklearn.svm import SVC, LinearSVC\n",
    "from sklearn.metrics import log_loss"
   ]
  },
  {
   "cell_type": "code",
   "execution_count": 59,
   "id": "95c6a561",
   "metadata": {},
   "outputs": [],
   "source": [
    "features = new_df.drop(['date','accident_severity','time', 'accident_year_x', 'accident_index', 'accident_year_y'], axis=1)\n",
    "target = new_df[['accident_severity']]"
   ]
  },
  {
   "cell_type": "code",
   "execution_count": 60,
   "id": "61531e43",
   "metadata": {},
   "outputs": [
    {
     "data": {
      "text/plain": [
       "(2082293, 24)"
      ]
     },
     "execution_count": 60,
     "metadata": {},
     "output_type": "execute_result"
    }
   ],
   "source": [
    "features.shape"
   ]
  },
  {
   "cell_type": "code",
   "execution_count": 61,
   "id": "68624a38",
   "metadata": {},
   "outputs": [
    {
     "data": {
      "text/plain": [
       "(2082293, 1)"
      ]
     },
     "execution_count": 61,
     "metadata": {},
     "output_type": "execute_result"
    }
   ],
   "source": [
    "target.shape"
   ]
  },
  {
   "cell_type": "code",
   "execution_count": 62,
   "id": "06a11414",
   "metadata": {},
   "outputs": [
    {
     "data": {
      "text/plain": [
       "Index(['police_force', 'number_of_vehicles', 'number_of_casualties',\n",
       "       'day_of_week', 'local_authority_district', 'first_road_class',\n",
       "       'first_road_number', 'road_type', 'junction_detail', 'junction_control',\n",
       "       'pedestrian_crossing_human_control', 'carriageway_hazards',\n",
       "       'urban_or_rural_area', 'did_police_officer_attend_scene_of_accident',\n",
       "       'trunk_road_flag', 'accident_month', 'hour', 'casualty_class',\n",
       "       'sex_of_casualty', 'age_band_of_casualty', 'casualty_severity',\n",
       "       'casualty_type', 'casualty_home_area_type', 'casualty_imd_decile'],\n",
       "      dtype='object')"
      ]
     },
     "execution_count": 62,
     "metadata": {},
     "output_type": "execute_result"
    }
   ],
   "source": [
    "features.columns"
   ]
  },
  {
   "cell_type": "code",
   "execution_count": 63,
   "id": "51fe2e83",
   "metadata": {},
   "outputs": [
    {
     "data": {
      "text/html": [
       "<div>\n",
       "<style scoped>\n",
       "    .dataframe tbody tr th:only-of-type {\n",
       "        vertical-align: middle;\n",
       "    }\n",
       "\n",
       "    .dataframe tbody tr th {\n",
       "        vertical-align: top;\n",
       "    }\n",
       "\n",
       "    .dataframe thead th {\n",
       "        text-align: right;\n",
       "    }\n",
       "</style>\n",
       "<table border=\"1\" class=\"dataframe\">\n",
       "  <thead>\n",
       "    <tr style=\"text-align: right;\">\n",
       "      <th></th>\n",
       "      <th>accident_severity</th>\n",
       "    </tr>\n",
       "  </thead>\n",
       "  <tbody>\n",
       "    <tr>\n",
       "      <th>0</th>\n",
       "      <td>3</td>\n",
       "    </tr>\n",
       "    <tr>\n",
       "      <th>1</th>\n",
       "      <td>3</td>\n",
       "    </tr>\n",
       "    <tr>\n",
       "      <th>2</th>\n",
       "      <td>3</td>\n",
       "    </tr>\n",
       "    <tr>\n",
       "      <th>3</th>\n",
       "      <td>3</td>\n",
       "    </tr>\n",
       "    <tr>\n",
       "      <th>4</th>\n",
       "      <td>3</td>\n",
       "    </tr>\n",
       "  </tbody>\n",
       "</table>\n",
       "</div>"
      ],
      "text/plain": [
       "  accident_severity\n",
       "0                 3\n",
       "1                 3\n",
       "2                 3\n",
       "3                 3\n",
       "4                 3"
      ]
     },
     "execution_count": 63,
     "metadata": {},
     "output_type": "execute_result"
    }
   ],
   "source": [
    "target.head()"
   ]
  },
  {
   "cell_type": "code",
   "execution_count": 64,
   "id": "a7bfbb45",
   "metadata": {},
   "outputs": [
    {
     "data": {
      "text/plain": [
       "accident_severity\n",
       "3                    1697362\n",
       "2                     350695\n",
       "1                      34236\n",
       "dtype: int64"
      ]
     },
     "execution_count": 64,
     "metadata": {},
     "output_type": "execute_result"
    }
   ],
   "source": [
    "target.value_counts()"
   ]
  },
  {
   "cell_type": "markdown",
   "id": "89b09596",
   "metadata": {},
   "source": [
    "From the value count of the target variable, there is an imbalance in the data.\n",
    "\n",
    "Therefore, it will be downsized."
   ]
  },
  {
   "cell_type": "code",
   "execution_count": 65,
   "id": "1e7d4fbc",
   "metadata": {},
   "outputs": [
    {
     "data": {
      "text/html": [
       "<div>\n",
       "<style scoped>\n",
       "    .dataframe tbody tr th:only-of-type {\n",
       "        vertical-align: middle;\n",
       "    }\n",
       "\n",
       "    .dataframe tbody tr th {\n",
       "        vertical-align: top;\n",
       "    }\n",
       "\n",
       "    .dataframe thead th {\n",
       "        text-align: right;\n",
       "    }\n",
       "</style>\n",
       "<table border=\"1\" class=\"dataframe\">\n",
       "  <thead>\n",
       "    <tr style=\"text-align: right;\">\n",
       "      <th></th>\n",
       "      <th>accident_index</th>\n",
       "      <th>accident_year_x</th>\n",
       "      <th>police_force</th>\n",
       "      <th>accident_severity</th>\n",
       "      <th>number_of_vehicles</th>\n",
       "      <th>number_of_casualties</th>\n",
       "      <th>date</th>\n",
       "      <th>day_of_week</th>\n",
       "      <th>time</th>\n",
       "      <th>local_authority_district</th>\n",
       "      <th>...</th>\n",
       "      <th>accident_month</th>\n",
       "      <th>hour</th>\n",
       "      <th>accident_year_y</th>\n",
       "      <th>casualty_class</th>\n",
       "      <th>sex_of_casualty</th>\n",
       "      <th>age_band_of_casualty</th>\n",
       "      <th>casualty_severity</th>\n",
       "      <th>casualty_type</th>\n",
       "      <th>casualty_home_area_type</th>\n",
       "      <th>casualty_imd_decile</th>\n",
       "    </tr>\n",
       "  </thead>\n",
       "  <tbody>\n",
       "    <tr>\n",
       "      <th>0</th>\n",
       "      <td>201160M032091</td>\n",
       "      <td>2011</td>\n",
       "      <td>60</td>\n",
       "      <td>1</td>\n",
       "      <td>2</td>\n",
       "      <td>2</td>\n",
       "      <td>2011-02-26</td>\n",
       "      <td>7</td>\n",
       "      <td>2023-01-04 20:19:00</td>\n",
       "      <td>724</td>\n",
       "      <td>...</td>\n",
       "      <td>2</td>\n",
       "      <td>20</td>\n",
       "      <td>2011</td>\n",
       "      <td>2</td>\n",
       "      <td>2</td>\n",
       "      <td>7</td>\n",
       "      <td>1</td>\n",
       "      <td>9</td>\n",
       "      <td>2</td>\n",
       "      <td>-1</td>\n",
       "    </tr>\n",
       "    <tr>\n",
       "      <th>1</th>\n",
       "      <td>201006K035947</td>\n",
       "      <td>2010</td>\n",
       "      <td>6</td>\n",
       "      <td>1</td>\n",
       "      <td>2</td>\n",
       "      <td>5</td>\n",
       "      <td>2010-11-09</td>\n",
       "      <td>7</td>\n",
       "      <td>2023-01-04 14:20:00</td>\n",
       "      <td>100</td>\n",
       "      <td>...</td>\n",
       "      <td>11</td>\n",
       "      <td>14</td>\n",
       "      <td>2010</td>\n",
       "      <td>1</td>\n",
       "      <td>1</td>\n",
       "      <td>6</td>\n",
       "      <td>3</td>\n",
       "      <td>9</td>\n",
       "      <td>1</td>\n",
       "      <td>-1</td>\n",
       "    </tr>\n",
       "    <tr>\n",
       "      <th>2</th>\n",
       "      <td>201332B463913</td>\n",
       "      <td>2013</td>\n",
       "      <td>32</td>\n",
       "      <td>1</td>\n",
       "      <td>2</td>\n",
       "      <td>4</td>\n",
       "      <td>2013-04-12</td>\n",
       "      <td>4</td>\n",
       "      <td>2023-01-04 10:22:00</td>\n",
       "      <td>350</td>\n",
       "      <td>...</td>\n",
       "      <td>4</td>\n",
       "      <td>10</td>\n",
       "      <td>2013</td>\n",
       "      <td>2</td>\n",
       "      <td>2</td>\n",
       "      <td>11</td>\n",
       "      <td>1</td>\n",
       "      <td>9</td>\n",
       "      <td>1</td>\n",
       "      <td>-1</td>\n",
       "    </tr>\n",
       "    <tr>\n",
       "      <th>3</th>\n",
       "      <td>2017360238898</td>\n",
       "      <td>2017</td>\n",
       "      <td>36</td>\n",
       "      <td>1</td>\n",
       "      <td>4</td>\n",
       "      <td>3</td>\n",
       "      <td>2017-11-13</td>\n",
       "      <td>2</td>\n",
       "      <td>2023-01-04 08:55:00</td>\n",
       "      <td>400</td>\n",
       "      <td>...</td>\n",
       "      <td>11</td>\n",
       "      <td>8</td>\n",
       "      <td>2017</td>\n",
       "      <td>1</td>\n",
       "      <td>2</td>\n",
       "      <td>5</td>\n",
       "      <td>3</td>\n",
       "      <td>9</td>\n",
       "      <td>2</td>\n",
       "      <td>6</td>\n",
       "    </tr>\n",
       "    <tr>\n",
       "      <th>4</th>\n",
       "      <td>2018440430234</td>\n",
       "      <td>2018</td>\n",
       "      <td>44</td>\n",
       "      <td>1</td>\n",
       "      <td>2</td>\n",
       "      <td>2</td>\n",
       "      <td>2018-11-16</td>\n",
       "      <td>6</td>\n",
       "      <td>2023-01-04 06:06:00</td>\n",
       "      <td>502</td>\n",
       "      <td>...</td>\n",
       "      <td>11</td>\n",
       "      <td>6</td>\n",
       "      <td>2018</td>\n",
       "      <td>1</td>\n",
       "      <td>1</td>\n",
       "      <td>6</td>\n",
       "      <td>1</td>\n",
       "      <td>9</td>\n",
       "      <td>1</td>\n",
       "      <td>8</td>\n",
       "    </tr>\n",
       "  </tbody>\n",
       "</table>\n",
       "<p>5 rows × 30 columns</p>\n",
       "</div>"
      ],
      "text/plain": [
       "  accident_index  accident_year_x police_force accident_severity  \\\n",
       "0  201160M032091             2011           60                 1   \n",
       "1  201006K035947             2010            6                 1   \n",
       "2  201332B463913             2013           32                 1   \n",
       "3  2017360238898             2017           36                 1   \n",
       "4  2018440430234             2018           44                 1   \n",
       "\n",
       "   number_of_vehicles  number_of_casualties       date  day_of_week  \\\n",
       "0                   2                     2 2011-02-26            7   \n",
       "1                   2                     5 2010-11-09            7   \n",
       "2                   2                     4 2013-04-12            4   \n",
       "3                   4                     3 2017-11-13            2   \n",
       "4                   2                     2 2018-11-16            6   \n",
       "\n",
       "                 time local_authority_district  ... accident_month hour  \\\n",
       "0 2023-01-04 20:19:00                      724  ...              2   20   \n",
       "1 2023-01-04 14:20:00                      100  ...             11   14   \n",
       "2 2023-01-04 10:22:00                      350  ...              4   10   \n",
       "3 2023-01-04 08:55:00                      400  ...             11    8   \n",
       "4 2023-01-04 06:06:00                      502  ...             11    6   \n",
       "\n",
       "  accident_year_y casualty_class sex_of_casualty age_band_of_casualty  \\\n",
       "0            2011              2               2                    7   \n",
       "1            2010              1               1                    6   \n",
       "2            2013              2               2                   11   \n",
       "3            2017              1               2                    5   \n",
       "4            2018              1               1                    6   \n",
       "\n",
       "  casualty_severity casualty_type casualty_home_area_type casualty_imd_decile  \n",
       "0                 1             9                       2                  -1  \n",
       "1                 3             9                       1                  -1  \n",
       "2                 1             9                       1                  -1  \n",
       "3                 3             9                       2                   6  \n",
       "4                 1             9                       1                   8  \n",
       "\n",
       "[5 rows x 30 columns]"
      ]
     },
     "execution_count": 65,
     "metadata": {},
     "output_type": "execute_result"
    }
   ],
   "source": [
    "#downsize the accident severity\n",
    "import numpy as np\n",
    "label = 'accident_severity'\n",
    "\n",
    "g = new_df.groupby(label, group_keys=False)\n",
    "balanced_df = pd.DataFrame(g.apply(lambda x: x.sample(g.size().min()))).reset_index(drop=True)\n",
    "balanced_df.head()"
   ]
  },
  {
   "cell_type": "code",
   "execution_count": 66,
   "id": "fc4f4f51",
   "metadata": {},
   "outputs": [
    {
     "data": {
      "text/plain": [
       "1    34236\n",
       "2    34236\n",
       "3    34236\n",
       "Name: accident_severity, dtype: int64"
      ]
     },
     "execution_count": 66,
     "metadata": {},
     "output_type": "execute_result"
    }
   ],
   "source": [
    "balanced_df.accident_severity.value_counts()"
   ]
  },
  {
   "cell_type": "code",
   "execution_count": 67,
   "id": "400fb36b",
   "metadata": {},
   "outputs": [],
   "source": [
    "#resplit the data\n",
    "features = balanced_df.drop(['date','accident_severity','time', 'accident_year_x', 'accident_index', 'accident_year_y'], axis=1)\n",
    "target = balanced_df[['accident_severity']]"
   ]
  },
  {
   "cell_type": "code",
   "execution_count": 68,
   "id": "9a6a7db4",
   "metadata": {},
   "outputs": [
    {
     "data": {
      "text/plain": [
       "(102708, 24)"
      ]
     },
     "execution_count": 68,
     "metadata": {},
     "output_type": "execute_result"
    }
   ],
   "source": [
    "features.shape"
   ]
  },
  {
   "cell_type": "code",
   "execution_count": 69,
   "id": "0235b134",
   "metadata": {},
   "outputs": [
    {
     "data": {
      "text/plain": [
       "(102708, 1)"
      ]
     },
     "execution_count": 69,
     "metadata": {},
     "output_type": "execute_result"
    }
   ],
   "source": [
    "target.shape"
   ]
  },
  {
   "cell_type": "code",
   "execution_count": 70,
   "id": "12dcc1eb",
   "metadata": {},
   "outputs": [],
   "source": [
    "x_train, x_test, y_train, y_test = train_test_split(features,target, train_size=0.7, test_size=0.3, shuffle=True, stratify=target, random_state=42)\n"
   ]
  },
  {
   "cell_type": "code",
   "execution_count": 71,
   "id": "8e6d9c3c",
   "metadata": {},
   "outputs": [
    {
     "data": {
      "text/plain": [
       "(71895, 24)"
      ]
     },
     "execution_count": 71,
     "metadata": {},
     "output_type": "execute_result"
    }
   ],
   "source": [
    "x_train.shape"
   ]
  },
  {
   "cell_type": "code",
   "execution_count": 72,
   "id": "05353219",
   "metadata": {},
   "outputs": [
    {
     "data": {
      "text/plain": [
       "(71895, 1)"
      ]
     },
     "execution_count": 72,
     "metadata": {},
     "output_type": "execute_result"
    }
   ],
   "source": [
    "y_train.shape"
   ]
  },
  {
   "cell_type": "code",
   "execution_count": 73,
   "id": "9bc12ee0",
   "metadata": {},
   "outputs": [
    {
     "data": {
      "text/plain": [
       "(30813, 1)"
      ]
     },
     "execution_count": 73,
     "metadata": {},
     "output_type": "execute_result"
    }
   ],
   "source": [
    "y_test.shape"
   ]
  },
  {
   "cell_type": "code",
   "execution_count": 74,
   "id": "fb6d8f77",
   "metadata": {},
   "outputs": [],
   "source": [
    "#scale the data\n",
    "from sklearn.preprocessing import StandardScaler\n",
    "\n",
    "scaler = StandardScaler()"
   ]
  },
  {
   "cell_type": "code",
   "execution_count": 75,
   "id": "9cc1acf4",
   "metadata": {},
   "outputs": [],
   "source": [
    "xtrain_scaled = pd.DataFrame(scaler.fit_transform(x_train), columns=x_train.columns)"
   ]
  },
  {
   "cell_type": "code",
   "execution_count": 76,
   "id": "d0116f63",
   "metadata": {},
   "outputs": [],
   "source": [
    "xtest_scaled = pd.DataFrame(scaler.transform(x_test), columns=x_test.columns)"
   ]
  },
  {
   "cell_type": "code",
   "execution_count": 77,
   "id": "62fc25c6",
   "metadata": {},
   "outputs": [
    {
     "data": {
      "text/plain": [
       "police_force                                   1.000014\n",
       "number_of_vehicles                             1.000014\n",
       "number_of_casualties                           1.000014\n",
       "day_of_week                                    1.000014\n",
       "local_authority_district                       1.000014\n",
       "first_road_class                               1.000014\n",
       "first_road_number                              1.000014\n",
       "road_type                                      1.000014\n",
       "junction_detail                                1.000014\n",
       "junction_control                               1.000014\n",
       "pedestrian_crossing_human_control              1.000014\n",
       "carriageway_hazards                            1.000014\n",
       "urban_or_rural_area                            1.000014\n",
       "did_police_officer_attend_scene_of_accident    1.000014\n",
       "trunk_road_flag                                1.000014\n",
       "accident_month                                 1.000014\n",
       "hour                                           1.000014\n",
       "casualty_class                                 1.000014\n",
       "sex_of_casualty                                1.000014\n",
       "age_band_of_casualty                           1.000014\n",
       "casualty_severity                              1.000014\n",
       "casualty_type                                  1.000014\n",
       "casualty_home_area_type                        1.000014\n",
       "casualty_imd_decile                            1.000014\n",
       "dtype: float64"
      ]
     },
     "execution_count": 77,
     "metadata": {},
     "output_type": "execute_result"
    }
   ],
   "source": [
    "xtrain_scaled.var()"
   ]
  },
  {
   "cell_type": "code",
   "execution_count": 78,
   "id": "ef5902ae",
   "metadata": {},
   "outputs": [
    {
     "data": {
      "text/plain": [
       "police_force                                   0.986342\n",
       "number_of_vehicles                             0.770662\n",
       "number_of_casualties                           0.979332\n",
       "day_of_week                                    1.001703\n",
       "local_authority_district                       0.988691\n",
       "first_road_class                               0.993145\n",
       "first_road_number                              1.017652\n",
       "road_type                                      1.006148\n",
       "junction_detail                                0.980731\n",
       "junction_control                               1.000725\n",
       "pedestrian_crossing_human_control              1.023967\n",
       "carriageway_hazards                            1.098431\n",
       "urban_or_rural_area                            0.999997\n",
       "did_police_officer_attend_scene_of_accident    0.991683\n",
       "trunk_road_flag                                0.971619\n",
       "accident_month                                 1.006689\n",
       "hour                                           0.991923\n",
       "casualty_class                                 1.001484\n",
       "sex_of_casualty                                0.984214\n",
       "age_band_of_casualty                           0.993608\n",
       "casualty_severity                              0.998820\n",
       "casualty_type                                  1.027974\n",
       "casualty_home_area_type                        0.984279\n",
       "casualty_imd_decile                            1.005216\n",
       "dtype: float64"
      ]
     },
     "execution_count": 78,
     "metadata": {},
     "output_type": "execute_result"
    }
   ],
   "source": [
    "xtest_scaled.var()"
   ]
  },
  {
   "cell_type": "markdown",
   "id": "5c9cbe34",
   "metadata": {},
   "source": [
    "The data has been downsized and scaled, next different algorithms will be tested"
   ]
  },
  {
   "cell_type": "code",
   "execution_count": 79,
   "id": "61961dfc",
   "metadata": {},
   "outputs": [
    {
     "data": {
      "text/plain": [
       "police_force                                   category\n",
       "number_of_vehicles                                int64\n",
       "number_of_casualties                              int64\n",
       "day_of_week                                       int64\n",
       "local_authority_district                       category\n",
       "first_road_class                               category\n",
       "first_road_number                              category\n",
       "road_type                                      category\n",
       "junction_detail                                category\n",
       "junction_control                               category\n",
       "pedestrian_crossing_human_control              category\n",
       "carriageway_hazards                            category\n",
       "urban_or_rural_area                            category\n",
       "did_police_officer_attend_scene_of_accident    category\n",
       "trunk_road_flag                                category\n",
       "accident_month                                 category\n",
       "hour                                           category\n",
       "casualty_class                                 category\n",
       "sex_of_casualty                                category\n",
       "age_band_of_casualty                           category\n",
       "casualty_severity                              category\n",
       "casualty_type                                  category\n",
       "casualty_home_area_type                        category\n",
       "casualty_imd_decile                            category\n",
       "dtype: object"
      ]
     },
     "execution_count": 79,
     "metadata": {},
     "output_type": "execute_result"
    }
   ],
   "source": [
    "features.dtypes"
   ]
  },
  {
   "cell_type": "code",
   "execution_count": 80,
   "id": "81cc3f2b",
   "metadata": {},
   "outputs": [
    {
     "data": {
      "text/plain": [
       "accident_severity    category\n",
       "dtype: object"
      ]
     },
     "execution_count": 80,
     "metadata": {},
     "output_type": "execute_result"
    }
   ],
   "source": [
    "target.dtypes"
   ]
  },
  {
   "cell_type": "code",
   "execution_count": 81,
   "id": "d7a7f6cb",
   "metadata": {},
   "outputs": [],
   "source": [
    "# Import KNeighborsClassifier from sklearn's neighbors module and GaussianNB\n",
    "from sklearn.neighbors import KNeighborsClassifier\n",
    "from sklearn.naive_bayes import GaussianNB"
   ]
  },
  {
   "cell_type": "code",
   "execution_count": 84,
   "id": "9be782d7",
   "metadata": {},
   "outputs": [],
   "source": [
    "#downsized unscaled\n",
    "models = {\n",
    "          \"DecisionTreeClassifier\": DecisionTreeClassifier(),\n",
    "          \n",
    "          \"SVC\": SVC(),\n",
    "          \n",
    "          \"LinearSVC\": LinearSVC(), \n",
    "\n",
    "          'LogisticRregression': LogisticRegression(),\n",
    "\n",
    "          #'KNeighborsClassifier': KNeighborsClassifier(),\n",
    "\n",
    "          \"RandomForestClassifier\": RandomForestClassifier(),\n",
    "\n",
    "          \"GaussianNB\": GaussianNB()}"
   ]
  },
  {
   "cell_type": "code",
   "execution_count": 85,
   "id": "7175e893",
   "metadata": {},
   "outputs": [
    {
     "name": "stderr",
     "output_type": "stream",
     "text": [
      "C:\\Users\\Toyin Alade\\anaconda3\\lib\\site-packages\\sklearn\\svm\\_base.py:1206: ConvergenceWarning: Liblinear failed to converge, increase the number of iterations.\n",
      "  warnings.warn(\n",
      "C:\\Users\\Toyin Alade\\anaconda3\\lib\\site-packages\\sklearn\\linear_model\\_logistic.py:814: ConvergenceWarning: lbfgs failed to converge (status=1):\n",
      "STOP: TOTAL NO. of ITERATIONS REACHED LIMIT.\n",
      "\n",
      "Increase the number of iterations (max_iter) or scale the data as shown in:\n",
      "    https://scikit-learn.org/stable/modules/preprocessing.html\n",
      "Please also refer to the documentation for alternative solver options:\n",
      "    https://scikit-learn.org/stable/modules/linear_model.html#logistic-regression\n",
      "  n_iter_i = _check_optimize_result(\n"
     ]
    },
    {
     "data": {
      "text/plain": [
       "{'DecisionTreeClassifier': 0.8207574724953753,\n",
       " 'SVC': 0.38928374387433873,\n",
       " 'LinearSVC': 0.6853925291273164,\n",
       " 'LogisticRregression': 0.5192613507285886,\n",
       " 'RandomForestClassifier': 0.8605458734949535,\n",
       " 'GaussianNB': 0.7048648297796385}"
      ]
     },
     "execution_count": 85,
     "metadata": {},
     "output_type": "execute_result"
    }
   ],
   "source": [
    "#building on downsized unscaled data\n",
    "\n",
    "results = {}\n",
    "\n",
    "for model_name, model in models.items():\n",
    "    model.fit(x_train, y_train.values.ravel())\n",
    "    results[model_name] = model.score(x_test, y_test.values.ravel())\n",
    "    \n",
    "results"
   ]
  },
  {
   "cell_type": "code",
   "execution_count": 88,
   "id": "b867bbc5",
   "metadata": {},
   "outputs": [],
   "source": [
    "#building on downsized scaled data\n",
    "models2 = {\n",
    "          \"DecisionTreeClassifier\": DecisionTreeClassifier(),\n",
    "          \n",
    "          \"SVC\": SVC(),\n",
    "          \n",
    "          \"LinearSVC\": LinearSVC(), \n",
    "\n",
    "          'LogisticRegression': LogisticRegression(),\n",
    "\n",
    "          #'KNeighborsClassifier': KNeighborsClassifier(),\n",
    "\n",
    "          \"RandomForestClassifier\": RandomForestClassifier(),\n",
    "\n",
    "          \"GaussianNB\": GaussianNB()}"
   ]
  },
  {
   "cell_type": "code",
   "execution_count": 89,
   "id": "77aae983",
   "metadata": {},
   "outputs": [
    {
     "name": "stderr",
     "output_type": "stream",
     "text": [
      "C:\\Users\\Toyin Alade\\anaconda3\\lib\\site-packages\\sklearn\\svm\\_base.py:1206: ConvergenceWarning: Liblinear failed to converge, increase the number of iterations.\n",
      "  warnings.warn(\n"
     ]
    },
    {
     "data": {
      "text/plain": [
       "{'DecisionTreeClassifier': 0.8223152565475611,\n",
       " 'SVC': 0.8360432285074482,\n",
       " 'LinearSVC': 0.7405640476422289,\n",
       " 'LogisticRegression': 0.7923603673774057,\n",
       " 'RandomForestClassifier': 0.8586635510985623,\n",
       " 'GaussianNB': 0.7040859377535456}"
      ]
     },
     "execution_count": 89,
     "metadata": {},
     "output_type": "execute_result"
    }
   ],
   "source": [
    "results2 = {}\n",
    "\n",
    "for model_name, model in models2.items():\n",
    "    model.fit(xtrain_scaled, y_train.values.ravel())\n",
    "    results2[model_name] = model.score(xtest_scaled, y_test.values.ravel())\n",
    "    \n",
    "results2"
   ]
  },
  {
   "cell_type": "markdown",
   "id": "1f486302",
   "metadata": {},
   "source": [
    "Random Forest Classifier had the highest accuracy of 0.86 with unscaled data\n",
    "\n",
    "Next the model will be built"
   ]
  },
  {
   "cell_type": "code",
   "execution_count": 90,
   "id": "64242465",
   "metadata": {},
   "outputs": [],
   "source": [
    "clf = RandomForestClassifier()"
   ]
  },
  {
   "cell_type": "code",
   "execution_count": 91,
   "id": "bcac9ba2",
   "metadata": {},
   "outputs": [
    {
     "data": {
      "text/plain": [
       "RandomForestClassifier()"
      ]
     },
     "execution_count": 91,
     "metadata": {},
     "output_type": "execute_result"
    }
   ],
   "source": [
    "#train the model\n",
    "clf.fit(x_train, y_train.values.ravel())"
   ]
  },
  {
   "cell_type": "code",
   "execution_count": 92,
   "id": "f319a7d4",
   "metadata": {},
   "outputs": [],
   "source": [
    "# performing predictions on the test dataset\n",
    "y_pred = clf.predict(x_test)"
   ]
  },
  {
   "cell_type": "code",
   "execution_count": 93,
   "id": "f4f2a292",
   "metadata": {},
   "outputs": [
    {
     "name": "stdout",
     "output_type": "stream",
     "text": [
      "ACCURACY OF THE MODEL:  0.8573653977217408\n"
     ]
    }
   ],
   "source": [
    "print(\"ACCURACY OF THE MODEL: \", accuracy_score(y_test, y_pred))"
   ]
  },
  {
   "cell_type": "code",
   "execution_count": 94,
   "id": "1657ac4c",
   "metadata": {},
   "outputs": [
    {
     "name": "stdout",
     "output_type": "stream",
     "text": [
      "              precision    recall  f1-score   support\n",
      "\n",
      "           1       0.87      0.85      0.86     10271\n",
      "           2       0.87      0.79      0.83     10271\n",
      "           3       0.83      0.93      0.88     10271\n",
      "\n",
      "    accuracy                           0.86     30813\n",
      "   macro avg       0.86      0.86      0.86     30813\n",
      "weighted avg       0.86      0.86      0.86     30813\n",
      "\n"
     ]
    }
   ],
   "source": [
    "#create a classification report\n",
    "print(classification_report(y_test, y_pred))"
   ]
  },
  {
   "cell_type": "code",
   "execution_count": 95,
   "id": "529b8c19",
   "metadata": {},
   "outputs": [
    {
     "data": {
      "text/plain": [
       "array([[8769,  868,  634],\n",
       "       [ 898, 8121, 1252],\n",
       "       [ 378,  365, 9528]], dtype=int64)"
      ]
     },
     "execution_count": 95,
     "metadata": {},
     "output_type": "execute_result"
    }
   ],
   "source": [
    "# Create a confusion matrix using the confusion_matrix function\n",
    "from sklearn.metrics import confusion_matrix\n",
    "\n",
    "confusion_matrix(y_test, y_pred)"
   ]
  },
  {
   "cell_type": "code",
   "execution_count": 96,
   "id": "ac7fd340",
   "metadata": {},
   "outputs": [
    {
     "data": {
      "image/png": "[encoded data removed]",
      "text/plain": [
       "<Figure size 216x216 with 1 Axes>"
      ]
     },
     "metadata": {
      "needs_background": "light"
     },
     "output_type": "display_data"
    }
   ],
   "source": [
    "# Create a more visual confusion matrix\n",
    "import seaborn as sns\n",
    "\n",
    "def plot_conf_mat(y_test, y_pred):\n",
    "    \"\"\"\n",
    "    Plots a confusion matrix using seaborn's heatmap()\n",
    "    \"\"\"\n",
    "    fix, ax = plt.subplots(figsize=(3, 3))\n",
    "    ax = sns.heatmap(confusion_matrix(y_test, y_pred),\n",
    "                     annot=True,\n",
    "                     cbar=False)\n",
    "    plt.xlabel(\"Predicted label\")\n",
    "    plt.ylabel(\"True label\")\n",
    "    \n",
    "plot_conf_mat(y_test, y_pred)"
   ]
  },
  {
   "cell_type": "code",
   "execution_count": 97,
   "id": "afa01a8d",
   "metadata": {},
   "outputs": [
    {
     "data": {
      "text/plain": [
       "casualty_severity                              0.463527\n",
       "number_of_casualties                           0.076694\n",
       "local_authority_district                       0.044281\n",
       "hour                                           0.043325\n",
       "police_force                                   0.037560\n",
       "first_road_number                              0.037290\n",
       "age_band_of_casualty                           0.034415\n",
       "accident_month                                 0.034114\n",
       "day_of_week                                    0.027499\n",
       "casualty_type                                  0.027203\n",
       "urban_or_rural_area                            0.022753\n",
       "number_of_vehicles                             0.020904\n",
       "casualty_imd_decile                            0.020705\n",
       "junction_detail                                0.017909\n",
       "casualty_home_area_type                        0.014518\n",
       "first_road_class                               0.014210\n",
       "did_police_officer_attend_scene_of_accident    0.011819\n",
       "junction_control                               0.011735\n",
       "casualty_class                                 0.010823\n",
       "road_type                                      0.009896\n",
       "sex_of_casualty                                0.009126\n",
       "trunk_road_flag                                0.006675\n",
       "carriageway_hazards                            0.002276\n",
       "pedestrian_crossing_human_control              0.000743\n",
       "dtype: float64"
      ]
     },
     "execution_count": 97,
     "metadata": {},
     "output_type": "execute_result"
    }
   ],
   "source": [
    "# Find the most important features using feature importance\n",
    "\n",
    "feature_scores = pd.Series(clf.feature_importances_, index=x_train.columns).sort_values(ascending=False)\n",
    "feature_scores"
   ]
  },
  {
   "cell_type": "code",
   "execution_count": 99,
   "id": "6b1b8d42",
   "metadata": {},
   "outputs": [],
   "source": [
    "#drop casualty severity to check the accuracy\n",
    "#resplit the data\n",
    "features1 = balanced_df.drop(['date','accident_severity','time', 'accident_year_x', 'accident_index', 'accident_year_y', 'casualty_severity'], axis=1)\n",
    "target1 = balanced_df[['accident_severity']]"
   ]
  },
  {
   "cell_type": "code",
   "execution_count": 100,
   "id": "36ec9487",
   "metadata": {},
   "outputs": [],
   "source": [
    "X_train, X_test, y_train, y_test = train_test_split(features1,target1, train_size=0.7, test_size=0.3, shuffle=True, stratify=target, random_state=42)\n"
   ]
  },
  {
   "cell_type": "code",
   "execution_count": 101,
   "id": "96a4d0e4",
   "metadata": {},
   "outputs": [
    {
     "data": {
      "text/plain": [
       "RandomForestClassifier()"
      ]
     },
     "execution_count": 101,
     "metadata": {},
     "output_type": "execute_result"
    }
   ],
   "source": [
    "#train the model\n",
    "clf.fit(X_train, y_train.values.ravel())"
   ]
  },
  {
   "cell_type": "code",
   "execution_count": 102,
   "id": "dfdb7b42",
   "metadata": {},
   "outputs": [],
   "source": [
    "# performing predictions on the test dataset\n",
    "y_predi = clf.predict(X_test)"
   ]
  },
  {
   "cell_type": "code",
   "execution_count": 103,
   "id": "54539ec6",
   "metadata": {},
   "outputs": [
    {
     "name": "stdout",
     "output_type": "stream",
     "text": [
      "ACCURACY OF THE MODEL:  0.5949112387628598\n"
     ]
    }
   ],
   "source": [
    "print(\"ACCURACY OF THE MODEL: \", accuracy_score(y_test, y_predi))"
   ]
  },
  {
   "cell_type": "code",
   "execution_count": null,
   "id": "200d576a",
   "metadata": {},
   "outputs": [],
   "source": []
  }
 ],
 "metadata": {
  "kernelspec": {
   "display_name": "Python 3 (ipykernel)",
   "language": "python",
   "name": "python3"
  },
  "language_info": {
   "codemirror_mode": {
    "name": "ipython",
    "version": 3
   },
   "file_extension": ".py",
   "mimetype": "text/x-python",
   "name": "python",
   "nbconvert_exporter": "python",
   "pygments_lexer": "ipython3",
   "version": "3.9.12"
  }
 },
 "nbformat": 4,
 "nbformat_minor": 5
}
