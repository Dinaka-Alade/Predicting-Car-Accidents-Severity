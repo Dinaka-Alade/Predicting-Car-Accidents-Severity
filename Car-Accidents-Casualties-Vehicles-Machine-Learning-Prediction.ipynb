{
 "cells": [
  {
   "cell_type": "code",
   "execution_count": 1,
   "id": "d9d1b5cc",
   "metadata": {},
   "outputs": [],
   "source": [
    "import pandas as pd\n",
    "import matplotlib.pyplot as plt\n",
    "import seaborn as sns"
   ]
  },
  {
   "cell_type": "code",
   "execution_count": 2,
   "id": "9fadaccb",
   "metadata": {},
   "outputs": [
    {
     "data": {
      "text/html": [
       "<div>\n",
       "<style scoped>\n",
       "    .dataframe tbody tr th:only-of-type {\n",
       "        vertical-align: middle;\n",
       "    }\n",
       "\n",
       "    .dataframe tbody tr th {\n",
       "        vertical-align: top;\n",
       "    }\n",
       "\n",
       "    .dataframe thead th {\n",
       "        text-align: right;\n",
       "    }\n",
       "</style>\n",
       "<table border=\"1\" class=\"dataframe\">\n",
       "  <thead>\n",
       "    <tr style=\"text-align: right;\">\n",
       "      <th></th>\n",
       "      <th>accident_index</th>\n",
       "      <th>accident_year</th>\n",
       "      <th>casualty_class</th>\n",
       "      <th>sex_of_casualty</th>\n",
       "      <th>age_band_of_casualty</th>\n",
       "      <th>casualty_severity</th>\n",
       "      <th>pedestrian_location</th>\n",
       "      <th>pedestrian_movement</th>\n",
       "      <th>car_passenger</th>\n",
       "      <th>bus_or_coach_passenger</th>\n",
       "      <th>pedestrian_road_maintenance_worker</th>\n",
       "      <th>casualty_type</th>\n",
       "      <th>casualty_home_area_type</th>\n",
       "      <th>casualty_imd_decile</th>\n",
       "    </tr>\n",
       "  </thead>\n",
       "  <tbody>\n",
       "    <tr>\n",
       "      <th>0</th>\n",
       "      <td>201001BS70003</td>\n",
       "      <td>2010</td>\n",
       "      <td>1</td>\n",
       "      <td>1</td>\n",
       "      <td>6</td>\n",
       "      <td>3</td>\n",
       "      <td>0</td>\n",
       "      <td>0</td>\n",
       "      <td>0</td>\n",
       "      <td>0</td>\n",
       "      <td>0</td>\n",
       "      <td>1</td>\n",
       "      <td>1</td>\n",
       "      <td>-1</td>\n",
       "    </tr>\n",
       "    <tr>\n",
       "      <th>1</th>\n",
       "      <td>201001BS70004</td>\n",
       "      <td>2010</td>\n",
       "      <td>3</td>\n",
       "      <td>1</td>\n",
       "      <td>8</td>\n",
       "      <td>3</td>\n",
       "      <td>4</td>\n",
       "      <td>3</td>\n",
       "      <td>0</td>\n",
       "      <td>0</td>\n",
       "      <td>2</td>\n",
       "      <td>0</td>\n",
       "      <td>1</td>\n",
       "      <td>-1</td>\n",
       "    </tr>\n",
       "    <tr>\n",
       "      <th>2</th>\n",
       "      <td>201001BS70006</td>\n",
       "      <td>2010</td>\n",
       "      <td>1</td>\n",
       "      <td>1</td>\n",
       "      <td>6</td>\n",
       "      <td>3</td>\n",
       "      <td>0</td>\n",
       "      <td>0</td>\n",
       "      <td>0</td>\n",
       "      <td>0</td>\n",
       "      <td>0</td>\n",
       "      <td>1</td>\n",
       "      <td>1</td>\n",
       "      <td>-1</td>\n",
       "    </tr>\n",
       "    <tr>\n",
       "      <th>3</th>\n",
       "      <td>201001BS70007</td>\n",
       "      <td>2010</td>\n",
       "      <td>2</td>\n",
       "      <td>1</td>\n",
       "      <td>-1</td>\n",
       "      <td>3</td>\n",
       "      <td>0</td>\n",
       "      <td>0</td>\n",
       "      <td>1</td>\n",
       "      <td>0</td>\n",
       "      <td>0</td>\n",
       "      <td>9</td>\n",
       "      <td>1</td>\n",
       "      <td>-1</td>\n",
       "    </tr>\n",
       "    <tr>\n",
       "      <th>4</th>\n",
       "      <td>201001BS70008</td>\n",
       "      <td>2010</td>\n",
       "      <td>2</td>\n",
       "      <td>1</td>\n",
       "      <td>6</td>\n",
       "      <td>3</td>\n",
       "      <td>0</td>\n",
       "      <td>0</td>\n",
       "      <td>0</td>\n",
       "      <td>0</td>\n",
       "      <td>0</td>\n",
       "      <td>5</td>\n",
       "      <td>1</td>\n",
       "      <td>-1</td>\n",
       "    </tr>\n",
       "  </tbody>\n",
       "</table>\n",
       "</div>"
      ],
      "text/plain": [
       "  accident_index  accident_year  casualty_class  sex_of_casualty  \\\n",
       "0  201001BS70003           2010               1                1   \n",
       "1  201001BS70004           2010               3                1   \n",
       "2  201001BS70006           2010               1                1   \n",
       "3  201001BS70007           2010               2                1   \n",
       "4  201001BS70008           2010               2                1   \n",
       "\n",
       "   age_band_of_casualty  casualty_severity  pedestrian_location  \\\n",
       "0                     6                  3                    0   \n",
       "1                     8                  3                    4   \n",
       "2                     6                  3                    0   \n",
       "3                    -1                  3                    0   \n",
       "4                     6                  3                    0   \n",
       "\n",
       "   pedestrian_movement  car_passenger  bus_or_coach_passenger  \\\n",
       "0                    0              0                       0   \n",
       "1                    3              0                       0   \n",
       "2                    0              0                       0   \n",
       "3                    0              1                       0   \n",
       "4                    0              0                       0   \n",
       "\n",
       "   pedestrian_road_maintenance_worker  casualty_type  casualty_home_area_type  \\\n",
       "0                                   0              1                        1   \n",
       "1                                   2              0                        1   \n",
       "2                                   0              1                        1   \n",
       "3                                   0              9                        1   \n",
       "4                                   0              5                        1   \n",
       "\n",
       "   casualty_imd_decile  \n",
       "0                   -1  \n",
       "1                   -1  \n",
       "2                   -1  \n",
       "3                   -1  \n",
       "4                   -1  "
      ]
     },
     "execution_count": 2,
     "metadata": {},
     "output_type": "execute_result"
    }
   ],
   "source": [
    "#import cleaned casualty data\n",
    "casu = pd.read_csv('updated_casu_data.csv', low_memory=False)\n",
    "casu.head()"
   ]
  },
  {
   "cell_type": "code",
   "execution_count": 3,
   "id": "fe6aff6c",
   "metadata": {
    "scrolled": true
   },
   "outputs": [
    {
     "data": {
      "text/html": [
       "<div>\n",
       "<style scoped>\n",
       "    .dataframe tbody tr th:only-of-type {\n",
       "        vertical-align: middle;\n",
       "    }\n",
       "\n",
       "    .dataframe tbody tr th {\n",
       "        vertical-align: top;\n",
       "    }\n",
       "\n",
       "    .dataframe thead th {\n",
       "        text-align: right;\n",
       "    }\n",
       "</style>\n",
       "<table border=\"1\" class=\"dataframe\">\n",
       "  <thead>\n",
       "    <tr style=\"text-align: right;\">\n",
       "      <th></th>\n",
       "      <th>accident_index</th>\n",
       "      <th>accident_year</th>\n",
       "      <th>police_force</th>\n",
       "      <th>accident_severity</th>\n",
       "      <th>number_of_vehicles</th>\n",
       "      <th>number_of_casualties</th>\n",
       "      <th>date</th>\n",
       "      <th>day_of_week</th>\n",
       "      <th>time</th>\n",
       "      <th>local_authority_district</th>\n",
       "      <th>...</th>\n",
       "      <th>light_conditions</th>\n",
       "      <th>weather_conditions</th>\n",
       "      <th>road_surface_conditions</th>\n",
       "      <th>special_conditions_at_site</th>\n",
       "      <th>carriageway_hazards</th>\n",
       "      <th>urban_or_rural_area</th>\n",
       "      <th>did_police_officer_attend_scene_of_accident</th>\n",
       "      <th>trunk_road_flag</th>\n",
       "      <th>accident_month</th>\n",
       "      <th>hour</th>\n",
       "    </tr>\n",
       "  </thead>\n",
       "  <tbody>\n",
       "    <tr>\n",
       "      <th>0</th>\n",
       "      <td>201001BS70003</td>\n",
       "      <td>2010</td>\n",
       "      <td>1</td>\n",
       "      <td>3</td>\n",
       "      <td>2</td>\n",
       "      <td>1</td>\n",
       "      <td>2010-11-01</td>\n",
       "      <td>2</td>\n",
       "      <td>2023-01-04 07:30:00</td>\n",
       "      <td>12</td>\n",
       "      <td>...</td>\n",
       "      <td>1</td>\n",
       "      <td>8</td>\n",
       "      <td>2</td>\n",
       "      <td>0</td>\n",
       "      <td>0</td>\n",
       "      <td>1</td>\n",
       "      <td>1</td>\n",
       "      <td>2</td>\n",
       "      <td>11</td>\n",
       "      <td>7</td>\n",
       "    </tr>\n",
       "    <tr>\n",
       "      <th>1</th>\n",
       "      <td>201001BS70004</td>\n",
       "      <td>2010</td>\n",
       "      <td>1</td>\n",
       "      <td>3</td>\n",
       "      <td>1</td>\n",
       "      <td>1</td>\n",
       "      <td>2010-11-01</td>\n",
       "      <td>2</td>\n",
       "      <td>2023-01-04 18:35:00</td>\n",
       "      <td>12</td>\n",
       "      <td>...</td>\n",
       "      <td>4</td>\n",
       "      <td>2</td>\n",
       "      <td>2</td>\n",
       "      <td>0</td>\n",
       "      <td>0</td>\n",
       "      <td>1</td>\n",
       "      <td>1</td>\n",
       "      <td>2</td>\n",
       "      <td>11</td>\n",
       "      <td>18</td>\n",
       "    </tr>\n",
       "    <tr>\n",
       "      <th>2</th>\n",
       "      <td>201001BS70006</td>\n",
       "      <td>2010</td>\n",
       "      <td>1</td>\n",
       "      <td>3</td>\n",
       "      <td>2</td>\n",
       "      <td>1</td>\n",
       "      <td>2010-12-01</td>\n",
       "      <td>3</td>\n",
       "      <td>2023-01-04 10:22:00</td>\n",
       "      <td>12</td>\n",
       "      <td>...</td>\n",
       "      <td>1</td>\n",
       "      <td>1</td>\n",
       "      <td>1</td>\n",
       "      <td>0</td>\n",
       "      <td>0</td>\n",
       "      <td>1</td>\n",
       "      <td>1</td>\n",
       "      <td>2</td>\n",
       "      <td>12</td>\n",
       "      <td>10</td>\n",
       "    </tr>\n",
       "    <tr>\n",
       "      <th>3</th>\n",
       "      <td>201001BS70007</td>\n",
       "      <td>2010</td>\n",
       "      <td>1</td>\n",
       "      <td>3</td>\n",
       "      <td>2</td>\n",
       "      <td>1</td>\n",
       "      <td>2010-02-01</td>\n",
       "      <td>7</td>\n",
       "      <td>2023-01-04 21:21:00</td>\n",
       "      <td>12</td>\n",
       "      <td>...</td>\n",
       "      <td>4</td>\n",
       "      <td>1</td>\n",
       "      <td>1</td>\n",
       "      <td>0</td>\n",
       "      <td>0</td>\n",
       "      <td>1</td>\n",
       "      <td>1</td>\n",
       "      <td>2</td>\n",
       "      <td>2</td>\n",
       "      <td>21</td>\n",
       "    </tr>\n",
       "    <tr>\n",
       "      <th>4</th>\n",
       "      <td>201001BS70008</td>\n",
       "      <td>2010</td>\n",
       "      <td>1</td>\n",
       "      <td>3</td>\n",
       "      <td>2</td>\n",
       "      <td>1</td>\n",
       "      <td>2010-04-01</td>\n",
       "      <td>2</td>\n",
       "      <td>2023-01-04 20:35:00</td>\n",
       "      <td>12</td>\n",
       "      <td>...</td>\n",
       "      <td>4</td>\n",
       "      <td>1</td>\n",
       "      <td>2</td>\n",
       "      <td>0</td>\n",
       "      <td>0</td>\n",
       "      <td>1</td>\n",
       "      <td>1</td>\n",
       "      <td>2</td>\n",
       "      <td>4</td>\n",
       "      <td>20</td>\n",
       "    </tr>\n",
       "  </tbody>\n",
       "</table>\n",
       "<p>5 rows × 30 columns</p>\n",
       "</div>"
      ],
      "text/plain": [
       "  accident_index  accident_year  police_force  accident_severity  \\\n",
       "0  201001BS70003           2010             1                  3   \n",
       "1  201001BS70004           2010             1                  3   \n",
       "2  201001BS70006           2010             1                  3   \n",
       "3  201001BS70007           2010             1                  3   \n",
       "4  201001BS70008           2010             1                  3   \n",
       "\n",
       "   number_of_vehicles  number_of_casualties        date  day_of_week  \\\n",
       "0                   2                     1  2010-11-01            2   \n",
       "1                   1                     1  2010-11-01            2   \n",
       "2                   2                     1  2010-12-01            3   \n",
       "3                   2                     1  2010-02-01            7   \n",
       "4                   2                     1  2010-04-01            2   \n",
       "\n",
       "                  time  local_authority_district  ...  light_conditions  \\\n",
       "0  2023-01-04 07:30:00                        12  ...                 1   \n",
       "1  2023-01-04 18:35:00                        12  ...                 4   \n",
       "2  2023-01-04 10:22:00                        12  ...                 1   \n",
       "3  2023-01-04 21:21:00                        12  ...                 4   \n",
       "4  2023-01-04 20:35:00                        12  ...                 4   \n",
       "\n",
       "   weather_conditions  road_surface_conditions  special_conditions_at_site  \\\n",
       "0                   8                        2                           0   \n",
       "1                   2                        2                           0   \n",
       "2                   1                        1                           0   \n",
       "3                   1                        1                           0   \n",
       "4                   1                        2                           0   \n",
       "\n",
       "   carriageway_hazards  urban_or_rural_area  \\\n",
       "0                    0                    1   \n",
       "1                    0                    1   \n",
       "2                    0                    1   \n",
       "3                    0                    1   \n",
       "4                    0                    1   \n",
       "\n",
       "   did_police_officer_attend_scene_of_accident  trunk_road_flag  \\\n",
       "0                                            1                2   \n",
       "1                                            1                2   \n",
       "2                                            1                2   \n",
       "3                                            1                2   \n",
       "4                                            1                2   \n",
       "\n",
       "   accident_month  hour  \n",
       "0              11     7  \n",
       "1              11    18  \n",
       "2              12    10  \n",
       "3               2    21  \n",
       "4               4    20  \n",
       "\n",
       "[5 rows x 30 columns]"
      ]
     },
     "execution_count": 3,
     "metadata": {},
     "output_type": "execute_result"
    }
   ],
   "source": [
    "acc = pd.read_csv('updated_acc_data.csv', low_memory=False)\n",
    "acc.head()"
   ]
  },
  {
   "cell_type": "code",
   "execution_count": 4,
   "id": "1d6afff8",
   "metadata": {
    "scrolled": true
   },
   "outputs": [
    {
     "data": {
      "text/html": [
       "<div>\n",
       "<style scoped>\n",
       "    .dataframe tbody tr th:only-of-type {\n",
       "        vertical-align: middle;\n",
       "    }\n",
       "\n",
       "    .dataframe tbody tr th {\n",
       "        vertical-align: top;\n",
       "    }\n",
       "\n",
       "    .dataframe thead th {\n",
       "        text-align: right;\n",
       "    }\n",
       "</style>\n",
       "<table border=\"1\" class=\"dataframe\">\n",
       "  <thead>\n",
       "    <tr style=\"text-align: right;\">\n",
       "      <th></th>\n",
       "      <th>accident_index</th>\n",
       "      <th>vehicle_type</th>\n",
       "      <th>vehicle_manoeuvre</th>\n",
       "      <th>vehicle_direction_from</th>\n",
       "      <th>vehicle_direction_to</th>\n",
       "      <th>first_point_of_impact</th>\n",
       "      <th>sex_of_driver</th>\n",
       "      <th>age_band_of_driver</th>\n",
       "      <th>engine_capacity_cc</th>\n",
       "      <th>propulsion_code</th>\n",
       "      <th>age_of_vehicle</th>\n",
       "      <th>generic_make_model</th>\n",
       "      <th>driver_imd_decile</th>\n",
       "      <th>driver_home_area_type</th>\n",
       "    </tr>\n",
       "  </thead>\n",
       "  <tbody>\n",
       "    <tr>\n",
       "      <th>0</th>\n",
       "      <td>201001BS70004</td>\n",
       "      <td>9</td>\n",
       "      <td>18</td>\n",
       "      <td>2</td>\n",
       "      <td>6</td>\n",
       "      <td>1</td>\n",
       "      <td>1</td>\n",
       "      <td>8</td>\n",
       "      <td>1870</td>\n",
       "      <td>2</td>\n",
       "      <td>3</td>\n",
       "      <td>-1</td>\n",
       "      <td>-1</td>\n",
       "      <td>1</td>\n",
       "    </tr>\n",
       "    <tr>\n",
       "      <th>1</th>\n",
       "      <td>201001BS70007</td>\n",
       "      <td>9</td>\n",
       "      <td>17</td>\n",
       "      <td>4</td>\n",
       "      <td>1</td>\n",
       "      <td>4</td>\n",
       "      <td>2</td>\n",
       "      <td>5</td>\n",
       "      <td>1998</td>\n",
       "      <td>1</td>\n",
       "      <td>7</td>\n",
       "      <td>-1</td>\n",
       "      <td>-1</td>\n",
       "      <td>1</td>\n",
       "    </tr>\n",
       "    <tr>\n",
       "      <th>2</th>\n",
       "      <td>201001BS70007</td>\n",
       "      <td>9</td>\n",
       "      <td>18</td>\n",
       "      <td>6</td>\n",
       "      <td>2</td>\n",
       "      <td>1</td>\n",
       "      <td>2</td>\n",
       "      <td>7</td>\n",
       "      <td>1397</td>\n",
       "      <td>1</td>\n",
       "      <td>11</td>\n",
       "      <td>-1</td>\n",
       "      <td>-1</td>\n",
       "      <td>3</td>\n",
       "    </tr>\n",
       "    <tr>\n",
       "      <th>3</th>\n",
       "      <td>201001BS70008</td>\n",
       "      <td>8</td>\n",
       "      <td>9</td>\n",
       "      <td>6</td>\n",
       "      <td>4</td>\n",
       "      <td>4</td>\n",
       "      <td>1</td>\n",
       "      <td>8</td>\n",
       "      <td>1995</td>\n",
       "      <td>2</td>\n",
       "      <td>8</td>\n",
       "      <td>-1</td>\n",
       "      <td>-1</td>\n",
       "      <td>1</td>\n",
       "    </tr>\n",
       "    <tr>\n",
       "      <th>4</th>\n",
       "      <td>201001BS70009</td>\n",
       "      <td>9</td>\n",
       "      <td>18</td>\n",
       "      <td>3</td>\n",
       "      <td>7</td>\n",
       "      <td>1</td>\n",
       "      <td>1</td>\n",
       "      <td>6</td>\n",
       "      <td>1781</td>\n",
       "      <td>1</td>\n",
       "      <td>11</td>\n",
       "      <td>-1</td>\n",
       "      <td>-1</td>\n",
       "      <td>-1</td>\n",
       "    </tr>\n",
       "  </tbody>\n",
       "</table>\n",
       "</div>"
      ],
      "text/plain": [
       "  accident_index  vehicle_type  vehicle_manoeuvre  vehicle_direction_from  \\\n",
       "0  201001BS70004             9                 18                       2   \n",
       "1  201001BS70007             9                 17                       4   \n",
       "2  201001BS70007             9                 18                       6   \n",
       "3  201001BS70008             8                  9                       6   \n",
       "4  201001BS70009             9                 18                       3   \n",
       "\n",
       "   vehicle_direction_to  first_point_of_impact  sex_of_driver  \\\n",
       "0                     6                      1              1   \n",
       "1                     1                      4              2   \n",
       "2                     2                      1              2   \n",
       "3                     4                      4              1   \n",
       "4                     7                      1              1   \n",
       "\n",
       "   age_band_of_driver  engine_capacity_cc  propulsion_code  age_of_vehicle  \\\n",
       "0                   8                1870                2               3   \n",
       "1                   5                1998                1               7   \n",
       "2                   7                1397                1              11   \n",
       "3                   8                1995                2               8   \n",
       "4                   6                1781                1              11   \n",
       "\n",
       "  generic_make_model  driver_imd_decile  driver_home_area_type  \n",
       "0                 -1                 -1                      1  \n",
       "1                 -1                 -1                      1  \n",
       "2                 -1                 -1                      3  \n",
       "3                 -1                 -1                      1  \n",
       "4                 -1                 -1                     -1  "
      ]
     },
     "execution_count": 4,
     "metadata": {},
     "output_type": "execute_result"
    }
   ],
   "source": [
    "vehi = pd.read_csv('updated_vehi_data.csv', low_memory=False)\n",
    "vehi.head()"
   ]
  },
  {
   "cell_type": "code",
   "execution_count": 5,
   "id": "5ff7f86f",
   "metadata": {},
   "outputs": [
    {
     "data": {
      "text/plain": [
       "(2082582, 14)"
      ]
     },
     "execution_count": 5,
     "metadata": {},
     "output_type": "execute_result"
    }
   ],
   "source": [
    "casu.shape"
   ]
  },
  {
   "cell_type": "code",
   "execution_count": 6,
   "id": "20d14d79",
   "metadata": {
    "scrolled": true
   },
   "outputs": [
    {
     "data": {
      "text/plain": [
       "(1575343, 30)"
      ]
     },
     "execution_count": 6,
     "metadata": {},
     "output_type": "execute_result"
    }
   ],
   "source": [
    "acc.shape"
   ]
  },
  {
   "cell_type": "code",
   "execution_count": 7,
   "id": "e98b406a",
   "metadata": {},
   "outputs": [
    {
     "data": {
      "text/plain": [
       "(2107494, 14)"
      ]
     },
     "execution_count": 7,
     "metadata": {},
     "output_type": "execute_result"
    }
   ],
   "source": [
    "vehi.shape"
   ]
  },
  {
   "cell_type": "code",
   "execution_count": 8,
   "id": "0eb56e0a",
   "metadata": {},
   "outputs": [
    {
     "data": {
      "text/plain": [
       "accident_index                        0\n",
       "accident_year                         0\n",
       "casualty_class                        0\n",
       "sex_of_casualty                       0\n",
       "age_band_of_casualty                  0\n",
       "casualty_severity                     0\n",
       "pedestrian_location                   0\n",
       "pedestrian_movement                   0\n",
       "car_passenger                         0\n",
       "bus_or_coach_passenger                0\n",
       "pedestrian_road_maintenance_worker    0\n",
       "casualty_type                         0\n",
       "casualty_home_area_type               0\n",
       "casualty_imd_decile                   0\n",
       "dtype: int64"
      ]
     },
     "execution_count": 8,
     "metadata": {},
     "output_type": "execute_result"
    }
   ],
   "source": [
    "casu.isna().sum()"
   ]
  },
  {
   "cell_type": "code",
   "execution_count": 9,
   "id": "5379ab49",
   "metadata": {
    "scrolled": true
   },
   "outputs": [
    {
     "data": {
      "text/plain": [
       "accident_index                                 0\n",
       "accident_year                                  0\n",
       "police_force                                   0\n",
       "accident_severity                              0\n",
       "number_of_vehicles                             0\n",
       "number_of_casualties                           0\n",
       "date                                           0\n",
       "day_of_week                                    0\n",
       "time                                           0\n",
       "local_authority_district                       0\n",
       "first_road_class                               0\n",
       "first_road_number                              0\n",
       "road_type                                      0\n",
       "speed_limit                                    0\n",
       "junction_detail                                0\n",
       "junction_control                               0\n",
       "second_road_class                              0\n",
       "second_road_number                             0\n",
       "pedestrian_crossing_human_control              0\n",
       "pedestrian_crossing_physical_facilities        0\n",
       "light_conditions                               0\n",
       "weather_conditions                             0\n",
       "road_surface_conditions                        0\n",
       "special_conditions_at_site                     0\n",
       "carriageway_hazards                            0\n",
       "urban_or_rural_area                            0\n",
       "did_police_officer_attend_scene_of_accident    0\n",
       "trunk_road_flag                                0\n",
       "accident_month                                 0\n",
       "hour                                           0\n",
       "dtype: int64"
      ]
     },
     "execution_count": 9,
     "metadata": {},
     "output_type": "execute_result"
    }
   ],
   "source": [
    "acc.isna().sum()"
   ]
  },
  {
   "cell_type": "code",
   "execution_count": 10,
   "id": "64716fcd",
   "metadata": {},
   "outputs": [
    {
     "data": {
      "text/plain": [
       "accident_index            0\n",
       "vehicle_type              0\n",
       "vehicle_manoeuvre         0\n",
       "vehicle_direction_from    0\n",
       "vehicle_direction_to      0\n",
       "first_point_of_impact     0\n",
       "sex_of_driver             0\n",
       "age_band_of_driver        0\n",
       "engine_capacity_cc        0\n",
       "propulsion_code           0\n",
       "age_of_vehicle            0\n",
       "generic_make_model        0\n",
       "driver_imd_decile         0\n",
       "driver_home_area_type     0\n",
       "dtype: int64"
      ]
     },
     "execution_count": 10,
     "metadata": {},
     "output_type": "execute_result"
    }
   ],
   "source": [
    "vehi.isna().sum()"
   ]
  },
  {
   "cell_type": "code",
   "execution_count": 11,
   "id": "ab201348",
   "metadata": {},
   "outputs": [
    {
     "data": {
      "text/plain": [
       "accident_index                        object\n",
       "accident_year                          int64\n",
       "casualty_class                         int64\n",
       "sex_of_casualty                        int64\n",
       "age_band_of_casualty                   int64\n",
       "casualty_severity                      int64\n",
       "pedestrian_location                    int64\n",
       "pedestrian_movement                    int64\n",
       "car_passenger                          int64\n",
       "bus_or_coach_passenger                 int64\n",
       "pedestrian_road_maintenance_worker     int64\n",
       "casualty_type                          int64\n",
       "casualty_home_area_type                int64\n",
       "casualty_imd_decile                    int64\n",
       "dtype: object"
      ]
     },
     "execution_count": 11,
     "metadata": {},
     "output_type": "execute_result"
    }
   ],
   "source": [
    "casu.dtypes"
   ]
  },
  {
   "cell_type": "code",
   "execution_count": 12,
   "id": "7eac93ea",
   "metadata": {
    "scrolled": true
   },
   "outputs": [
    {
     "data": {
      "text/plain": [
       "accident_index                                  object\n",
       "accident_year                                    int64\n",
       "police_force                                     int64\n",
       "accident_severity                                int64\n",
       "number_of_vehicles                               int64\n",
       "number_of_casualties                             int64\n",
       "date                                            object\n",
       "day_of_week                                      int64\n",
       "time                                            object\n",
       "local_authority_district                         int64\n",
       "first_road_class                                 int64\n",
       "first_road_number                                int64\n",
       "road_type                                        int64\n",
       "speed_limit                                    float64\n",
       "junction_detail                                  int64\n",
       "junction_control                                 int64\n",
       "second_road_class                                int64\n",
       "second_road_number                               int64\n",
       "pedestrian_crossing_human_control                int64\n",
       "pedestrian_crossing_physical_facilities          int64\n",
       "light_conditions                                 int64\n",
       "weather_conditions                               int64\n",
       "road_surface_conditions                          int64\n",
       "special_conditions_at_site                       int64\n",
       "carriageway_hazards                              int64\n",
       "urban_or_rural_area                              int64\n",
       "did_police_officer_attend_scene_of_accident      int64\n",
       "trunk_road_flag                                  int64\n",
       "accident_month                                   int64\n",
       "hour                                             int64\n",
       "dtype: object"
      ]
     },
     "execution_count": 12,
     "metadata": {},
     "output_type": "execute_result"
    }
   ],
   "source": [
    "acc.dtypes"
   ]
  },
  {
   "cell_type": "code",
   "execution_count": 13,
   "id": "90cca218",
   "metadata": {},
   "outputs": [
    {
     "data": {
      "text/plain": [
       "accident_index            object\n",
       "vehicle_type               int64\n",
       "vehicle_manoeuvre          int64\n",
       "vehicle_direction_from     int64\n",
       "vehicle_direction_to       int64\n",
       "first_point_of_impact      int64\n",
       "sex_of_driver              int64\n",
       "age_band_of_driver         int64\n",
       "engine_capacity_cc         int64\n",
       "propulsion_code            int64\n",
       "age_of_vehicle             int64\n",
       "generic_make_model        object\n",
       "driver_imd_decile          int64\n",
       "driver_home_area_type      int64\n",
       "dtype: object"
      ]
     },
     "execution_count": 13,
     "metadata": {},
     "output_type": "execute_result"
    }
   ],
   "source": [
    "vehi.dtypes"
   ]
  },
  {
   "cell_type": "code",
   "execution_count": 14,
   "id": "82b645ac",
   "metadata": {},
   "outputs": [],
   "source": [
    "#reconvert the data types for accidents\n",
    "acc['date'] = pd.to_datetime(acc['date'])\n",
    "acc['time'] = pd.to_datetime(acc['time'])\n",
    "acc['accident_month'] = acc['date'].dt.month\n",
    "acc['hour'] = acc['time'].dt.hour"
   ]
  },
  {
   "cell_type": "code",
   "execution_count": 15,
   "id": "69ac44b6",
   "metadata": {},
   "outputs": [],
   "source": [
    "acc['police_force'] = acc['police_force'].astype('category')\n",
    "acc['accident_severity'] = acc['accident_severity'].astype('category')\n",
    "acc['local_authority_district'] = acc['local_authority_district'].astype('category')\n",
    "acc['first_road_class'] = acc['first_road_class'].astype('category')\n",
    "acc['first_road_number'] = acc['first_road_number'].astype('category')\n",
    "acc['road_type'] = acc['road_type'].astype('category')\n",
    "acc['junction_detail'] = acc['junction_detail'].astype('category')\n",
    "acc['junction_control'] = acc['junction_control'].astype('category')\n",
    "acc['second_road_class'] = acc['second_road_class'].astype('category')\n",
    "acc['second_road_number'] = acc['second_road_number'].astype('category')\n",
    "acc['pedestrian_crossing_human_control'] = acc['pedestrian_crossing_human_control'].astype('category')\n",
    "acc['pedestrian_crossing_physical_facilities'] = acc['pedestrian_crossing_physical_facilities'].astype('category')\n",
    "acc['light_conditions'] = acc['light_conditions'].astype('category')\n",
    "acc['weather_conditions'] = acc['weather_conditions'].astype('category')\n",
    "acc['road_surface_conditions'] = acc['road_surface_conditions'].astype('category')\n",
    "acc['special_conditions_at_site'] = acc['special_conditions_at_site'].astype('category')\n",
    "acc['carriageway_hazards'] = acc['carriageway_hazards'].astype('category')\n",
    "acc['urban_or_rural_area'] = acc['urban_or_rural_area'].astype('category')\n",
    "acc['did_police_officer_attend_scene_of_accident'] = acc['did_police_officer_attend_scene_of_accident'].astype('category')\n",
    "acc['trunk_road_flag'] = acc['trunk_road_flag'].astype('category')\n",
    "acc['accident_month'] = acc['accident_month'].astype('category')\n",
    "acc['hour'] = acc['hour'].astype('category')"
   ]
  },
  {
   "cell_type": "code",
   "execution_count": 16,
   "id": "f3ca386d",
   "metadata": {},
   "outputs": [],
   "source": [
    "#reconvert the data types for casualties\n",
    "casu['casualty_class'] = casu['casualty_class'].astype('category')\n",
    "casu['sex_of_casualty'] = casu['sex_of_casualty'].astype('category')\n",
    "casu['age_band_of_casualty'] = casu['age_band_of_casualty'].astype('category')\n",
    "casu['casualty_severity'] =casu['casualty_severity'].astype('category')\n",
    "casu['pedestrian_location'] = casu['pedestrian_location'].astype('category')\n",
    "casu['pedestrian_movement'] = casu['pedestrian_movement'].astype('category')\n",
    "casu['car_passenger'] = casu['car_passenger'].astype('category')\n",
    "casu['bus_or_coach_passenger'] = casu['bus_or_coach_passenger'].astype('category')\n",
    "casu['pedestrian_road_maintenance_worker'] = casu['pedestrian_road_maintenance_worker'].astype('category')\n",
    "casu['casualty_type'] = casu['casualty_type'].astype('category')\n",
    "casu['casualty_home_area_type'] = casu['casualty_home_area_type'].astype('category')\n",
    "casu['casualty_imd_decile'] = casu['casualty_imd_decile'].astype('category')"
   ]
  },
  {
   "cell_type": "code",
   "execution_count": 17,
   "id": "c7099fc9",
   "metadata": {},
   "outputs": [
    {
     "data": {
      "text/plain": [
       "Index(['accident_index', 'vehicle_type', 'vehicle_manoeuvre',\n",
       "       'vehicle_direction_from', 'vehicle_direction_to',\n",
       "       'first_point_of_impact', 'sex_of_driver', 'age_band_of_driver',\n",
       "       'engine_capacity_cc', 'propulsion_code', 'age_of_vehicle',\n",
       "       'generic_make_model', 'driver_imd_decile', 'driver_home_area_type'],\n",
       "      dtype='object')"
      ]
     },
     "execution_count": 17,
     "metadata": {},
     "output_type": "execute_result"
    }
   ],
   "source": [
    "vehi.columns"
   ]
  },
  {
   "cell_type": "code",
   "execution_count": 18,
   "id": "1546e734",
   "metadata": {},
   "outputs": [],
   "source": [
    "#convert the data types for vehicles\n",
    "vehi['vehicle_type'] = vehi['vehicle_type'].astype('category')\n",
    "vehi['vehicle_manoeuvre'] = vehi['vehicle_manoeuvre'].astype('category')\n",
    "vehi['vehicle_direction_from'] = vehi['vehicle_direction_from'].astype('category')\n",
    "vehi['vehicle_direction_to'] =vehi['vehicle_direction_to'].astype('category')\n",
    "vehi['first_point_of_impact'] = vehi['first_point_of_impact'].astype('category')\n",
    "vehi['sex_of_driver'] = vehi['sex_of_driver'].astype('category')\n",
    "vehi['age_band_of_driver'] = vehi['age_band_of_driver'].astype('category')\n",
    "vehi['propulsion_code'] = vehi['propulsion_code'].astype('category')\n",
    "vehi['generic_make_model'] = vehi['generic_make_model'].astype('category')\n",
    "vehi['driver_imd_decile'] = vehi['driver_imd_decile'].astype('category')\n",
    "vehi['driver_home_area_type'] = vehi['driver_home_area_type'].astype('category')"
   ]
  },
  {
   "cell_type": "code",
   "execution_count": 19,
   "id": "6f6cda9c",
   "metadata": {},
   "outputs": [
    {
     "data": {
      "text/plain": [
       "accident_index                                         object\n",
       "accident_year                                           int64\n",
       "police_force                                         category\n",
       "accident_severity                                    category\n",
       "number_of_vehicles                                      int64\n",
       "number_of_casualties                                    int64\n",
       "date                                           datetime64[ns]\n",
       "day_of_week                                             int64\n",
       "time                                           datetime64[ns]\n",
       "local_authority_district                             category\n",
       "first_road_class                                     category\n",
       "first_road_number                                    category\n",
       "road_type                                            category\n",
       "speed_limit                                           float64\n",
       "junction_detail                                      category\n",
       "junction_control                                     category\n",
       "second_road_class                                    category\n",
       "second_road_number                                   category\n",
       "pedestrian_crossing_human_control                    category\n",
       "pedestrian_crossing_physical_facilities              category\n",
       "light_conditions                                     category\n",
       "weather_conditions                                   category\n",
       "road_surface_conditions                              category\n",
       "special_conditions_at_site                           category\n",
       "carriageway_hazards                                  category\n",
       "urban_or_rural_area                                  category\n",
       "did_police_officer_attend_scene_of_accident          category\n",
       "trunk_road_flag                                      category\n",
       "accident_month                                       category\n",
       "hour                                                 category\n",
       "dtype: object"
      ]
     },
     "execution_count": 19,
     "metadata": {},
     "output_type": "execute_result"
    }
   ],
   "source": [
    "acc.dtypes"
   ]
  },
  {
   "cell_type": "code",
   "execution_count": 20,
   "id": "5fea208e",
   "metadata": {
    "scrolled": true
   },
   "outputs": [
    {
     "data": {
      "text/plain": [
       "accident_index                          object\n",
       "accident_year                            int64\n",
       "casualty_class                        category\n",
       "sex_of_casualty                       category\n",
       "age_band_of_casualty                  category\n",
       "casualty_severity                     category\n",
       "pedestrian_location                   category\n",
       "pedestrian_movement                   category\n",
       "car_passenger                         category\n",
       "bus_or_coach_passenger                category\n",
       "pedestrian_road_maintenance_worker    category\n",
       "casualty_type                         category\n",
       "casualty_home_area_type               category\n",
       "casualty_imd_decile                   category\n",
       "dtype: object"
      ]
     },
     "execution_count": 20,
     "metadata": {},
     "output_type": "execute_result"
    }
   ],
   "source": [
    "casu.dtypes"
   ]
  },
  {
   "cell_type": "code",
   "execution_count": 21,
   "id": "ce40c734",
   "metadata": {},
   "outputs": [
    {
     "data": {
      "text/plain": [
       "accident_index              object\n",
       "vehicle_type              category\n",
       "vehicle_manoeuvre         category\n",
       "vehicle_direction_from    category\n",
       "vehicle_direction_to      category\n",
       "first_point_of_impact     category\n",
       "sex_of_driver             category\n",
       "age_band_of_driver        category\n",
       "engine_capacity_cc           int64\n",
       "propulsion_code           category\n",
       "age_of_vehicle               int64\n",
       "generic_make_model        category\n",
       "driver_imd_decile         category\n",
       "driver_home_area_type     category\n",
       "dtype: object"
      ]
     },
     "execution_count": 21,
     "metadata": {},
     "output_type": "execute_result"
    }
   ],
   "source": [
    "vehi.dtypes"
   ]
  },
  {
   "cell_type": "markdown",
   "id": "e39bf8aa",
   "metadata": {},
   "source": [
    "All columns will be looked at to see the ones that have direct effects on accidents"
   ]
  },
  {
   "cell_type": "code",
   "execution_count": 22,
   "id": "30ba9751",
   "metadata": {},
   "outputs": [
    {
     "data": {
      "text/plain": [
       "[4, 3, 6, 5, 1, 2]\n",
       "Categories (6, int64): [1, 2, 3, 4, 5, 6]"
      ]
     },
     "execution_count": 22,
     "metadata": {},
     "output_type": "execute_result"
    }
   ],
   "source": [
    "# first road class\n",
    "\n",
    "acc.first_road_class.unique()"
   ]
  },
  {
   "cell_type": "code",
   "execution_count": 23,
   "id": "d862fcdf",
   "metadata": {},
   "outputs": [
    {
     "data": {
      "text/plain": [
       "3    713171\n",
       "6    489785\n",
       "4    196092\n",
       "5    116942\n",
       "1     54979\n",
       "2      4374\n",
       "Name: first_road_class, dtype: int64"
      ]
     },
     "execution_count": 23,
     "metadata": {},
     "output_type": "execute_result"
    }
   ],
   "source": [
    "acc.first_road_class.value_counts()"
   ]
  },
  {
   "cell_type": "markdown",
   "id": "3eddbf66",
   "metadata": {},
   "source": [
    "Interpretation of first road class values\n",
    "\n",
    "1 - Motorway,\n",
    "\n",
    "2 - A(M) road class, \n",
    "\n",
    "3 - A road class, \n",
    "\n",
    "4 - B road class, \n",
    "\n",
    "5 - C road class, \n",
    "\n",
    "6 - Unclassified class\n",
    "\n",
    "\n",
    "Class 3 road class has the highest count of accidents in the time frame of 12 years. It had a count of 713171 accidents. 2 road class has the least count of 4374 accidents."
   ]
  },
  {
   "cell_type": "code",
   "execution_count": 24,
   "id": "a2581d9c",
   "metadata": {},
   "outputs": [
    {
     "data": {
      "image/png": "[encoded data removed]",
      "text/plain": [
       "<Figure size 576x576 with 1 Axes>"
      ]
     },
     "metadata": {
      "needs_background": "light"
     },
     "output_type": "display_data"
    }
   ],
   "source": [
    "#plot the first road class\n",
    "acc.first_road_class.value_counts().plot(kind='bar', figsize=(8,8))\n",
    "plt.xlabel('First Road Class')\n",
    "plt.ylabel('Count')\n",
    "plt.title('Accident Frequency in relation to Road Class');"
   ]
  },
  {
   "cell_type": "code",
   "execution_count": 25,
   "id": "f8066b51",
   "metadata": {},
   "outputs": [
    {
     "data": {
      "text/plain": [
       "[6, 3, 4, -1, 5, 1, 2, 9, 0]\n",
       "Categories (9, int64): [-1, 0, 1, 2, ..., 4, 5, 6, 9]"
      ]
     },
     "execution_count": 25,
     "metadata": {},
     "output_type": "execute_result"
    }
   ],
   "source": [
    "# second road class\n",
    "acc.second_road_class.unique()"
   ]
  },
  {
   "cell_type": "code",
   "execution_count": 26,
   "id": "560e7126",
   "metadata": {},
   "outputs": [
    {
     "data": {
      "text/plain": [
       "6     634529\n",
       "-1    564112\n",
       "3     158956\n",
       "0      79426\n",
       "5      65924\n",
       "4      62019\n",
       "1       9327\n",
       "2       1049\n",
       "9          1\n",
       "Name: second_road_class, dtype: int64"
      ]
     },
     "execution_count": 26,
     "metadata": {},
     "output_type": "execute_result"
    }
   ],
   "source": [
    "acc.second_road_class.value_counts()"
   ]
  },
  {
   "cell_type": "code",
   "execution_count": 27,
   "id": "b5de528e",
   "metadata": {},
   "outputs": [
    {
     "data": {
      "image/png": "[encoded data removed]",
      "text/plain": [
       "<Figure size 576x576 with 1 Axes>"
      ]
     },
     "metadata": {
      "needs_background": "light"
     },
     "output_type": "display_data"
    }
   ],
   "source": [
    "#plot with a bar chart\n",
    "acc.second_road_class.value_counts().plot(kind='bar', figsize=(8,8))\n",
    "plt.xlabel('Second Road Class')\n",
    "plt.ylabel('Count')\n",
    "plt.title('Accident Frequency in relation to Second Road Class');"
   ]
  },
  {
   "cell_type": "markdown",
   "id": "fe9d1724",
   "metadata": {},
   "source": [
    "Interpretation of Second Road Class Values\n",
    "\n",
    "0 - Not at junction or within 20 metres, \n",
    "\n",
    "1 - Motorway, \n",
    "\n",
    "2 - A(M)\n",
    "\n",
    "3 - A\n",
    "\n",
    "4 - B\n",
    "\n",
    "5 - C\n",
    "\n",
    "6 - Unclassified\n",
    "\n",
    "9 - \n",
    "\n",
    "-1 - \n",
    "\n",
    "\n",
    "Majority of the records for second road class are either unclassified or not available"
   ]
  },
  {
   "cell_type": "code",
   "execution_count": 28,
   "id": "53fbd0d0",
   "metadata": {},
   "outputs": [
    {
     "data": {
      "image/png": "[encoded data removed]",
      "text/plain": [
       "<Figure size 576x576 with 1 Axes>"
      ]
     },
     "metadata": {
      "needs_background": "light"
     },
     "output_type": "display_data"
    }
   ],
   "source": [
    "#road type\n",
    "acc.groupby('road_type')['number_of_casualties'].count().plot(kind='bar', figsize=(8,8))\n",
    "plt.ylabel('Number of Casualties')\n",
    "plt.title('Road Types and the Amount of Casualties');"
   ]
  },
  {
   "cell_type": "markdown",
   "id": "e92f29b5",
   "metadata": {},
   "source": [
    "Intepretation of Road Types\n",
    "1 - Roundabout,\n",
    "\n",
    "2 - One Way Street,\n",
    "\n",
    "3 - Dual Carriageway,\n",
    "\n",
    "6 - Single Carriageway,\n",
    "\n",
    "7 - Slip Road,\n",
    "\n",
    "9 - Unknown\n",
    "\n",
    "\n",
    "\n",
    "All road types had accident records but road type 6 had the most casualties. Road type 6 is the Single Carriageway, it could be said that single carriageways are one of the causes of car accidents."
   ]
  },
  {
   "cell_type": "code",
   "execution_count": 29,
   "id": "955356b5",
   "metadata": {},
   "outputs": [
    {
     "data": {
      "text/plain": [
       " 30.0    983977\n",
       " 60.0    214368\n",
       " 40.0    131007\n",
       " 70.0    103836\n",
       " 20.0     80839\n",
       " 50.0     61217\n",
       "-1.0         92\n",
       " 10.0         5\n",
       " 15.0         1\n",
       " 0.0          1\n",
       "Name: speed_limit, dtype: int64"
      ]
     },
     "execution_count": 29,
     "metadata": {},
     "output_type": "execute_result"
    }
   ],
   "source": [
    "#speed limit\n",
    "acc.speed_limit.value_counts()"
   ]
  },
  {
   "cell_type": "code",
   "execution_count": 30,
   "id": "6e12c691",
   "metadata": {},
   "outputs": [
    {
     "data": {
      "image/png": "[encoded data removed]",
      "text/plain": [
       "<Figure size 864x576 with 1 Axes>"
      ]
     },
     "metadata": {
      "needs_background": "light"
     },
     "output_type": "display_data"
    }
   ],
   "source": [
    "#use a bar plot to view the different speed limit\n",
    "acc.speed_limit.value_counts().plot(kind='bar', figsize=(12,8))\n",
    "plt.xlabel('speed_limit')\n",
    "plt.ylabel('Count')\n",
    "plt.title('Cars Speed Limit');"
   ]
  },
  {
   "cell_type": "markdown",
   "id": "3eee2843",
   "metadata": {},
   "source": [
    "Most cars involved in car accidents were not above the speed limit. Only 92 were above the speed range. Majority of the car accidents were in the 30 speed limit. Over Speeding might not be the cause of accidents here then."
   ]
  },
  {
   "cell_type": "code",
   "execution_count": 31,
   "id": "379d54aa",
   "metadata": {},
   "outputs": [
    {
     "data": {
      "text/plain": [
       "1     1041058\n",
       "2      534283\n",
       "-1          1\n",
       "3           1\n",
       "Name: urban_or_rural_area, dtype: int64"
      ]
     },
     "execution_count": 31,
     "metadata": {},
     "output_type": "execute_result"
    }
   ],
   "source": [
    "#urban or rural\n",
    "#view the count of each location using value counts\n",
    "acc.urban_or_rural_area.value_counts()"
   ]
  },
  {
   "cell_type": "code",
   "execution_count": 32,
   "id": "8004b5c7",
   "metadata": {},
   "outputs": [
    {
     "data": {
      "image/png": "[encoded data removed]",
      "text/plain": [
       "<Figure size 576x576 with 1 Axes>"
      ]
     },
     "metadata": {
      "needs_background": "light"
     },
     "output_type": "display_data"
    }
   ],
   "source": [
    "#plot using a bar chart\n",
    "acc.urban_or_rural_area.value_counts().plot(kind='bar', figsize=(8,8))\n",
    "plt.xlabel('Urban or Rural Area')\n",
    "plt.ylabel('Count')\n",
    "plt.title('Settlements Accident Rate');"
   ]
  },
  {
   "cell_type": "markdown",
   "id": "75bfd174",
   "metadata": {},
   "source": [
    "A very large Majority of Accidents occured in the Urban Areas compared to the Rural Areas\n",
    "\n",
    "The Settlement area can be used as a feature to determine accidents.\n",
    "\n",
    "Next, what road class (first) is located in the urban and rural areas"
   ]
  },
  {
   "cell_type": "code",
   "execution_count": 33,
   "id": "ed1e5138",
   "metadata": {},
   "outputs": [
    {
     "data": {
      "text/plain": [
       "[0, 6, 2, 1, 7, 3, -1, 9]\n",
       "Categories (8, int64): [-1, 0, 1, 2, 3, 6, 7, 9]"
      ]
     },
     "execution_count": 33,
     "metadata": {},
     "output_type": "execute_result"
    }
   ],
   "source": [
    "#view the carriageway hazards\n",
    "acc.carriageway_hazards.unique()"
   ]
  },
  {
   "cell_type": "markdown",
   "id": "3f0375fb",
   "metadata": {},
   "source": [
    "Interpretation of Carriageway hazards values\n",
    "0 - None,\n",
    "\n",
    "1 - Vehicle load on road\n",
    "\n",
    "2 - Other object on road\n",
    "\n",
    "3 - Previous Accident\n",
    "\n",
    "6 - Pedestrian in carriageway - not injured\n",
    "\n",
    "7 - Any animal in carriageway (except ridden horse)\n",
    "\n",
    "9 - unknown (self reported)\n",
    "\n",
    "-1 - Data missing or out of range"
   ]
  },
  {
   "cell_type": "code",
   "execution_count": 34,
   "id": "8ca6db4e",
   "metadata": {},
   "outputs": [
    {
     "data": {
      "text/plain": [
       "road_type    \n",
       "1          0      102578\n",
       "           2         372\n",
       "           9         285\n",
       "           1         124\n",
       "           -1        102\n",
       "           6          78\n",
       "           3          74\n",
       "           7          56\n",
       "2          0       33315\n",
       "           9         361\n",
       "           2         287\n",
       "           6         214\n",
       "           1          62\n",
       "           7          25\n",
       "           3          20\n",
       "           -1         13\n",
       "3          0      226322\n",
       "           2        2795\n",
       "           3        1145\n",
       "           7         903\n",
       "           1         686\n",
       "           9         475\n",
       "           6         325\n",
       "           -1        183\n",
       "6          0     1145359\n",
       "           2        8719\n",
       "           7        5895\n",
       "           6        2927\n",
       "           9        2468\n",
       "           1        1500\n",
       "           3        1074\n",
       "           -1        801\n",
       "7          0       18425\n",
       "           2         155\n",
       "           9         152\n",
       "           3          54\n",
       "           7          54\n",
       "           1          32\n",
       "           6          27\n",
       "           -1         24\n",
       "9          0       12706\n",
       "           9        3897\n",
       "           2         121\n",
       "           -1         60\n",
       "           7          41\n",
       "           6          26\n",
       "           1          16\n",
       "           3          10\n",
       "Name: carriageway_hazards, dtype: int64"
      ]
     },
     "execution_count": 34,
     "metadata": {},
     "output_type": "execute_result"
    }
   ],
   "source": [
    "#group the carriageway hazards and road type together\n",
    "car1 = acc.groupby(['road_type'])['carriageway_hazards'].value_counts()\n",
    "car1"
   ]
  },
  {
   "cell_type": "markdown",
   "id": "03c9181a",
   "metadata": {},
   "source": [
    "From the groupby performed above, majority of the car accidents are not caused by carriageway hazards in both single and dual carriageways.\n",
    "\n",
    "Single carriageways - 1145359 accidents are not caused by carriageway hazards, Other objects on the road caused 8719 accidents while Animals in carriageway caused 5895 accidents\n",
    "\n",
    "Dual carriageways - 226322 accidents are not caused by carriageway hazards, Other objects on the road caused 2795 accidents while 1145 accidents were caused by Previous Accidents.\n",
    "\n",
    "\n",
    "To conclude, carriageway hazards is not a reliable cause of accidents."
   ]
  },
  {
   "cell_type": "code",
   "execution_count": 35,
   "id": "783b30d8",
   "metadata": {},
   "outputs": [
    {
     "data": {
      "text/plain": [
       "0     635074\n",
       "3     485448\n",
       "6     152651\n",
       "1     135352\n",
       "8      50559\n",
       "9      49658\n",
       "5      22306\n",
       "2      20090\n",
       "7      17741\n",
       "99      6446\n",
       "-1        18\n",
       "Name: junction_detail, dtype: int64"
      ]
     },
     "execution_count": 35,
     "metadata": {},
     "output_type": "execute_result"
    }
   ],
   "source": [
    "#view the unique values of junction detail\n",
    "acc.junction_detail.value_counts()"
   ]
  },
  {
   "cell_type": "markdown",
   "id": "3525ca86",
   "metadata": {},
   "source": [
    "Intepretation of Junction detail values\n",
    "\n",
    "0 - Not at junction or within 20 metres, \n",
    "\n",
    "1 - Roundabout, \n",
    "\n",
    "2 - Mini-roundabout, \n",
    "\n",
    "3 - T or staggered junction, \n",
    "\n",
    "5 - Slip road, \n",
    "\n",
    "6 - Crossroads, \n",
    "\n",
    "7 - More than 4 arms (not roundabout), \n",
    "\n",
    "8 - Private drive or entrance, \n",
    "\n",
    "9 - Other junction, \n",
    "\n",
    "99 - unknown (self reported), \n",
    "\n",
    "-1 - Data missing or out of range"
   ]
  },
  {
   "cell_type": "code",
   "execution_count": 36,
   "id": "4d14a6f9",
   "metadata": {},
   "outputs": [
    {
     "data": {
      "image/png": "[encoded data removed]",
      "text/plain": [
       "<Figure size 576x576 with 1 Axes>"
      ]
     },
     "metadata": {
      "needs_background": "light"
     },
     "output_type": "display_data"
    }
   ],
   "source": [
    "#plot the juction detail\n",
    "acc.junction_detail.value_counts().plot(kind='bar', figsize=(8,8))\n",
    "plt.xlabel('Junction Details')\n",
    "plt.ylabel('Count')\n",
    "plt.title('Accidents that Occured in Relation to the Junction Detail');"
   ]
  },
  {
   "cell_type": "markdown",
   "id": "10fa78c7",
   "metadata": {},
   "source": [
    "Most car accidents did not occur at junctions but the second majority of accidents occured at T or staggered junctions.\n",
    "\n",
    "To determine if this feature will be considered a ratio will be done"
   ]
  },
  {
   "cell_type": "code",
   "execution_count": 37,
   "id": "a98da6be",
   "metadata": {},
   "outputs": [
    {
     "data": {
      "text/plain": [
       "1575343"
      ]
     },
     "execution_count": 37,
     "metadata": {},
     "output_type": "execute_result"
    }
   ],
   "source": [
    "acc.junction_detail.count()"
   ]
  },
  {
   "cell_type": "code",
   "execution_count": 38,
   "id": "8c61724a",
   "metadata": {},
   "outputs": [
    {
     "data": {
      "text/plain": [
       "40.31337937198439"
      ]
     },
     "execution_count": 38,
     "metadata": {},
     "output_type": "execute_result"
    }
   ],
   "source": [
    "#percentage of '0'\n",
    "635074/1575343 * 100"
   ]
  },
  {
   "cell_type": "code",
   "execution_count": 39,
   "id": "00b52f4a",
   "metadata": {},
   "outputs": [
    {
     "data": {
      "text/plain": [
       "30.815384332174013"
      ]
     },
     "execution_count": 39,
     "metadata": {},
     "output_type": "execute_result"
    }
   ],
   "source": [
    "#percentage of '3'\n",
    "485448/1575343 * 100"
   ]
  },
  {
   "cell_type": "markdown",
   "id": "dc1d2e72",
   "metadata": {},
   "source": [
    "only 40% did no occur at junctions. Therefore this feature will be used"
   ]
  },
  {
   "cell_type": "code",
   "execution_count": 40,
   "id": "b9ced73f",
   "metadata": {},
   "outputs": [
    {
     "data": {
      "text/plain": [
       "4     745129\n",
       "-1    627137\n",
       "2     169211\n",
       "0      10836\n",
       "9      10683\n",
       "3       8700\n",
       "1       3647\n",
       "Name: junction_control, dtype: int64"
      ]
     },
     "execution_count": 40,
     "metadata": {},
     "output_type": "execute_result"
    }
   ],
   "source": [
    "#junction control\n",
    "acc.junction_control.value_counts()"
   ]
  },
  {
   "cell_type": "markdown",
   "id": "7fc54635",
   "metadata": {},
   "source": [
    "Interpretation of junction control values\n",
    "\n",
    "0 - Not at junction or within 20 metres,\n",
    "\n",
    "1 - Authorised person, \n",
    "\n",
    "2 - Auto traffic signal, \n",
    "\n",
    "3 - Stop sign, \n",
    "\n",
    "4 - Give way or uncontrolled, \n",
    "\n",
    "9 - unknown (self reported), \n",
    "\n",
    "-1 - Data missing or out of range\n",
    "\n",
    "\n",
    "Majority of the accidents occured when there was no junction control"
   ]
  },
  {
   "cell_type": "code",
   "execution_count": 41,
   "id": "1322c73d",
   "metadata": {},
   "outputs": [
    {
     "data": {
      "text/plain": [
       "1     1147653\n",
       "4      311732\n",
       "6       81061\n",
       "7       25588\n",
       "5        9286\n",
       "-1         23\n",
       "Name: light_conditions, dtype: int64"
      ]
     },
     "execution_count": 41,
     "metadata": {},
     "output_type": "execute_result"
    }
   ],
   "source": [
    "#view the values of light conditions\n",
    "acc.light_conditions.value_counts()"
   ]
  },
  {
   "cell_type": "markdown",
   "id": "0f5bec9a",
   "metadata": {},
   "source": [
    "Interpretation of the Light Condition values\n",
    "\n",
    "1 - Daylight, \n",
    "\n",
    "4 - Darkness - lights lit\n",
    "\n",
    "5 - Darkness - lights unlit\n",
    "\n",
    "6 - Darkness - no lighting\n",
    "\n",
    "7 - Darkness - lighting unknown\n",
    "\n",
    "-1 - Data missing or out of range\n",
    "\n",
    "\n",
    "Majority of the Car accidents happened either during daylight(1), the second majority of accidents happened at night but when the lights were lit.\n",
    "\n",
    "Therefore, light conditions can't be used to determine or predict accidents."
   ]
  },
  {
   "cell_type": "code",
   "execution_count": 42,
   "id": "b49a9716",
   "metadata": {},
   "outputs": [
    {
     "data": {
      "text/plain": [
       "1     1268742\n",
       "2      179057\n",
       "9       36151\n",
       "8       33383\n",
       "5       20190\n",
       "4       17951\n",
       "3        9985\n",
       "7        7697\n",
       "6        2091\n",
       "-1         96\n",
       "Name: weather_conditions, dtype: int64"
      ]
     },
     "execution_count": 42,
     "metadata": {},
     "output_type": "execute_result"
    }
   ],
   "source": [
    "#view values of weather conditions\n",
    "acc.weather_conditions.value_counts()"
   ]
  },
  {
   "cell_type": "markdown",
   "id": "d994282e",
   "metadata": {},
   "source": [
    "Interpretation of Weather Condition Values\n",
    "\n",
    "1 - Fine no high winds, \n",
    "\n",
    "2 - Raining no high winds, \n",
    "\n",
    "3 - Snowing no high winds, \n",
    "\n",
    "4 - Fine + high winds, \n",
    "\n",
    "5 - Raining + high winds, \n",
    "\n",
    "6 - Snowing + high winds, \n",
    "\n",
    "7 - Fog or mist, \n",
    "\n",
    "8 - Other, \n",
    "\n",
    "9 - Unknown, \n",
    "\n",
    "-1 - Data missing or out of range\n",
    "\n",
    "\n",
    "\n",
    "Majority of the accidents occured during Fine Weathers, therefore weather is not a suitable factor for accidents."
   ]
  },
  {
   "cell_type": "code",
   "execution_count": 43,
   "id": "f68972a4",
   "metadata": {},
   "outputs": [
    {
     "data": {
      "text/plain": [
       "0     1544175\n",
       "9       16065\n",
       "2        9425\n",
       "1        4552\n",
       "-1       1126\n",
       "Name: pedestrian_crossing_human_control, dtype: int64"
      ]
     },
     "execution_count": 43,
     "metadata": {},
     "output_type": "execute_result"
    }
   ],
   "source": [
    "#view values of pedestrian control\n",
    "acc.pedestrian_crossing_human_control.value_counts()"
   ]
  },
  {
   "cell_type": "markdown",
   "id": "fe0b74f4",
   "metadata": {},
   "source": [
    "Interpretation of Values\n",
    "\n",
    "0 - None within 50 metres, \n",
    "\n",
    "1 - Control by school crossing patrol, \n",
    "\n",
    "2 - Control by other authorised person, \n",
    "\n",
    "9 - unknown (self reported), \n",
    "\n",
    "-1 - Data missing or out of range\n",
    "\n",
    "\n",
    "Majority of the accidents occured when there was no Pedestrian human control. The least accidents occured when there were controls, either a School crossing patrol or an Authorised Person."
   ]
  },
  {
   "cell_type": "code",
   "execution_count": 44,
   "id": "b7c219c3",
   "metadata": {},
   "outputs": [
    {
     "data": {
      "text/plain": [
       "0     1259094\n",
       "5      118592\n",
       "4       89048\n",
       "1       52104\n",
       "8       36116\n",
       "9       15056\n",
       "7        4286\n",
       "-1       1047\n",
       "Name: pedestrian_crossing_physical_facilities, dtype: int64"
      ]
     },
     "execution_count": 44,
     "metadata": {},
     "output_type": "execute_result"
    }
   ],
   "source": [
    "#view values for Pedestrial Facilities\n",
    "acc.pedestrian_crossing_physical_facilities.value_counts()"
   ]
  },
  {
   "cell_type": "markdown",
   "id": "05cd12df",
   "metadata": {},
   "source": [
    "Interpretation of Values\n",
    "\n",
    "0 - No physical crossing facilities within 50 metres,\n",
    "\n",
    "1 - Zebra, \n",
    "\n",
    "4 - Pelican, puffin, toucan or similar non-junction pedestrian light crossing, \n",
    "\n",
    "5 - Pedestrian phase at traffic signal junction, \n",
    "\n",
    "7 - Footbridge or subway, \n",
    "\n",
    "8 - Central refuge, \n",
    "\n",
    "9 - unknown (self reported), \n",
    "\n",
    "-1 - Data missing or out of range\n",
    "\n",
    "\n",
    "Majority of the accidents occured at places where the facilities were absent.\n",
    "\n",
    "This does not really reduce the rate of car accidents."
   ]
  },
  {
   "cell_type": "code",
   "execution_count": 45,
   "id": "a0bee0e5",
   "metadata": {},
   "outputs": [
    {
     "data": {
      "text/plain": [
       "1     1115176\n",
       "2      411250\n",
       "4       27850\n",
       "3        9632\n",
       "9        5679\n",
       "-1       3624\n",
       "5        2132\n",
       "Name: road_surface_conditions, dtype: int64"
      ]
     },
     "execution_count": 45,
     "metadata": {},
     "output_type": "execute_result"
    }
   ],
   "source": [
    "#view the values of road surface conditions\n",
    "acc.road_surface_conditions.value_counts()"
   ]
  },
  {
   "cell_type": "markdown",
   "id": "76f9e620",
   "metadata": {},
   "source": [
    "Interpretation of Values\n",
    "\n",
    "1 - Dry,\n",
    "\n",
    "2 - Wet or Damp, \n",
    "\n",
    "3 - Snow, \n",
    "\n",
    "4 - Frost or Ice, \n",
    "\n",
    "5 - Flood over 3cm. deep, \n",
    "\n",
    "9 - Unknown(self reported),\n",
    "\n",
    "-1 - Data missing or out of range\n",
    "\n",
    "\n",
    "Majority of the accidents occured when the road surface was dry, the second majority happened when the road was wet or damp.\n",
    "\n"
   ]
  },
  {
   "cell_type": "code",
   "execution_count": 46,
   "id": "0c552cf2",
   "metadata": {},
   "outputs": [
    {
     "data": {
      "text/plain": [
       "0     1529607\n",
       "4       17696\n",
       "9        8785\n",
       "7        4344\n",
       "6        3878\n",
       "5        3789\n",
       "1        3146\n",
       "3        2230\n",
       "-1       1168\n",
       "2         700\n",
       "Name: special_conditions_at_site, dtype: int64"
      ]
     },
     "execution_count": 46,
     "metadata": {},
     "output_type": "execute_result"
    }
   ],
   "source": [
    "#view the values of special conditions at site\n",
    "acc.special_conditions_at_site.value_counts()"
   ]
  },
  {
   "cell_type": "markdown",
   "id": "9248bea5",
   "metadata": {},
   "source": [
    "Interpretation of Values\n",
    "\n",
    "0 - None, \n",
    "\n",
    "1 - Auto traffic signal - out, \n",
    "\n",
    "2 - Auto signal part defective, \n",
    "\n",
    "3 - Road sign or marking defective or obscured, \n",
    "\n",
    "4 - Roadworks, \n",
    "\n",
    "5 - Road surface defective, \n",
    "\n",
    "6 - Oil or diesel, \n",
    "\n",
    "7 - Mud,\n",
    "\n",
    "9 - Unknown(self reported), \n",
    "\n",
    "-1 - Data missing or out of range\n",
    "\n",
    "\n",
    "Special Conditions had little to no impact on Car accidents"
   ]
  },
  {
   "cell_type": "code",
   "execution_count": 47,
   "id": "54625d45",
   "metadata": {},
   "outputs": [
    {
     "data": {
      "text/plain": [
       "2     1312036\n",
       "-1     152237\n",
       "1      111070\n",
       "Name: trunk_road_flag, dtype: int64"
      ]
     },
     "execution_count": 47,
     "metadata": {},
     "output_type": "execute_result"
    }
   ],
   "source": [
    "#view values of trunk road flag\n",
    "acc.trunk_road_flag.value_counts()"
   ]
  },
  {
   "cell_type": "markdown",
   "id": "3ca5672b",
   "metadata": {},
   "source": [
    "Interpretation of values\n",
    "\n",
    "1 - Trunk (Roads managed by Highways England), \n",
    "\n",
    "2 - Non-trunk, \n",
    "\n",
    "-1 - Data missing or out of range \n",
    "\n",
    "\n",
    "Majority of the accidents occured where there was no trunk flag"
   ]
  },
  {
   "cell_type": "code",
   "execution_count": 48,
   "id": "329f6413",
   "metadata": {},
   "outputs": [
    {
     "data": {
      "text/plain": [
       "Index(['accident_index', 'accident_year', 'police_force', 'accident_severity',\n",
       "       'number_of_vehicles', 'number_of_casualties', 'date', 'day_of_week',\n",
       "       'time', 'local_authority_district', 'first_road_class',\n",
       "       'first_road_number', 'road_type', 'speed_limit', 'junction_detail',\n",
       "       'junction_control', 'second_road_class', 'second_road_number',\n",
       "       'pedestrian_crossing_human_control',\n",
       "       'pedestrian_crossing_physical_facilities', 'light_conditions',\n",
       "       'weather_conditions', 'road_surface_conditions',\n",
       "       'special_conditions_at_site', 'carriageway_hazards',\n",
       "       'urban_or_rural_area', 'did_police_officer_attend_scene_of_accident',\n",
       "       'trunk_road_flag', 'accident_month', 'hour'],\n",
       "      dtype='object')"
      ]
     },
     "execution_count": 48,
     "metadata": {},
     "output_type": "execute_result"
    }
   ],
   "source": [
    "acc.columns"
   ]
  },
  {
   "cell_type": "code",
   "execution_count": 49,
   "id": "7a9ee9de",
   "metadata": {},
   "outputs": [],
   "source": [
    "#drop columns for accident that won't be needed\n",
    "acc.drop(['second_road_class', 'second_road_number', 'pedestrian_crossing_physical_facilities', 'light_conditions',\n",
    "       'weather_conditions', 'road_surface_conditions', 'speed_limit', 'special_conditions_at_site', 'road_type', \n",
    "          'trunk_road_flag', 'carriageway_hazards', 'pedestrian_crossing_human_control'], axis = 1, inplace=True)"
   ]
  },
  {
   "cell_type": "code",
   "execution_count": 50,
   "id": "54f68672",
   "metadata": {},
   "outputs": [
    {
     "data": {
      "text/plain": [
       "Index(['accident_index', 'accident_year', 'police_force', 'accident_severity',\n",
       "       'number_of_vehicles', 'number_of_casualties', 'date', 'day_of_week',\n",
       "       'time', 'local_authority_district', 'first_road_class',\n",
       "       'first_road_number', 'junction_detail', 'junction_control',\n",
       "       'urban_or_rural_area', 'did_police_officer_attend_scene_of_accident',\n",
       "       'accident_month', 'hour'],\n",
       "      dtype='object')"
      ]
     },
     "execution_count": 50,
     "metadata": {},
     "output_type": "execute_result"
    }
   ],
   "source": [
    "acc.columns"
   ]
  },
  {
   "cell_type": "code",
   "execution_count": 51,
   "id": "1f8225f5",
   "metadata": {},
   "outputs": [
    {
     "data": {
      "text/plain": [
       "Index(['accident_index', 'accident_year', 'casualty_class', 'sex_of_casualty',\n",
       "       'age_band_of_casualty', 'casualty_severity', 'pedestrian_location',\n",
       "       'pedestrian_movement', 'car_passenger', 'bus_or_coach_passenger',\n",
       "       'pedestrian_road_maintenance_worker', 'casualty_type',\n",
       "       'casualty_home_area_type', 'casualty_imd_decile'],\n",
       "      dtype='object')"
      ]
     },
     "execution_count": 51,
     "metadata": {},
     "output_type": "execute_result"
    }
   ],
   "source": [
    "casu.columns"
   ]
  },
  {
   "cell_type": "code",
   "execution_count": 52,
   "id": "5ff5f851",
   "metadata": {},
   "outputs": [
    {
     "data": {
      "text/plain": [
       "0     1809515\n",
       "5      120902\n",
       "1       40060\n",
       "9       28629\n",
       "6       28518\n",
       "4       21552\n",
       "10      20378\n",
       "8        9792\n",
       "7        1403\n",
       "2        1158\n",
       "3         657\n",
       "-1         18\n",
       "Name: pedestrian_location, dtype: int64"
      ]
     },
     "execution_count": 52,
     "metadata": {},
     "output_type": "execute_result"
    }
   ],
   "source": [
    "#Casualty\n",
    "\n",
    "#view values for pedestrian_location\n",
    "casu.pedestrian_location.value_counts()"
   ]
  },
  {
   "cell_type": "markdown",
   "id": "0a6fc430",
   "metadata": {},
   "source": [
    "0 - Not a pedestrian\n",
    "\n",
    "Majority of the casualties occured to non pedestrians. This is more than 50% of the total casualties\n",
    "\n",
    "5 - In carriageway, crossing elsewhere\n",
    "\n",
    "This is the second majority of pedestrian location"
   ]
  },
  {
   "cell_type": "code",
   "execution_count": 53,
   "id": "a76f0114",
   "metadata": {},
   "outputs": [
    {
     "data": {
      "text/plain": [
       "0     1809510\n",
       "1       93947\n",
       "9       64137\n",
       "3       55554\n",
       "2       19839\n",
       "5       13930\n",
       "4       13247\n",
       "8        6248\n",
       "7        4107\n",
       "6        2040\n",
       "-1         23\n",
       "Name: pedestrian_movement, dtype: int64"
      ]
     },
     "execution_count": 53,
     "metadata": {},
     "output_type": "execute_result"
    }
   ],
   "source": [
    "#view values for pedestrian_movement\n",
    "casu.pedestrian_movement.value_counts()"
   ]
  },
  {
   "cell_type": "markdown",
   "id": "2be8336b",
   "metadata": {},
   "source": [
    "0 - Not a pedestrian\n",
    "\n",
    "Majority of the casualties occured to non pedestrians. This is more than 50% of the total casualties\n",
    "\n"
   ]
  },
  {
   "cell_type": "code",
   "execution_count": 54,
   "id": "f1686d76",
   "metadata": {},
   "outputs": [
    {
     "data": {
      "text/plain": [
       "0     1686621\n",
       "1      248295\n",
       "2      143625\n",
       "-1       3178\n",
       "9         863\n",
       "Name: car_passenger, dtype: int64"
      ]
     },
     "execution_count": 54,
     "metadata": {},
     "output_type": "execute_result"
    }
   ],
   "source": [
    "#view values for car passenger\n",
    "casu.car_passenger.value_counts()"
   ]
  },
  {
   "cell_type": "markdown",
   "id": "2ae1607a",
   "metadata": {},
   "source": [
    "Majority of the casualties did not happen to passengers (0 - Not a passenger)\n",
    "\n",
    "Being a car passenger does not really determine casualty. \n",
    "\n",
    "Most casualties happened to the drivers"
   ]
  },
  {
   "cell_type": "code",
   "execution_count": 55,
   "id": "7d09e3c5",
   "metadata": {},
   "outputs": [
    {
     "data": {
      "text/plain": [
       "0     2035222\n",
       "4       29125\n",
       "3       12936\n",
       "2        2466\n",
       "1        2464\n",
       "-1        313\n",
       "9          56\n",
       "Name: bus_or_coach_passenger, dtype: int64"
      ]
     },
     "execution_count": 55,
     "metadata": {},
     "output_type": "execute_result"
    }
   ],
   "source": [
    "#view values for bus or coach passenger\n",
    "casu.bus_or_coach_passenger.value_counts()"
   ]
  },
  {
   "cell_type": "markdown",
   "id": "26cfe170",
   "metadata": {},
   "source": [
    "0 - Not a bus or coach passenger\n",
    "\n",
    "Majority of casualties did not happen to bus or coach passengers"
   ]
  },
  {
   "cell_type": "code",
   "execution_count": 56,
   "id": "d87dee00",
   "metadata": {},
   "outputs": [
    {
     "data": {
      "text/plain": [
       "0     2016527\n",
       "2       64354\n",
       "1         793\n",
       "-1        718\n",
       "3         190\n",
       "Name: pedestrian_road_maintenance_worker, dtype: int64"
      ]
     },
     "execution_count": 56,
     "metadata": {},
     "output_type": "execute_result"
    }
   ],
   "source": [
    "#view values for pedestrian_location\n",
    "casu.pedestrian_road_maintenance_worker.value_counts()"
   ]
  },
  {
   "cell_type": "markdown",
   "id": "43591a73",
   "metadata": {},
   "source": [
    "0 - No/Not applicable\n",
    "\n",
    "A huge amount of casualties did not affect pedestrian road maintenance workers"
   ]
  },
  {
   "cell_type": "code",
   "execution_count": 57,
   "id": "7f814dd0",
   "metadata": {},
   "outputs": [
    {
     "data": {
      "text/plain": [
       "9     1206537\n",
       "0      273064\n",
       "1      219043\n",
       "3       90447\n",
       "5       75159\n",
       "19      51433\n",
       "11      51012\n",
       "8       30795\n",
       "4       24969\n",
       "2       23975\n",
       "90       9716\n",
       "21       8994\n",
       "10       4948\n",
       "20       4447\n",
       "97       1958\n",
       "22       1736\n",
       "98       1370\n",
       "17       1182\n",
       "16       1160\n",
       "23        506\n",
       "18        115\n",
       "99          9\n",
       "-1          7\n",
       "Name: casualty_type, dtype: int64"
      ]
     },
     "execution_count": 57,
     "metadata": {},
     "output_type": "execute_result"
    }
   ],
   "source": [
    "casu.casualty_type.value_counts()"
   ]
  },
  {
   "cell_type": "markdown",
   "id": "d66fa103",
   "metadata": {},
   "source": [
    "9 - Car occupant\n",
    "\n",
    "Majority of the casualties happened to car occupants"
   ]
  },
  {
   "cell_type": "code",
   "execution_count": 58,
   "id": "840fbfc4",
   "metadata": {},
   "outputs": [],
   "source": [
    "#drop columns that have little to no effect\n",
    "casu.drop(['pedestrian_location', 'pedestrian_movement', 'car_passenger', 'bus_or_coach_passenger', \n",
    "           'pedestrian_road_maintenance_worker', 'casualty_class', 'sex_of_casualty'], axis=1, inplace=True)"
   ]
  },
  {
   "cell_type": "code",
   "execution_count": 59,
   "id": "52486f32",
   "metadata": {
    "scrolled": false
   },
   "outputs": [
    {
     "data": {
      "text/plain": [
       "Index(['accident_index', 'accident_year', 'age_band_of_casualty',\n",
       "       'casualty_severity', 'casualty_type', 'casualty_home_area_type',\n",
       "       'casualty_imd_decile'],\n",
       "      dtype='object')"
      ]
     },
     "execution_count": 59,
     "metadata": {},
     "output_type": "execute_result"
    }
   ],
   "source": [
    "casu.columns"
   ]
  },
  {
   "cell_type": "code",
   "execution_count": 60,
   "id": "1af0af1a",
   "metadata": {},
   "outputs": [],
   "source": [
    "#drop the generic make model in vehicles\n",
    "vehi.drop(['generic_make_model'], axis=1, inplace=True)"
   ]
  },
  {
   "cell_type": "code",
   "execution_count": 61,
   "id": "1f95e928",
   "metadata": {},
   "outputs": [
    {
     "data": {
      "text/plain": [
       "Index(['accident_index', 'vehicle_type', 'vehicle_manoeuvre',\n",
       "       'vehicle_direction_from', 'vehicle_direction_to',\n",
       "       'first_point_of_impact', 'sex_of_driver', 'age_band_of_driver',\n",
       "       'engine_capacity_cc', 'propulsion_code', 'age_of_vehicle',\n",
       "       'driver_imd_decile', 'driver_home_area_type'],\n",
       "      dtype='object')"
      ]
     },
     "execution_count": 61,
     "metadata": {},
     "output_type": "execute_result"
    }
   ],
   "source": [
    "vehi.columns"
   ]
  },
  {
   "cell_type": "code",
   "execution_count": 62,
   "id": "c8156be8",
   "metadata": {},
   "outputs": [],
   "source": [
    "#merge both datasets\n",
    "new_df = pd.merge(left=acc, right=casu, how='left', on='accident_index')\n",
    "new_df = pd.merge(left=new_df, right=vehi, how='left', on='accident_index')"
   ]
  },
  {
   "cell_type": "code",
   "execution_count": 63,
   "id": "b7d1b35c",
   "metadata": {},
   "outputs": [
    {
     "data": {
      "text/html": [
       "<div>\n",
       "<style scoped>\n",
       "    .dataframe tbody tr th:only-of-type {\n",
       "        vertical-align: middle;\n",
       "    }\n",
       "\n",
       "    .dataframe tbody tr th {\n",
       "        vertical-align: top;\n",
       "    }\n",
       "\n",
       "    .dataframe thead th {\n",
       "        text-align: right;\n",
       "    }\n",
       "</style>\n",
       "<table border=\"1\" class=\"dataframe\">\n",
       "  <thead>\n",
       "    <tr style=\"text-align: right;\">\n",
       "      <th></th>\n",
       "      <th>accident_index</th>\n",
       "      <th>accident_year_x</th>\n",
       "      <th>police_force</th>\n",
       "      <th>accident_severity</th>\n",
       "      <th>number_of_vehicles</th>\n",
       "      <th>number_of_casualties</th>\n",
       "      <th>date</th>\n",
       "      <th>day_of_week</th>\n",
       "      <th>time</th>\n",
       "      <th>local_authority_district</th>\n",
       "      <th>...</th>\n",
       "      <th>vehicle_direction_from</th>\n",
       "      <th>vehicle_direction_to</th>\n",
       "      <th>first_point_of_impact</th>\n",
       "      <th>sex_of_driver</th>\n",
       "      <th>age_band_of_driver</th>\n",
       "      <th>engine_capacity_cc</th>\n",
       "      <th>propulsion_code</th>\n",
       "      <th>age_of_vehicle</th>\n",
       "      <th>driver_imd_decile</th>\n",
       "      <th>driver_home_area_type</th>\n",
       "    </tr>\n",
       "  </thead>\n",
       "  <tbody>\n",
       "    <tr>\n",
       "      <th>0</th>\n",
       "      <td>201001BS70003</td>\n",
       "      <td>2010</td>\n",
       "      <td>1</td>\n",
       "      <td>3</td>\n",
       "      <td>2</td>\n",
       "      <td>1</td>\n",
       "      <td>2010-11-01</td>\n",
       "      <td>2</td>\n",
       "      <td>2023-01-04 07:30:00</td>\n",
       "      <td>12</td>\n",
       "      <td>...</td>\n",
       "      <td>NaN</td>\n",
       "      <td>NaN</td>\n",
       "      <td>NaN</td>\n",
       "      <td>NaN</td>\n",
       "      <td>NaN</td>\n",
       "      <td>NaN</td>\n",
       "      <td>NaN</td>\n",
       "      <td>NaN</td>\n",
       "      <td>NaN</td>\n",
       "      <td>NaN</td>\n",
       "    </tr>\n",
       "    <tr>\n",
       "      <th>1</th>\n",
       "      <td>201001BS70004</td>\n",
       "      <td>2010</td>\n",
       "      <td>1</td>\n",
       "      <td>3</td>\n",
       "      <td>1</td>\n",
       "      <td>1</td>\n",
       "      <td>2010-11-01</td>\n",
       "      <td>2</td>\n",
       "      <td>2023-01-04 18:35:00</td>\n",
       "      <td>12</td>\n",
       "      <td>...</td>\n",
       "      <td>2</td>\n",
       "      <td>6</td>\n",
       "      <td>1</td>\n",
       "      <td>1</td>\n",
       "      <td>8</td>\n",
       "      <td>1870.0</td>\n",
       "      <td>2</td>\n",
       "      <td>3.0</td>\n",
       "      <td>-1</td>\n",
       "      <td>1</td>\n",
       "    </tr>\n",
       "    <tr>\n",
       "      <th>2</th>\n",
       "      <td>201001BS70006</td>\n",
       "      <td>2010</td>\n",
       "      <td>1</td>\n",
       "      <td>3</td>\n",
       "      <td>2</td>\n",
       "      <td>1</td>\n",
       "      <td>2010-12-01</td>\n",
       "      <td>3</td>\n",
       "      <td>2023-01-04 10:22:00</td>\n",
       "      <td>12</td>\n",
       "      <td>...</td>\n",
       "      <td>NaN</td>\n",
       "      <td>NaN</td>\n",
       "      <td>NaN</td>\n",
       "      <td>NaN</td>\n",
       "      <td>NaN</td>\n",
       "      <td>NaN</td>\n",
       "      <td>NaN</td>\n",
       "      <td>NaN</td>\n",
       "      <td>NaN</td>\n",
       "      <td>NaN</td>\n",
       "    </tr>\n",
       "    <tr>\n",
       "      <th>3</th>\n",
       "      <td>201001BS70007</td>\n",
       "      <td>2010</td>\n",
       "      <td>1</td>\n",
       "      <td>3</td>\n",
       "      <td>2</td>\n",
       "      <td>1</td>\n",
       "      <td>2010-02-01</td>\n",
       "      <td>7</td>\n",
       "      <td>2023-01-04 21:21:00</td>\n",
       "      <td>12</td>\n",
       "      <td>...</td>\n",
       "      <td>4</td>\n",
       "      <td>1</td>\n",
       "      <td>4</td>\n",
       "      <td>2</td>\n",
       "      <td>5</td>\n",
       "      <td>1998.0</td>\n",
       "      <td>1</td>\n",
       "      <td>7.0</td>\n",
       "      <td>-1</td>\n",
       "      <td>1</td>\n",
       "    </tr>\n",
       "    <tr>\n",
       "      <th>4</th>\n",
       "      <td>201001BS70007</td>\n",
       "      <td>2010</td>\n",
       "      <td>1</td>\n",
       "      <td>3</td>\n",
       "      <td>2</td>\n",
       "      <td>1</td>\n",
       "      <td>2010-02-01</td>\n",
       "      <td>7</td>\n",
       "      <td>2023-01-04 21:21:00</td>\n",
       "      <td>12</td>\n",
       "      <td>...</td>\n",
       "      <td>6</td>\n",
       "      <td>2</td>\n",
       "      <td>1</td>\n",
       "      <td>2</td>\n",
       "      <td>7</td>\n",
       "      <td>1397.0</td>\n",
       "      <td>1</td>\n",
       "      <td>11.0</td>\n",
       "      <td>-1</td>\n",
       "      <td>3</td>\n",
       "    </tr>\n",
       "  </tbody>\n",
       "</table>\n",
       "<p>5 rows × 36 columns</p>\n",
       "</div>"
      ],
      "text/plain": [
       "  accident_index  accident_year_x police_force accident_severity  \\\n",
       "0  201001BS70003             2010            1                 3   \n",
       "1  201001BS70004             2010            1                 3   \n",
       "2  201001BS70006             2010            1                 3   \n",
       "3  201001BS70007             2010            1                 3   \n",
       "4  201001BS70007             2010            1                 3   \n",
       "\n",
       "   number_of_vehicles  number_of_casualties       date  day_of_week  \\\n",
       "0                   2                     1 2010-11-01            2   \n",
       "1                   1                     1 2010-11-01            2   \n",
       "2                   2                     1 2010-12-01            3   \n",
       "3                   2                     1 2010-02-01            7   \n",
       "4                   2                     1 2010-02-01            7   \n",
       "\n",
       "                 time local_authority_district  ... vehicle_direction_from  \\\n",
       "0 2023-01-04 07:30:00                       12  ...                    NaN   \n",
       "1 2023-01-04 18:35:00                       12  ...                      2   \n",
       "2 2023-01-04 10:22:00                       12  ...                    NaN   \n",
       "3 2023-01-04 21:21:00                       12  ...                      4   \n",
       "4 2023-01-04 21:21:00                       12  ...                      6   \n",
       "\n",
       "  vehicle_direction_to first_point_of_impact sex_of_driver age_band_of_driver  \\\n",
       "0                  NaN                   NaN           NaN                NaN   \n",
       "1                    6                     1             1                  8   \n",
       "2                  NaN                   NaN           NaN                NaN   \n",
       "3                    1                     4             2                  5   \n",
       "4                    2                     1             2                  7   \n",
       "\n",
       "  engine_capacity_cc propulsion_code age_of_vehicle  driver_imd_decile  \\\n",
       "0                NaN             NaN            NaN                NaN   \n",
       "1             1870.0               2            3.0                 -1   \n",
       "2                NaN             NaN            NaN                NaN   \n",
       "3             1998.0               1            7.0                 -1   \n",
       "4             1397.0               1           11.0                 -1   \n",
       "\n",
       "  driver_home_area_type  \n",
       "0                   NaN  \n",
       "1                     1  \n",
       "2                   NaN  \n",
       "3                     1  \n",
       "4                     3  \n",
       "\n",
       "[5 rows x 36 columns]"
      ]
     },
     "execution_count": 63,
     "metadata": {},
     "output_type": "execute_result"
    }
   ],
   "source": [
    "new_df.head()"
   ]
  },
  {
   "cell_type": "code",
   "execution_count": 64,
   "id": "5af6d48b",
   "metadata": {
    "scrolled": true
   },
   "outputs": [
    {
     "data": {
      "text/plain": [
       "accident_index                                      0\n",
       "accident_year_x                                     0\n",
       "police_force                                        0\n",
       "accident_severity                                   0\n",
       "number_of_vehicles                                  0\n",
       "number_of_casualties                                0\n",
       "date                                                0\n",
       "day_of_week                                         0\n",
       "time                                                0\n",
       "local_authority_district                            0\n",
       "first_road_class                                    0\n",
       "first_road_number                                   0\n",
       "junction_detail                                     0\n",
       "junction_control                                    0\n",
       "urban_or_rural_area                                 0\n",
       "did_police_officer_attend_scene_of_accident         0\n",
       "accident_month                                      0\n",
       "hour                                                0\n",
       "accident_year_y                                     0\n",
       "age_band_of_casualty                                0\n",
       "casualty_severity                                   0\n",
       "casualty_type                                       0\n",
       "casualty_home_area_type                             0\n",
       "casualty_imd_decile                                 0\n",
       "vehicle_type                                   221770\n",
       "vehicle_manoeuvre                              221770\n",
       "vehicle_direction_from                         221770\n",
       "vehicle_direction_to                           221770\n",
       "first_point_of_impact                          221770\n",
       "sex_of_driver                                  221770\n",
       "age_band_of_driver                             221770\n",
       "engine_capacity_cc                             221770\n",
       "propulsion_code                                221770\n",
       "age_of_vehicle                                 221770\n",
       "driver_imd_decile                              221770\n",
       "driver_home_area_type                          221770\n",
       "dtype: int64"
      ]
     },
     "execution_count": 64,
     "metadata": {},
     "output_type": "execute_result"
    }
   ],
   "source": [
    "new_df.isna().sum()"
   ]
  },
  {
   "cell_type": "code",
   "execution_count": 65,
   "id": "fa1ed2c2",
   "metadata": {},
   "outputs": [],
   "source": [
    "new_df.dropna(inplace=True)"
   ]
  },
  {
   "cell_type": "code",
   "execution_count": 66,
   "id": "6acfb1cb",
   "metadata": {},
   "outputs": [
    {
     "data": {
      "text/plain": [
       "accident_index                                 0\n",
       "accident_year_x                                0\n",
       "police_force                                   0\n",
       "accident_severity                              0\n",
       "number_of_vehicles                             0\n",
       "number_of_casualties                           0\n",
       "date                                           0\n",
       "day_of_week                                    0\n",
       "time                                           0\n",
       "local_authority_district                       0\n",
       "first_road_class                               0\n",
       "first_road_number                              0\n",
       "junction_detail                                0\n",
       "junction_control                               0\n",
       "urban_or_rural_area                            0\n",
       "did_police_officer_attend_scene_of_accident    0\n",
       "accident_month                                 0\n",
       "hour                                           0\n",
       "accident_year_y                                0\n",
       "age_band_of_casualty                           0\n",
       "casualty_severity                              0\n",
       "casualty_type                                  0\n",
       "casualty_home_area_type                        0\n",
       "casualty_imd_decile                            0\n",
       "vehicle_type                                   0\n",
       "vehicle_manoeuvre                              0\n",
       "vehicle_direction_from                         0\n",
       "vehicle_direction_to                           0\n",
       "first_point_of_impact                          0\n",
       "sex_of_driver                                  0\n",
       "age_band_of_driver                             0\n",
       "engine_capacity_cc                             0\n",
       "propulsion_code                                0\n",
       "age_of_vehicle                                 0\n",
       "driver_imd_decile                              0\n",
       "driver_home_area_type                          0\n",
       "dtype: int64"
      ]
     },
     "execution_count": 66,
     "metadata": {},
     "output_type": "execute_result"
    }
   ],
   "source": [
    "new_df.isna().sum()"
   ]
  },
  {
   "cell_type": "code",
   "execution_count": 67,
   "id": "871198fe",
   "metadata": {},
   "outputs": [
    {
     "data": {
      "text/plain": [
       "accident_index                                         object\n",
       "accident_year_x                                         int64\n",
       "police_force                                         category\n",
       "accident_severity                                    category\n",
       "number_of_vehicles                                      int64\n",
       "number_of_casualties                                    int64\n",
       "date                                           datetime64[ns]\n",
       "day_of_week                                             int64\n",
       "time                                           datetime64[ns]\n",
       "local_authority_district                             category\n",
       "first_road_class                                     category\n",
       "first_road_number                                    category\n",
       "junction_detail                                      category\n",
       "junction_control                                     category\n",
       "urban_or_rural_area                                  category\n",
       "did_police_officer_attend_scene_of_accident          category\n",
       "accident_month                                       category\n",
       "hour                                                 category\n",
       "accident_year_y                                         int64\n",
       "age_band_of_casualty                                 category\n",
       "casualty_severity                                    category\n",
       "casualty_type                                        category\n",
       "casualty_home_area_type                              category\n",
       "casualty_imd_decile                                  category\n",
       "vehicle_type                                         category\n",
       "vehicle_manoeuvre                                    category\n",
       "vehicle_direction_from                               category\n",
       "vehicle_direction_to                                 category\n",
       "first_point_of_impact                                category\n",
       "sex_of_driver                                        category\n",
       "age_band_of_driver                                   category\n",
       "engine_capacity_cc                                    float64\n",
       "propulsion_code                                      category\n",
       "age_of_vehicle                                        float64\n",
       "driver_imd_decile                                    category\n",
       "driver_home_area_type                                category\n",
       "dtype: object"
      ]
     },
     "execution_count": 67,
     "metadata": {},
     "output_type": "execute_result"
    }
   ],
   "source": [
    "new_df.dtypes"
   ]
  },
  {
   "cell_type": "code",
   "execution_count": 68,
   "id": "21591cab",
   "metadata": {},
   "outputs": [
    {
     "data": {
      "text/plain": [
       "(3080766, 36)"
      ]
     },
     "execution_count": 68,
     "metadata": {},
     "output_type": "execute_result"
    }
   ],
   "source": [
    "new_df.shape"
   ]
  },
  {
   "cell_type": "markdown",
   "id": "2c7c4b63",
   "metadata": {},
   "source": [
    "### Model Building"
   ]
  },
  {
   "cell_type": "code",
   "execution_count": 69,
   "id": "b75c6bae",
   "metadata": {},
   "outputs": [],
   "source": [
    "from sklearn.model_selection import train_test_split\n",
    "from sklearn.linear_model import LogisticRegression\n",
    "from sklearn.metrics import accuracy_score\n",
    "from sklearn.metrics import classification_report\n",
    "from sklearn.tree import DecisionTreeClassifier\n",
    "from sklearn.ensemble import RandomForestClassifier\n",
    "from sklearn.svm import SVC, LinearSVC\n",
    "from sklearn.metrics import log_loss"
   ]
  },
  {
   "cell_type": "code",
   "execution_count": 70,
   "id": "ad19a8ce",
   "metadata": {},
   "outputs": [],
   "source": [
    "features = new_df.drop(['date','accident_severity','time', 'accident_year_x', 'accident_index', 'accident_year_y'], axis=1)\n",
    "target = new_df[['accident_severity']]"
   ]
  },
  {
   "cell_type": "code",
   "execution_count": 71,
   "id": "e1617cde",
   "metadata": {},
   "outputs": [
    {
     "data": {
      "text/plain": [
       "(3080766, 30)"
      ]
     },
     "execution_count": 71,
     "metadata": {},
     "output_type": "execute_result"
    }
   ],
   "source": [
    "features.shape"
   ]
  },
  {
   "cell_type": "code",
   "execution_count": 72,
   "id": "b2fa739b",
   "metadata": {},
   "outputs": [
    {
     "data": {
      "text/plain": [
       "(3080766, 1)"
      ]
     },
     "execution_count": 72,
     "metadata": {},
     "output_type": "execute_result"
    }
   ],
   "source": [
    "target.shape"
   ]
  },
  {
   "cell_type": "code",
   "execution_count": 73,
   "id": "bd9ac7aa",
   "metadata": {},
   "outputs": [
    {
     "data": {
      "text/plain": [
       "Index(['police_force', 'number_of_vehicles', 'number_of_casualties',\n",
       "       'day_of_week', 'local_authority_district', 'first_road_class',\n",
       "       'first_road_number', 'junction_detail', 'junction_control',\n",
       "       'urban_or_rural_area', 'did_police_officer_attend_scene_of_accident',\n",
       "       'accident_month', 'hour', 'age_band_of_casualty', 'casualty_severity',\n",
       "       'casualty_type', 'casualty_home_area_type', 'casualty_imd_decile',\n",
       "       'vehicle_type', 'vehicle_manoeuvre', 'vehicle_direction_from',\n",
       "       'vehicle_direction_to', 'first_point_of_impact', 'sex_of_driver',\n",
       "       'age_band_of_driver', 'engine_capacity_cc', 'propulsion_code',\n",
       "       'age_of_vehicle', 'driver_imd_decile', 'driver_home_area_type'],\n",
       "      dtype='object')"
      ]
     },
     "execution_count": 73,
     "metadata": {},
     "output_type": "execute_result"
    }
   ],
   "source": [
    "features.columns"
   ]
  },
  {
   "cell_type": "code",
   "execution_count": 74,
   "id": "d4301aec",
   "metadata": {},
   "outputs": [
    {
     "data": {
      "text/html": [
       "<div>\n",
       "<style scoped>\n",
       "    .dataframe tbody tr th:only-of-type {\n",
       "        vertical-align: middle;\n",
       "    }\n",
       "\n",
       "    .dataframe tbody tr th {\n",
       "        vertical-align: top;\n",
       "    }\n",
       "\n",
       "    .dataframe thead th {\n",
       "        text-align: right;\n",
       "    }\n",
       "</style>\n",
       "<table border=\"1\" class=\"dataframe\">\n",
       "  <thead>\n",
       "    <tr style=\"text-align: right;\">\n",
       "      <th></th>\n",
       "      <th>accident_severity</th>\n",
       "    </tr>\n",
       "  </thead>\n",
       "  <tbody>\n",
       "    <tr>\n",
       "      <th>1</th>\n",
       "      <td>3</td>\n",
       "    </tr>\n",
       "    <tr>\n",
       "      <th>3</th>\n",
       "      <td>3</td>\n",
       "    </tr>\n",
       "    <tr>\n",
       "      <th>4</th>\n",
       "      <td>3</td>\n",
       "    </tr>\n",
       "    <tr>\n",
       "      <th>5</th>\n",
       "      <td>3</td>\n",
       "    </tr>\n",
       "    <tr>\n",
       "      <th>6</th>\n",
       "      <td>3</td>\n",
       "    </tr>\n",
       "  </tbody>\n",
       "</table>\n",
       "</div>"
      ],
      "text/plain": [
       "  accident_severity\n",
       "1                 3\n",
       "3                 3\n",
       "4                 3\n",
       "5                 3\n",
       "6                 3"
      ]
     },
     "execution_count": 74,
     "metadata": {},
     "output_type": "execute_result"
    }
   ],
   "source": [
    "target.head()"
   ]
  },
  {
   "cell_type": "code",
   "execution_count": 75,
   "id": "94ae9ff8",
   "metadata": {},
   "outputs": [
    {
     "data": {
      "text/plain": [
       "accident_severity\n",
       "3                    2580588\n",
       "2                     451257\n",
       "1                      48921\n",
       "dtype: int64"
      ]
     },
     "execution_count": 75,
     "metadata": {},
     "output_type": "execute_result"
    }
   ],
   "source": [
    "target.value_counts()"
   ]
  },
  {
   "cell_type": "markdown",
   "id": "3fdd9ea4",
   "metadata": {},
   "source": [
    "From the value count of the target variable, there is an imbalance in the data.\n",
    "\n",
    "Therefore, it will be downsized."
   ]
  },
  {
   "cell_type": "code",
   "execution_count": 76,
   "id": "e3d6993c",
   "metadata": {},
   "outputs": [
    {
     "data": {
      "text/html": [
       "<div>\n",
       "<style scoped>\n",
       "    .dataframe tbody tr th:only-of-type {\n",
       "        vertical-align: middle;\n",
       "    }\n",
       "\n",
       "    .dataframe tbody tr th {\n",
       "        vertical-align: top;\n",
       "    }\n",
       "\n",
       "    .dataframe thead th {\n",
       "        text-align: right;\n",
       "    }\n",
       "</style>\n",
       "<table border=\"1\" class=\"dataframe\">\n",
       "  <thead>\n",
       "    <tr style=\"text-align: right;\">\n",
       "      <th></th>\n",
       "      <th>accident_index</th>\n",
       "      <th>accident_year_x</th>\n",
       "      <th>police_force</th>\n",
       "      <th>accident_severity</th>\n",
       "      <th>number_of_vehicles</th>\n",
       "      <th>number_of_casualties</th>\n",
       "      <th>date</th>\n",
       "      <th>day_of_week</th>\n",
       "      <th>time</th>\n",
       "      <th>local_authority_district</th>\n",
       "      <th>...</th>\n",
       "      <th>vehicle_direction_from</th>\n",
       "      <th>vehicle_direction_to</th>\n",
       "      <th>first_point_of_impact</th>\n",
       "      <th>sex_of_driver</th>\n",
       "      <th>age_band_of_driver</th>\n",
       "      <th>engine_capacity_cc</th>\n",
       "      <th>propulsion_code</th>\n",
       "      <th>age_of_vehicle</th>\n",
       "      <th>driver_imd_decile</th>\n",
       "      <th>driver_home_area_type</th>\n",
       "    </tr>\n",
       "  </thead>\n",
       "  <tbody>\n",
       "    <tr>\n",
       "      <th>0</th>\n",
       "      <td>201734WS80447</td>\n",
       "      <td>2017</td>\n",
       "      <td>34</td>\n",
       "      <td>1</td>\n",
       "      <td>5</td>\n",
       "      <td>6</td>\n",
       "      <td>2017-12-23</td>\n",
       "      <td>7</td>\n",
       "      <td>2023-01-04 23:37:00</td>\n",
       "      <td>385</td>\n",
       "      <td>...</td>\n",
       "      <td>4</td>\n",
       "      <td>8</td>\n",
       "      <td>1</td>\n",
       "      <td>2</td>\n",
       "      <td>6</td>\n",
       "      <td>999.0</td>\n",
       "      <td>1</td>\n",
       "      <td>2.0</td>\n",
       "      <td>6</td>\n",
       "      <td>1</td>\n",
       "    </tr>\n",
       "    <tr>\n",
       "      <th>1</th>\n",
       "      <td>201360P034086</td>\n",
       "      <td>2013</td>\n",
       "      <td>60</td>\n",
       "      <td>1</td>\n",
       "      <td>2</td>\n",
       "      <td>1</td>\n",
       "      <td>2013-05-03</td>\n",
       "      <td>3</td>\n",
       "      <td>2023-01-04 12:16:00</td>\n",
       "      <td>721</td>\n",
       "      <td>...</td>\n",
       "      <td>4</td>\n",
       "      <td>8</td>\n",
       "      <td>1</td>\n",
       "      <td>1</td>\n",
       "      <td>5</td>\n",
       "      <td>-1.0</td>\n",
       "      <td>-1</td>\n",
       "      <td>-1.0</td>\n",
       "      <td>-1</td>\n",
       "      <td>-1</td>\n",
       "    </tr>\n",
       "    <tr>\n",
       "      <th>2</th>\n",
       "      <td>2015551501008</td>\n",
       "      <td>2015</td>\n",
       "      <td>55</td>\n",
       "      <td>1</td>\n",
       "      <td>2</td>\n",
       "      <td>4</td>\n",
       "      <td>2015-08-16</td>\n",
       "      <td>1</td>\n",
       "      <td>2023-01-04 14:08:00</td>\n",
       "      <td>644</td>\n",
       "      <td>...</td>\n",
       "      <td>4</td>\n",
       "      <td>8</td>\n",
       "      <td>1</td>\n",
       "      <td>1</td>\n",
       "      <td>9</td>\n",
       "      <td>1242.0</td>\n",
       "      <td>1</td>\n",
       "      <td>0.0</td>\n",
       "      <td>-1</td>\n",
       "      <td>-1</td>\n",
       "    </tr>\n",
       "    <tr>\n",
       "      <th>3</th>\n",
       "      <td>2021411025211</td>\n",
       "      <td>2021</td>\n",
       "      <td>41</td>\n",
       "      <td>1</td>\n",
       "      <td>2</td>\n",
       "      <td>6</td>\n",
       "      <td>2021-02-03</td>\n",
       "      <td>3</td>\n",
       "      <td>2023-01-04 18:52:00</td>\n",
       "      <td>-1</td>\n",
       "      <td>...</td>\n",
       "      <td>7</td>\n",
       "      <td>3</td>\n",
       "      <td>1</td>\n",
       "      <td>1</td>\n",
       "      <td>8</td>\n",
       "      <td>-1.0</td>\n",
       "      <td>-1</td>\n",
       "      <td>-1.0</td>\n",
       "      <td>6</td>\n",
       "      <td>1</td>\n",
       "    </tr>\n",
       "    <tr>\n",
       "      <th>4</th>\n",
       "      <td>2021101078427</td>\n",
       "      <td>2021</td>\n",
       "      <td>10</td>\n",
       "      <td>1</td>\n",
       "      <td>2</td>\n",
       "      <td>4</td>\n",
       "      <td>2021-07-25</td>\n",
       "      <td>1</td>\n",
       "      <td>2023-01-04 09:03:00</td>\n",
       "      <td>-1</td>\n",
       "      <td>...</td>\n",
       "      <td>2</td>\n",
       "      <td>6</td>\n",
       "      <td>3</td>\n",
       "      <td>2</td>\n",
       "      <td>8</td>\n",
       "      <td>1597.0</td>\n",
       "      <td>2</td>\n",
       "      <td>6.0</td>\n",
       "      <td>-1</td>\n",
       "      <td>-1</td>\n",
       "    </tr>\n",
       "  </tbody>\n",
       "</table>\n",
       "<p>5 rows × 36 columns</p>\n",
       "</div>"
      ],
      "text/plain": [
       "  accident_index  accident_year_x police_force accident_severity  \\\n",
       "0  201734WS80447             2017           34                 1   \n",
       "1  201360P034086             2013           60                 1   \n",
       "2  2015551501008             2015           55                 1   \n",
       "3  2021411025211             2021           41                 1   \n",
       "4  2021101078427             2021           10                 1   \n",
       "\n",
       "   number_of_vehicles  number_of_casualties       date  day_of_week  \\\n",
       "0                   5                     6 2017-12-23            7   \n",
       "1                   2                     1 2013-05-03            3   \n",
       "2                   2                     4 2015-08-16            1   \n",
       "3                   2                     6 2021-02-03            3   \n",
       "4                   2                     4 2021-07-25            1   \n",
       "\n",
       "                 time local_authority_district  ... vehicle_direction_from  \\\n",
       "0 2023-01-04 23:37:00                      385  ...                      4   \n",
       "1 2023-01-04 12:16:00                      721  ...                      4   \n",
       "2 2023-01-04 14:08:00                      644  ...                      4   \n",
       "3 2023-01-04 18:52:00                       -1  ...                      7   \n",
       "4 2023-01-04 09:03:00                       -1  ...                      2   \n",
       "\n",
       "  vehicle_direction_to first_point_of_impact sex_of_driver age_band_of_driver  \\\n",
       "0                    8                     1             2                  6   \n",
       "1                    8                     1             1                  5   \n",
       "2                    8                     1             1                  9   \n",
       "3                    3                     1             1                  8   \n",
       "4                    6                     3             2                  8   \n",
       "\n",
       "  engine_capacity_cc propulsion_code age_of_vehicle  driver_imd_decile  \\\n",
       "0              999.0               1            2.0                  6   \n",
       "1               -1.0              -1           -1.0                 -1   \n",
       "2             1242.0               1            0.0                 -1   \n",
       "3               -1.0              -1           -1.0                  6   \n",
       "4             1597.0               2            6.0                 -1   \n",
       "\n",
       "  driver_home_area_type  \n",
       "0                     1  \n",
       "1                    -1  \n",
       "2                    -1  \n",
       "3                     1  \n",
       "4                    -1  \n",
       "\n",
       "[5 rows x 36 columns]"
      ]
     },
     "execution_count": 76,
     "metadata": {},
     "output_type": "execute_result"
    }
   ],
   "source": [
    "#downsize the accident severity\n",
    "import numpy as np\n",
    "label = 'accident_severity'\n",
    "\n",
    "g = new_df.groupby(label, group_keys=False)\n",
    "balanced_df = pd.DataFrame(g.apply(lambda x: x.sample(g.size().min()))).reset_index(drop=True)\n",
    "balanced_df.head()"
   ]
  },
  {
   "cell_type": "code",
   "execution_count": 77,
   "id": "5505089f",
   "metadata": {},
   "outputs": [
    {
     "data": {
      "text/plain": [
       "1    48921\n",
       "2    48921\n",
       "3    48921\n",
       "Name: accident_severity, dtype: int64"
      ]
     },
     "execution_count": 77,
     "metadata": {},
     "output_type": "execute_result"
    }
   ],
   "source": [
    "balanced_df.accident_severity.value_counts()"
   ]
  },
  {
   "cell_type": "code",
   "execution_count": 78,
   "id": "a9e32bbf",
   "metadata": {},
   "outputs": [],
   "source": [
    "#resplit the data\n",
    "features = balanced_df.drop(['date','accident_severity','time', 'accident_year_x', 'accident_index', 'accident_year_y'], axis=1)\n",
    "target = balanced_df[['accident_severity']]"
   ]
  },
  {
   "cell_type": "code",
   "execution_count": 79,
   "id": "e7ea456b",
   "metadata": {},
   "outputs": [
    {
     "data": {
      "text/plain": [
       "(146763, 30)"
      ]
     },
     "execution_count": 79,
     "metadata": {},
     "output_type": "execute_result"
    }
   ],
   "source": [
    "features.shape"
   ]
  },
  {
   "cell_type": "code",
   "execution_count": 80,
   "id": "70f74704",
   "metadata": {},
   "outputs": [
    {
     "data": {
      "text/plain": [
       "(146763, 1)"
      ]
     },
     "execution_count": 80,
     "metadata": {},
     "output_type": "execute_result"
    }
   ],
   "source": [
    "target.shape"
   ]
  },
  {
   "cell_type": "code",
   "execution_count": 81,
   "id": "2cc48a61",
   "metadata": {},
   "outputs": [],
   "source": [
    "x_train, x_test, y_train, y_test = train_test_split(features,target, train_size=0.7, test_size=0.3, shuffle=True, stratify=target, random_state=42)\n"
   ]
  },
  {
   "cell_type": "code",
   "execution_count": 82,
   "id": "222d560b",
   "metadata": {},
   "outputs": [
    {
     "data": {
      "text/plain": [
       "(102734, 30)"
      ]
     },
     "execution_count": 82,
     "metadata": {},
     "output_type": "execute_result"
    }
   ],
   "source": [
    "x_train.shape"
   ]
  },
  {
   "cell_type": "code",
   "execution_count": 83,
   "id": "38edd403",
   "metadata": {},
   "outputs": [
    {
     "data": {
      "text/plain": [
       "(102734, 1)"
      ]
     },
     "execution_count": 83,
     "metadata": {},
     "output_type": "execute_result"
    }
   ],
   "source": [
    "y_train.shape"
   ]
  },
  {
   "cell_type": "code",
   "execution_count": 84,
   "id": "f933082d",
   "metadata": {},
   "outputs": [
    {
     "data": {
      "text/plain": [
       "(44029, 1)"
      ]
     },
     "execution_count": 84,
     "metadata": {},
     "output_type": "execute_result"
    }
   ],
   "source": [
    "y_test.shape"
   ]
  },
  {
   "cell_type": "code",
   "execution_count": 85,
   "id": "67adde1f",
   "metadata": {},
   "outputs": [],
   "source": [
    "#scale the data\n",
    "from sklearn.preprocessing import StandardScaler\n",
    "\n",
    "scaler = StandardScaler()"
   ]
  },
  {
   "cell_type": "code",
   "execution_count": 86,
   "id": "27d6b279",
   "metadata": {
    "scrolled": true
   },
   "outputs": [],
   "source": [
    "xtrain_scaled = pd.DataFrame(scaler.fit_transform(x_train), columns=x_train.columns)"
   ]
  },
  {
   "cell_type": "code",
   "execution_count": 87,
   "id": "7ecfec0c",
   "metadata": {},
   "outputs": [],
   "source": [
    "xtest_scaled = pd.DataFrame(scaler.transform(x_test), columns=x_test.columns)"
   ]
  },
  {
   "cell_type": "code",
   "execution_count": 88,
   "id": "e6632f47",
   "metadata": {},
   "outputs": [
    {
     "data": {
      "text/plain": [
       "police_force                                   1.00001\n",
       "number_of_vehicles                             1.00001\n",
       "number_of_casualties                           1.00001\n",
       "day_of_week                                    1.00001\n",
       "local_authority_district                       1.00001\n",
       "first_road_class                               1.00001\n",
       "first_road_number                              1.00001\n",
       "junction_detail                                1.00001\n",
       "junction_control                               1.00001\n",
       "urban_or_rural_area                            1.00001\n",
       "did_police_officer_attend_scene_of_accident    1.00001\n",
       "accident_month                                 1.00001\n",
       "hour                                           1.00001\n",
       "age_band_of_casualty                           1.00001\n",
       "casualty_severity                              1.00001\n",
       "casualty_type                                  1.00001\n",
       "casualty_home_area_type                        1.00001\n",
       "casualty_imd_decile                            1.00001\n",
       "vehicle_type                                   1.00001\n",
       "vehicle_manoeuvre                              1.00001\n",
       "vehicle_direction_from                         1.00001\n",
       "vehicle_direction_to                           1.00001\n",
       "first_point_of_impact                          1.00001\n",
       "sex_of_driver                                  1.00001\n",
       "age_band_of_driver                             1.00001\n",
       "engine_capacity_cc                             1.00001\n",
       "propulsion_code                                1.00001\n",
       "age_of_vehicle                                 1.00001\n",
       "driver_imd_decile                              1.00001\n",
       "driver_home_area_type                          1.00001\n",
       "dtype: float64"
      ]
     },
     "execution_count": 88,
     "metadata": {},
     "output_type": "execute_result"
    }
   ],
   "source": [
    "xtrain_scaled.var()"
   ]
  },
  {
   "cell_type": "code",
   "execution_count": 89,
   "id": "943b51b3",
   "metadata": {},
   "outputs": [
    {
     "data": {
      "text/plain": [
       "police_force                                   0.997336\n",
       "number_of_vehicles                             1.001447\n",
       "number_of_casualties                           0.990940\n",
       "day_of_week                                    0.997865\n",
       "local_authority_district                       0.999917\n",
       "first_road_class                               1.000438\n",
       "first_road_number                              0.975100\n",
       "junction_detail                                0.931680\n",
       "junction_control                               1.001019\n",
       "urban_or_rural_area                            0.998920\n",
       "did_police_officer_attend_scene_of_accident    0.985743\n",
       "accident_month                                 1.004493\n",
       "hour                                           0.985678\n",
       "age_band_of_casualty                           0.988154\n",
       "casualty_severity                              1.000916\n",
       "casualty_type                                  1.013452\n",
       "casualty_home_area_type                        0.995893\n",
       "casualty_imd_decile                            0.995735\n",
       "vehicle_type                                   0.933316\n",
       "vehicle_manoeuvre                              1.013673\n",
       "vehicle_direction_from                         1.008219\n",
       "vehicle_direction_to                           1.002076\n",
       "first_point_of_impact                          1.003396\n",
       "sex_of_driver                                  1.011768\n",
       "age_band_of_driver                             0.991116\n",
       "engine_capacity_cc                             1.013899\n",
       "propulsion_code                                0.991868\n",
       "age_of_vehicle                                 0.986354\n",
       "driver_imd_decile                              0.996182\n",
       "driver_home_area_type                          0.996548\n",
       "dtype: float64"
      ]
     },
     "execution_count": 89,
     "metadata": {},
     "output_type": "execute_result"
    }
   ],
   "source": [
    "xtest_scaled.var()"
   ]
  },
  {
   "cell_type": "markdown",
   "id": "f3a4f594",
   "metadata": {},
   "source": [
    "The data has been downsized and scaled, next different algorithms will be tested"
   ]
  },
  {
   "cell_type": "code",
   "execution_count": 90,
   "id": "339debde",
   "metadata": {},
   "outputs": [
    {
     "data": {
      "text/plain": [
       "police_force                                   category\n",
       "number_of_vehicles                                int64\n",
       "number_of_casualties                              int64\n",
       "day_of_week                                       int64\n",
       "local_authority_district                       category\n",
       "first_road_class                               category\n",
       "first_road_number                              category\n",
       "junction_detail                                category\n",
       "junction_control                               category\n",
       "urban_or_rural_area                            category\n",
       "did_police_officer_attend_scene_of_accident    category\n",
       "accident_month                                 category\n",
       "hour                                           category\n",
       "age_band_of_casualty                           category\n",
       "casualty_severity                              category\n",
       "casualty_type                                  category\n",
       "casualty_home_area_type                        category\n",
       "casualty_imd_decile                            category\n",
       "vehicle_type                                   category\n",
       "vehicle_manoeuvre                              category\n",
       "vehicle_direction_from                         category\n",
       "vehicle_direction_to                           category\n",
       "first_point_of_impact                          category\n",
       "sex_of_driver                                  category\n",
       "age_band_of_driver                             category\n",
       "engine_capacity_cc                              float64\n",
       "propulsion_code                                category\n",
       "age_of_vehicle                                  float64\n",
       "driver_imd_decile                              category\n",
       "driver_home_area_type                          category\n",
       "dtype: object"
      ]
     },
     "execution_count": 90,
     "metadata": {},
     "output_type": "execute_result"
    }
   ],
   "source": [
    "features.dtypes"
   ]
  },
  {
   "cell_type": "code",
   "execution_count": 91,
   "id": "484bbd20",
   "metadata": {},
   "outputs": [
    {
     "data": {
      "text/plain": [
       "accident_severity    category\n",
       "dtype: object"
      ]
     },
     "execution_count": 91,
     "metadata": {},
     "output_type": "execute_result"
    }
   ],
   "source": [
    "target.dtypes"
   ]
  },
  {
   "cell_type": "code",
   "execution_count": 92,
   "id": "50be950a",
   "metadata": {},
   "outputs": [],
   "source": [
    "# Import KNeighborsClassifier from sklearn's neighbors module and GaussianNB\n",
    "from sklearn.neighbors import KNeighborsClassifier\n",
    "from sklearn.naive_bayes import GaussianNB"
   ]
  },
  {
   "cell_type": "code",
   "execution_count": 93,
   "id": "5f20c740",
   "metadata": {},
   "outputs": [],
   "source": [
    "#downsized unscaled\n",
    "models = {\n",
    "          \"DecisionTreeClassifier\": DecisionTreeClassifier(),\n",
    "          \n",
    "          \"SVC\": SVC(),\n",
    "          \n",
    "          \"LinearSVC\": LinearSVC(), \n",
    "\n",
    "          'LogisticRregression': LogisticRegression(),\n",
    "\n",
    "          #'KNeighborsClassifier': KNeighborsClassifier(),\n",
    "\n",
    "          \"RandomForestClassifier\": RandomForestClassifier(),\n",
    "\n",
    "          \"GaussianNB\": GaussianNB()}"
   ]
  },
  {
   "cell_type": "code",
   "execution_count": 94,
   "id": "0864b280",
   "metadata": {},
   "outputs": [
    {
     "name": "stderr",
     "output_type": "stream",
     "text": [
      "C:\\Users\\Toyin Alade\\anaconda3\\lib\\site-packages\\sklearn\\svm\\_base.py:1206: ConvergenceWarning: Liblinear failed to converge, increase the number of iterations.\n",
      "  warnings.warn(\n",
      "C:\\Users\\Toyin Alade\\anaconda3\\lib\\site-packages\\sklearn\\linear_model\\_logistic.py:814: ConvergenceWarning: lbfgs failed to converge (status=1):\n",
      "STOP: TOTAL NO. of ITERATIONS REACHED LIMIT.\n",
      "\n",
      "Increase the number of iterations (max_iter) or scale the data as shown in:\n",
      "    https://scikit-learn.org/stable/modules/preprocessing.html\n",
      "Please also refer to the documentation for alternative solver options:\n",
      "    https://scikit-learn.org/stable/modules/linear_model.html#logistic-regression\n",
      "  n_iter_i = _check_optimize_result(\n"
     ]
    },
    {
     "data": {
      "text/plain": [
       "{'DecisionTreeClassifier': 0.8094437756932931,\n",
       " 'SVC': 0.3978741284153626,\n",
       " 'LinearSVC': 0.436121647096232,\n",
       " 'LogisticRregression': 0.5112085216561811,\n",
       " 'RandomForestClassifier': 0.8675645597220014,\n",
       " 'GaussianNB': 0.7104862704126825}"
      ]
     },
     "execution_count": 94,
     "metadata": {},
     "output_type": "execute_result"
    }
   ],
   "source": [
    "#building on downsized unscaled data\n",
    "\n",
    "results = {}\n",
    "\n",
    "for model_name, model in models.items():\n",
    "    model.fit(x_train, y_train.values.ravel())\n",
    "    results[model_name] = model.score(x_test, y_test.values.ravel())\n",
    "    \n",
    "results"
   ]
  },
  {
   "cell_type": "code",
   "execution_count": 95,
   "id": "66e13190",
   "metadata": {},
   "outputs": [],
   "source": [
    "#building on downsized scaled data\n",
    "models2 = {\n",
    "          \"DecisionTreeClassifier\": DecisionTreeClassifier(),\n",
    "          \n",
    "          \"SVC\": SVC(),\n",
    "          \n",
    "          \"LinearSVC\": LinearSVC(), \n",
    "\n",
    "          'LogisticRegression': LogisticRegression(),\n",
    "\n",
    "          #'KNeighborsClassifier': KNeighborsClassifier(),\n",
    "\n",
    "          \"RandomForestClassifier\": RandomForestClassifier(),\n",
    "\n",
    "          \"GaussianNB\": GaussianNB()}"
   ]
  },
  {
   "cell_type": "code",
   "execution_count": 96,
   "id": "6834edcb",
   "metadata": {},
   "outputs": [
    {
     "name": "stderr",
     "output_type": "stream",
     "text": [
      "C:\\Users\\Toyin Alade\\anaconda3\\lib\\site-packages\\sklearn\\svm\\_base.py:1206: ConvergenceWarning: Liblinear failed to converge, increase the number of iterations.\n",
      "  warnings.warn(\n"
     ]
    },
    {
     "data": {
      "text/plain": [
       "{'DecisionTreeClassifier': 0.8098298848486225,\n",
       " 'SVC': 0.8059915055985828,\n",
       " 'LinearSVC': 0.7079197801449045,\n",
       " 'LogisticRegression': 0.7398305662177201,\n",
       " 'RandomForestClassifier': 0.8675645597220014,\n",
       " 'GaussianNB': 0.6993118172113834}"
      ]
     },
     "execution_count": 96,
     "metadata": {},
     "output_type": "execute_result"
    }
   ],
   "source": [
    "results2 = {}\n",
    "\n",
    "for model_name, model in models2.items():\n",
    "    model.fit(xtrain_scaled, y_train.values.ravel())\n",
    "    results2[model_name] = model.score(xtest_scaled, y_test.values.ravel())\n",
    "    \n",
    "results2"
   ]
  },
  {
   "cell_type": "markdown",
   "id": "aabde92a",
   "metadata": {},
   "source": [
    "Random Forest Classifier had the highest accuracy of 0.86 with unscaled data\n",
    "\n",
    "Next the model will be built"
   ]
  },
  {
   "cell_type": "code",
   "execution_count": 97,
   "id": "fabedef0",
   "metadata": {},
   "outputs": [],
   "source": [
    "clf = RandomForestClassifier()"
   ]
  },
  {
   "cell_type": "code",
   "execution_count": 98,
   "id": "c8850dc1",
   "metadata": {},
   "outputs": [
    {
     "data": {
      "text/plain": [
       "RandomForestClassifier()"
      ]
     },
     "execution_count": 98,
     "metadata": {},
     "output_type": "execute_result"
    }
   ],
   "source": [
    "#train the model\n",
    "clf.fit(x_train, y_train.values.ravel())"
   ]
  },
  {
   "cell_type": "code",
   "execution_count": 99,
   "id": "e16cd9d7",
   "metadata": {},
   "outputs": [],
   "source": [
    "# performing predictions on the test dataset\n",
    "y_pred = clf.predict(x_test)"
   ]
  },
  {
   "cell_type": "code",
   "execution_count": 100,
   "id": "dcb9baf8",
   "metadata": {},
   "outputs": [
    {
     "name": "stdout",
     "output_type": "stream",
     "text": [
      "ACCURACY OF THE MODEL:  0.8679960934838402\n"
     ]
    }
   ],
   "source": [
    "print(\"ACCURACY OF THE MODEL: \", accuracy_score(y_test, y_pred))"
   ]
  },
  {
   "cell_type": "code",
   "execution_count": 101,
   "id": "6d954863",
   "metadata": {},
   "outputs": [
    {
     "name": "stdout",
     "output_type": "stream",
     "text": [
      "              precision    recall  f1-score   support\n",
      "\n",
      "           1       0.91      0.89      0.90     14676\n",
      "           2       0.86      0.80      0.83     14676\n",
      "           3       0.83      0.92      0.87     14677\n",
      "\n",
      "    accuracy                           0.87     44029\n",
      "   macro avg       0.87      0.87      0.87     44029\n",
      "weighted avg       0.87      0.87      0.87     44029\n",
      "\n"
     ]
    }
   ],
   "source": [
    "#create a classification report\n",
    "print(classification_report(y_test, y_pred))"
   ]
  },
  {
   "cell_type": "code",
   "execution_count": 102,
   "id": "e767fcc6",
   "metadata": {},
   "outputs": [
    {
     "data": {
      "text/plain": [
       "array([[13041,   988,   647],\n",
       "       [  915, 11695,  2066],\n",
       "       [  324,   872, 13481]], dtype=int64)"
      ]
     },
     "execution_count": 102,
     "metadata": {},
     "output_type": "execute_result"
    }
   ],
   "source": [
    "# Create a confusion matrix using the confusion_matrix function\n",
    "from sklearn.metrics import confusion_matrix\n",
    "\n",
    "confusion_matrix(y_test, y_pred)"
   ]
  },
  {
   "cell_type": "code",
   "execution_count": 103,
   "id": "c9bb57fb",
   "metadata": {},
   "outputs": [
    {
     "data": {
      "image/png": "[encoded data removed]",
      "text/plain": [
       "<Figure size 216x216 with 1 Axes>"
      ]
     },
     "metadata": {
      "needs_background": "light"
     },
     "output_type": "display_data"
    }
   ],
   "source": [
    "# Create a more visual confusion matrix\n",
    "import seaborn as sns\n",
    "\n",
    "def plot_conf_mat(y_test, y_pred):\n",
    "    \"\"\"\n",
    "    Plots a confusion matrix using seaborn's heatmap()\n",
    "    \"\"\"\n",
    "    fix, ax = plt.subplots(figsize=(3, 3))\n",
    "    ax = sns.heatmap(confusion_matrix(y_test, y_pred),\n",
    "                     annot=True,\n",
    "                     cbar=False)\n",
    "    plt.xlabel(\"Predicted label\")\n",
    "    plt.ylabel(\"True label\")\n",
    "    \n",
    "plot_conf_mat(y_test, y_pred)"
   ]
  },
  {
   "cell_type": "code",
   "execution_count": 104,
   "id": "89eda540",
   "metadata": {},
   "outputs": [
    {
     "data": {
      "text/plain": [
       "casualty_severity                              0.364579\n",
       "number_of_casualties                           0.085646\n",
       "local_authority_district                       0.035425\n",
       "hour                                           0.033900\n",
       "first_road_number                              0.032479\n",
       "police_force                                   0.030384\n",
       "engine_capacity_cc                             0.029566\n",
       "number_of_vehicles                             0.028355\n",
       "accident_month                                 0.026864\n",
       "vehicle_manoeuvre                              0.026818\n",
       "age_of_vehicle                                 0.025266\n",
       "urban_or_rural_area                            0.025221\n",
       "age_band_of_casualty                           0.024390\n",
       "day_of_week                                    0.021074\n",
       "age_band_of_driver                             0.020891\n",
       "vehicle_direction_to                           0.019801\n",
       "vehicle_direction_from                         0.019776\n",
       "casualty_type                                  0.019251\n",
       "junction_detail                                0.018612\n",
       "first_point_of_impact                          0.014690\n",
       "driver_imd_decile                              0.013512\n",
       "first_road_class                               0.013301\n",
       "casualty_imd_decile                            0.013292\n",
       "junction_control                               0.011996\n",
       "casualty_home_area_type                        0.010234\n",
       "driver_home_area_type                          0.009914\n",
       "did_police_officer_attend_scene_of_accident    0.008471\n",
       "propulsion_code                                0.008152\n",
       "sex_of_driver                                  0.007258\n",
       "vehicle_type                                   0.000882\n",
       "dtype: float64"
      ]
     },
     "execution_count": 104,
     "metadata": {},
     "output_type": "execute_result"
    }
   ],
   "source": [
    "# Find the most important features using feature importance\n",
    "\n",
    "feature_scores = pd.Series(clf.feature_importances_, index=x_train.columns).sort_values(ascending=False)\n",
    "feature_scores"
   ]
  },
  {
   "cell_type": "markdown",
   "id": "7dcdcac2",
   "metadata": {},
   "source": [
    "Retrain using selected features"
   ]
  },
  {
   "cell_type": "code",
   "execution_count": 105,
   "id": "ac81d7d4",
   "metadata": {},
   "outputs": [],
   "source": [
    "#resplit the data\n",
    "features1 = balanced_df.drop(['date','accident_severity','time', 'accident_year_x', 'accident_index', 'accident_year_y', \n",
    "                             'casualty_type', 'junction_detail', 'first_point_of_impact', 'driver_imd_decile',\n",
    "                             'junction_control', 'casualty_home_area_type', 'driver_home_area_type', \n",
    "                              'did_police_officer_attend_scene_of_accident', 'propulsion_code', 'sex_of_driver', 'vehicle_type'], axis=1)\n",
    "target1 = balanced_df[['accident_severity']]"
   ]
  },
  {
   "cell_type": "code",
   "execution_count": 106,
   "id": "c83390f1",
   "metadata": {},
   "outputs": [
    {
     "data": {
      "text/plain": [
       "(146763, 19)"
      ]
     },
     "execution_count": 106,
     "metadata": {},
     "output_type": "execute_result"
    }
   ],
   "source": [
    "features1.shape"
   ]
  },
  {
   "cell_type": "code",
   "execution_count": 107,
   "id": "bf5d156f",
   "metadata": {},
   "outputs": [
    {
     "data": {
      "text/plain": [
       "(146763, 1)"
      ]
     },
     "execution_count": 107,
     "metadata": {},
     "output_type": "execute_result"
    }
   ],
   "source": [
    "target1.shape"
   ]
  },
  {
   "cell_type": "code",
   "execution_count": 108,
   "id": "064524fa",
   "metadata": {},
   "outputs": [],
   "source": [
    "X_train, X_test, y_train, y_test = train_test_split(features1,target1, train_size=0.7, test_size=0.3, shuffle=True, stratify=target, random_state=42)\n"
   ]
  },
  {
   "cell_type": "code",
   "execution_count": 109,
   "id": "b1d55018",
   "metadata": {},
   "outputs": [
    {
     "data": {
      "text/plain": [
       "(102734, 19)"
      ]
     },
     "execution_count": 109,
     "metadata": {},
     "output_type": "execute_result"
    }
   ],
   "source": [
    "X_train.shape"
   ]
  },
  {
   "cell_type": "code",
   "execution_count": 110,
   "id": "015d72ac",
   "metadata": {},
   "outputs": [
    {
     "data": {
      "text/plain": [
       "(102734, 1)"
      ]
     },
     "execution_count": 110,
     "metadata": {},
     "output_type": "execute_result"
    }
   ],
   "source": [
    "y_train.shape"
   ]
  },
  {
   "cell_type": "code",
   "execution_count": 111,
   "id": "83ddace8",
   "metadata": {},
   "outputs": [
    {
     "data": {
      "text/plain": [
       "(44029, 1)"
      ]
     },
     "execution_count": 111,
     "metadata": {},
     "output_type": "execute_result"
    }
   ],
   "source": [
    "y_test.shape"
   ]
  },
  {
   "cell_type": "code",
   "execution_count": 112,
   "id": "b59556d6",
   "metadata": {},
   "outputs": [],
   "source": [
    "clf1 = RandomForestClassifier()"
   ]
  },
  {
   "cell_type": "code",
   "execution_count": 113,
   "id": "95308b6a",
   "metadata": {},
   "outputs": [
    {
     "data": {
      "text/plain": [
       "RandomForestClassifier()"
      ]
     },
     "execution_count": 113,
     "metadata": {},
     "output_type": "execute_result"
    }
   ],
   "source": [
    "#train the model\n",
    "clf1.fit(X_train, y_train.values.ravel())"
   ]
  },
  {
   "cell_type": "code",
   "execution_count": 114,
   "id": "e107b68e",
   "metadata": {},
   "outputs": [],
   "source": [
    "# performing predictions on the test dataset\n",
    "y_predi = clf1.predict(X_test)"
   ]
  },
  {
   "cell_type": "code",
   "execution_count": 115,
   "id": "3784f7eb",
   "metadata": {},
   "outputs": [
    {
     "name": "stdout",
     "output_type": "stream",
     "text": [
      "ACCURACY OF THE MODEL:  0.8632265098003589\n"
     ]
    }
   ],
   "source": [
    "print(\"ACCURACY OF THE MODEL: \", accuracy_score(y_test, y_predi))"
   ]
  },
  {
   "cell_type": "code",
   "execution_count": 116,
   "id": "e5decc01",
   "metadata": {},
   "outputs": [
    {
     "name": "stdout",
     "output_type": "stream",
     "text": [
      "              precision    recall  f1-score   support\n",
      "\n",
      "           1       0.91      0.88      0.90     14676\n",
      "           2       0.86      0.79      0.82     14676\n",
      "           3       0.83      0.92      0.87     14677\n",
      "\n",
      "    accuracy                           0.86     44029\n",
      "   macro avg       0.87      0.86      0.86     44029\n",
      "weighted avg       0.87      0.86      0.86     44029\n",
      "\n"
     ]
    }
   ],
   "source": [
    "#create a classification report\n",
    "print(classification_report(y_test, y_predi))"
   ]
  },
  {
   "cell_type": "markdown",
   "id": "bab43508",
   "metadata": {},
   "source": [
    "#### Hyperparameter Tuning"
   ]
  },
  {
   "cell_type": "code",
   "execution_count": 117,
   "id": "f79585ea",
   "metadata": {},
   "outputs": [],
   "source": [
    "#tune with Randomized Search CV\n",
    "n_estimators = [5,20,50,100] # number of trees in the random forest\n",
    "max_features = ['auto', 'sqrt'] # number of features in consideration at every split\n",
    "max_depth = [int(x) for x in np.linspace(10, 120, num = 12)] # maximum number of levels allowed in each decision tree\n",
    "min_samples_split= [2, 6, 10] # minimum sample number to split a node\n",
    "min_samples_leaf = [1, 3, 4] # minimum sample number that can be stored in a leaf node\n",
    "bootstrap = [True, False] # method used to sample data points\n",
    "\n",
    "random_search = {'n_estimators': n_estimators,\n",
    "\n",
    "'max_features': max_features,\n",
    "\n",
    "'max_depth': max_depth,\n",
    "\n",
    "'min_samples_split': min_samples_split,\n",
    "\n",
    "'min_samples_leaf': min_samples_leaf,\n",
    "\n",
    "'bootstrap': bootstrap}"
   ]
  },
  {
   "cell_type": "code",
   "execution_count": 118,
   "id": "105c8426",
   "metadata": {},
   "outputs": [],
   "source": [
    "from sklearn.model_selection import RandomizedSearchCV\n",
    "rf_random = RandomizedSearchCV(estimator = clf1,param_distributions = random_search,\n",
    "               n_iter = 10, cv = 5, verbose=2, random_state=35, n_jobs = -1)"
   ]
  },
  {
   "cell_type": "code",
   "execution_count": 119,
   "id": "0de10c7c",
   "metadata": {},
   "outputs": [
    {
     "name": "stdout",
     "output_type": "stream",
     "text": [
      "Fitting 5 folds for each of 10 candidates, totalling 50 fits\n"
     ]
    },
    {
     "data": {
      "text/plain": [
       "RandomizedSearchCV(cv=5, estimator=RandomForestClassifier(), n_jobs=-1,\n",
       "                   param_distributions={'bootstrap': [True, False],\n",
       "                                        'max_depth': [10, 20, 30, 40, 50, 60,\n",
       "                                                      70, 80, 90, 100, 110,\n",
       "                                                      120],\n",
       "                                        'max_features': ['auto', 'sqrt'],\n",
       "                                        'min_samples_leaf': [1, 3, 4],\n",
       "                                        'min_samples_split': [2, 6, 10],\n",
       "                                        'n_estimators': [5, 20, 50, 100]},\n",
       "                   random_state=35, verbose=2)"
      ]
     },
     "execution_count": 119,
     "metadata": {},
     "output_type": "execute_result"
    }
   ],
   "source": [
    "rf_random.fit(X_train, y_train.values.ravel())"
   ]
  },
  {
   "cell_type": "code",
   "execution_count": 120,
   "id": "514634b6",
   "metadata": {
    "scrolled": true
   },
   "outputs": [
    {
     "data": {
      "text/plain": [
       "{'n_estimators': 100,\n",
       " 'min_samples_split': 6,\n",
       " 'min_samples_leaf': 3,\n",
       " 'max_features': 'auto',\n",
       " 'max_depth': 120,\n",
       " 'bootstrap': False}"
      ]
     },
     "execution_count": 120,
     "metadata": {},
     "output_type": "execute_result"
    }
   ],
   "source": [
    "#get the best parameters\n",
    "rf_random.best_params_"
   ]
  },
  {
   "cell_type": "code",
   "execution_count": 125,
   "id": "4cb8db59",
   "metadata": {},
   "outputs": [
    {
     "data": {
      "text/plain": [
       "RandomForestClassifier(bootstrap=False, max_depth=120, min_samples_leaf=3,\n",
       "                       min_samples_split=6)"
      ]
     },
     "execution_count": 125,
     "metadata": {},
     "output_type": "execute_result"
    }
   ],
   "source": [
    "#fix in the best parameters into random forest and build a new model\n",
    "\n",
    "rfc = RandomForestClassifier(n_estimators=100, min_samples_split=6, min_samples_leaf=3, max_features='auto', max_depth=120, bootstrap=False)\n",
    "\n",
    "rfc.fit(X_train, y_train.values.ravel())"
   ]
  },
  {
   "cell_type": "code",
   "execution_count": 126,
   "id": "7b95c871",
   "metadata": {},
   "outputs": [],
   "source": [
    "y_pred2 = rfc.predict(X_test)"
   ]
  },
  {
   "cell_type": "code",
   "execution_count": 127,
   "id": "9343325b",
   "metadata": {},
   "outputs": [
    {
     "name": "stdout",
     "output_type": "stream",
     "text": [
      "ACCURACY OF THE MODEL:  0.8657475754616276\n"
     ]
    }
   ],
   "source": [
    "print(\"ACCURACY OF THE MODEL: \", accuracy_score(y_test, y_pred2))"
   ]
  },
  {
   "cell_type": "code",
   "execution_count": 128,
   "id": "2a21c88f",
   "metadata": {
    "scrolled": true
   },
   "outputs": [
    {
     "name": "stdout",
     "output_type": "stream",
     "text": [
      "              precision    recall  f1-score   support\n",
      "\n",
      "           1       0.93      0.88      0.90     14676\n",
      "           2       0.85      0.80      0.83     14676\n",
      "           3       0.83      0.92      0.87     14677\n",
      "\n",
      "    accuracy                           0.87     44029\n",
      "   macro avg       0.87      0.87      0.87     44029\n",
      "weighted avg       0.87      0.87      0.87     44029\n",
      "\n"
     ]
    }
   ],
   "source": [
    "#create a classification report\n",
    "print(classification_report(y_test, y_pred2))"
   ]
  },
  {
   "cell_type": "code",
   "execution_count": 130,
   "id": "e22b6a31",
   "metadata": {},
   "outputs": [
    {
     "data": {
      "image/png": "[encoded data removed]",
      "text/plain": [
       "<Figure size 216x216 with 1 Axes>"
      ]
     },
     "metadata": {
      "needs_background": "light"
     },
     "output_type": "display_data"
    }
   ],
   "source": [
    "# Create a more visual confusion matrix\n",
    "\n",
    "def plot_conf_mat(y_test, y_pred2):\n",
    "    \"\"\"\n",
    "    Plots a confusion matrix using seaborn's heatmap()\n",
    "    \"\"\"\n",
    "    fix, ax = plt.subplots(figsize=(3, 3))\n",
    "    ax = sns.heatmap(confusion_matrix(y_test, y_pred2),\n",
    "                     annot=True,\n",
    "                     cbar=False)\n",
    "    plt.xlabel(\"Predicted label\")\n",
    "    plt.ylabel(\"True label\")\n",
    "    \n",
    "plot_conf_mat(y_test, y_pred2)"
   ]
  },
  {
   "cell_type": "markdown",
   "id": "fb8930c8",
   "metadata": {},
   "source": [
    "### Export Model into pickle file"
   ]
  },
  {
   "cell_type": "code",
   "execution_count": 129,
   "id": "6617577e",
   "metadata": {},
   "outputs": [],
   "source": [
    "import pickle\n",
    "pickle.dump(rfc, open('final_pickle_rfc.pkl', 'wb'))"
   ]
  },
  {
   "cell_type": "code",
   "execution_count": null,
   "id": "88f815e2",
   "metadata": {},
   "outputs": [],
   "source": []
  }
 ],
 "metadata": {
  "kernelspec": {
   "display_name": "Python 3 (ipykernel)",
   "language": "python",
   "name": "python3"
  },
  "language_info": {
   "codemirror_mode": {
    "name": "ipython",
    "version": 3
   },
   "file_extension": ".py",
   "mimetype": "text/x-python",
   "name": "python",
   "nbconvert_exporter": "python",
   "pygments_lexer": "ipython3",
   "version": "3.9.12"
  }
 },
 "nbformat": 4,
 "nbformat_minor": 5
}
